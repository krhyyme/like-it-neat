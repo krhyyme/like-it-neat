{
 "cells": [
  {
   "cell_type": "code",
   "execution_count": 1,
   "metadata": {},
   "outputs": [],
   "source": [
    "import pandas as pd\n",
    "import numpy as np\n",
    "import matplotlib.pyplot as plt\n",
    "import seaborn as sns\n",
    "import numpy as np\n",
    "import pyLDAvis\n",
    "import pyLDAvis.sklearn\n",
    "from sklearn.feature_extraction.text import CountVectorizer, TfidfVectorizer\n",
    "from sklearn.decomposition import LatentDirichletAllocation\n",
    "from sklearn.model_selection import GridSearchCV\n",
    "import os"
   ]
  },
  {
   "cell_type": "code",
   "execution_count": 2,
   "metadata": {},
   "outputs": [],
   "source": [
    "pyLDAvis.enable_notebook()\n",
    "sns.set_style('darkgrid')"
   ]
  },
  {
   "cell_type": "code",
   "execution_count": 3,
   "metadata": {},
   "outputs": [],
   "source": [
    "os.chdir('../src/data_preprocessing')"
   ]
  },
  {
   "cell_type": "code",
   "execution_count": 4,
   "metadata": {},
   "outputs": [
    {
     "name": "stderr",
     "output_type": "stream",
     "text": [
      "/Users/karim/anaconda3/lib/python3.7/site-packages/nltk/decorators.py:70: DeprecationWarning: `formatargspec` is deprecated since Python 3.5. Use `signature` and the `Signature` object directly\n",
      "  formatvalue=lambda value: \"\")[1:-1]\n"
     ]
    }
   ],
   "source": [
    "from review_processing import *"
   ]
  },
  {
   "cell_type": "code",
   "execution_count": 5,
   "metadata": {},
   "outputs": [],
   "source": [
    "os.chdir('../../data/interim_data/')"
   ]
  },
  {
   "cell_type": "code",
   "execution_count": 6,
   "metadata": {},
   "outputs": [],
   "source": [
    "scraped_reviews = pd.read_csv('whisky_archive_scraped_reviews.csv', sep='|')"
   ]
  },
  {
   "cell_type": "code",
   "execution_count": 7,
   "metadata": {},
   "outputs": [],
   "source": [
    "scraped_reviews = scraped_reviews[~scraped_reviews['review_text'].isnull()]"
   ]
  },
  {
   "cell_type": "code",
   "execution_count": 8,
   "metadata": {},
   "outputs": [],
   "source": [
    "test = scraped_reviews['review_text'].iloc[-15:-1]"
   ]
  },
  {
   "cell_type": "code",
   "execution_count": 9,
   "metadata": {},
   "outputs": [],
   "source": [
    "processed_reviews = preprocess_reviews(scraped_reviews['review_text'])"
   ]
  },
  {
   "cell_type": "code",
   "execution_count": 10,
   "metadata": {},
   "outputs": [],
   "source": [
    "processed_reviews = processed_reviews.str.replace('scotchit|nbsp|youre|you|edition|abv', '')"
   ]
  },
  {
   "cell_type": "code",
   "execution_count": 11,
   "metadata": {},
   "outputs": [],
   "source": [
    "scraped_reviews['processed_reviews'] = processed_reviews.tolist()"
   ]
  },
  {
   "cell_type": "code",
   "execution_count": 12,
   "metadata": {},
   "outputs": [
    {
     "name": "stdout",
     "output_type": "stream",
     "text": [
      "(27234, 1000)\n"
     ]
    }
   ],
   "source": [
    "tf = TfidfVectorizer( max_features=1000)\n",
    "X = tf.fit_transform(scraped_reviews['processed_reviews'].tolist())\n",
    "\n",
    "print(X.shape)"
   ]
  },
  {
   "cell_type": "code",
   "execution_count": 13,
   "metadata": {},
   "outputs": [
    {
     "data": {
      "text/html": [
       "<div>\n",
       "<style scoped>\n",
       "    .dataframe tbody tr th:only-of-type {\n",
       "        vertical-align: middle;\n",
       "    }\n",
       "\n",
       "    .dataframe tbody tr th {\n",
       "        vertical-align: top;\n",
       "    }\n",
       "\n",
       "    .dataframe thead th {\n",
       "        text-align: right;\n",
       "    }\n",
       "</style>\n",
       "<table border=\"1\" class=\"dataframe\">\n",
       "  <thead>\n",
       "    <tr style=\"text-align: right;\">\n",
       "      <th></th>\n",
       "      <th>aberlour</th>\n",
       "      <th>able</th>\n",
       "      <th>absolutely</th>\n",
       "      <th>abunadh</th>\n",
       "      <th>acetone</th>\n",
       "      <th>across</th>\n",
       "      <th>actually</th>\n",
       "      <th>add</th>\n",
       "      <th>addition</th>\n",
       "      <th>aftertaste</th>\n",
       "      <th>...</th>\n",
       "      <th>wrong</th>\n",
       "      <th>yeah</th>\n",
       "      <th>year</th>\n",
       "      <th>yeast</th>\n",
       "      <th>yellow</th>\n",
       "      <th>yes</th>\n",
       "      <th>yet</th>\n",
       "      <th>yo</th>\n",
       "      <th>yr</th>\n",
       "      <th>zest</th>\n",
       "    </tr>\n",
       "  </thead>\n",
       "  <tbody>\n",
       "    <tr>\n",
       "      <th>0</th>\n",
       "      <td>0.0</td>\n",
       "      <td>0.0</td>\n",
       "      <td>0.0</td>\n",
       "      <td>0.0</td>\n",
       "      <td>0.0</td>\n",
       "      <td>0.0</td>\n",
       "      <td>0.0</td>\n",
       "      <td>0.0</td>\n",
       "      <td>0.0</td>\n",
       "      <td>0.0</td>\n",
       "      <td>...</td>\n",
       "      <td>0.0</td>\n",
       "      <td>0.0</td>\n",
       "      <td>0.062890</td>\n",
       "      <td>0.0</td>\n",
       "      <td>0.0</td>\n",
       "      <td>0.0</td>\n",
       "      <td>0.000000</td>\n",
       "      <td>0.0</td>\n",
       "      <td>0.0</td>\n",
       "      <td>0.0</td>\n",
       "    </tr>\n",
       "    <tr>\n",
       "      <th>1</th>\n",
       "      <td>0.0</td>\n",
       "      <td>0.0</td>\n",
       "      <td>0.0</td>\n",
       "      <td>0.0</td>\n",
       "      <td>0.0</td>\n",
       "      <td>0.0</td>\n",
       "      <td>0.0</td>\n",
       "      <td>0.0</td>\n",
       "      <td>0.0</td>\n",
       "      <td>0.0</td>\n",
       "      <td>...</td>\n",
       "      <td>0.0</td>\n",
       "      <td>0.0</td>\n",
       "      <td>0.155769</td>\n",
       "      <td>0.0</td>\n",
       "      <td>0.0</td>\n",
       "      <td>0.0</td>\n",
       "      <td>0.146713</td>\n",
       "      <td>0.0</td>\n",
       "      <td>0.0</td>\n",
       "      <td>0.0</td>\n",
       "    </tr>\n",
       "    <tr>\n",
       "      <th>2</th>\n",
       "      <td>0.0</td>\n",
       "      <td>0.0</td>\n",
       "      <td>0.0</td>\n",
       "      <td>0.0</td>\n",
       "      <td>0.0</td>\n",
       "      <td>0.0</td>\n",
       "      <td>0.0</td>\n",
       "      <td>0.0</td>\n",
       "      <td>0.0</td>\n",
       "      <td>0.0</td>\n",
       "      <td>...</td>\n",
       "      <td>0.0</td>\n",
       "      <td>0.0</td>\n",
       "      <td>0.000000</td>\n",
       "      <td>0.0</td>\n",
       "      <td>0.0</td>\n",
       "      <td>0.0</td>\n",
       "      <td>0.000000</td>\n",
       "      <td>0.0</td>\n",
       "      <td>0.0</td>\n",
       "      <td>0.0</td>\n",
       "    </tr>\n",
       "    <tr>\n",
       "      <th>3</th>\n",
       "      <td>0.0</td>\n",
       "      <td>0.0</td>\n",
       "      <td>0.0</td>\n",
       "      <td>0.0</td>\n",
       "      <td>0.0</td>\n",
       "      <td>0.0</td>\n",
       "      <td>0.0</td>\n",
       "      <td>0.0</td>\n",
       "      <td>0.0</td>\n",
       "      <td>0.0</td>\n",
       "      <td>...</td>\n",
       "      <td>0.0</td>\n",
       "      <td>0.0</td>\n",
       "      <td>0.076781</td>\n",
       "      <td>0.0</td>\n",
       "      <td>0.0</td>\n",
       "      <td>0.0</td>\n",
       "      <td>0.000000</td>\n",
       "      <td>0.0</td>\n",
       "      <td>0.0</td>\n",
       "      <td>0.0</td>\n",
       "    </tr>\n",
       "    <tr>\n",
       "      <th>4</th>\n",
       "      <td>0.0</td>\n",
       "      <td>0.0</td>\n",
       "      <td>0.0</td>\n",
       "      <td>0.0</td>\n",
       "      <td>0.0</td>\n",
       "      <td>0.0</td>\n",
       "      <td>0.0</td>\n",
       "      <td>0.0</td>\n",
       "      <td>0.0</td>\n",
       "      <td>0.0</td>\n",
       "      <td>...</td>\n",
       "      <td>0.0</td>\n",
       "      <td>0.0</td>\n",
       "      <td>0.084515</td>\n",
       "      <td>0.0</td>\n",
       "      <td>0.0</td>\n",
       "      <td>0.0</td>\n",
       "      <td>0.159202</td>\n",
       "      <td>0.0</td>\n",
       "      <td>0.0</td>\n",
       "      <td>0.0</td>\n",
       "    </tr>\n",
       "  </tbody>\n",
       "</table>\n",
       "<p>5 rows × 1000 columns</p>\n",
       "</div>"
      ],
      "text/plain": [
       "   aberlour  able  absolutely  abunadh  acetone  across  actually  add  \\\n",
       "0       0.0   0.0         0.0      0.0      0.0     0.0       0.0  0.0   \n",
       "1       0.0   0.0         0.0      0.0      0.0     0.0       0.0  0.0   \n",
       "2       0.0   0.0         0.0      0.0      0.0     0.0       0.0  0.0   \n",
       "3       0.0   0.0         0.0      0.0      0.0     0.0       0.0  0.0   \n",
       "4       0.0   0.0         0.0      0.0      0.0     0.0       0.0  0.0   \n",
       "\n",
       "   addition  aftertaste  ...   wrong  yeah      year  yeast  yellow  yes  \\\n",
       "0       0.0         0.0  ...     0.0   0.0  0.062890    0.0     0.0  0.0   \n",
       "1       0.0         0.0  ...     0.0   0.0  0.155769    0.0     0.0  0.0   \n",
       "2       0.0         0.0  ...     0.0   0.0  0.000000    0.0     0.0  0.0   \n",
       "3       0.0         0.0  ...     0.0   0.0  0.076781    0.0     0.0  0.0   \n",
       "4       0.0         0.0  ...     0.0   0.0  0.084515    0.0     0.0  0.0   \n",
       "\n",
       "        yet   yo   yr  zest  \n",
       "0  0.000000  0.0  0.0   0.0  \n",
       "1  0.146713  0.0  0.0   0.0  \n",
       "2  0.000000  0.0  0.0   0.0  \n",
       "3  0.000000  0.0  0.0   0.0  \n",
       "4  0.159202  0.0  0.0   0.0  \n",
       "\n",
       "[5 rows x 1000 columns]"
      ]
     },
     "execution_count": 13,
     "metadata": {},
     "output_type": "execute_result"
    }
   ],
   "source": [
    "pd.DataFrame(X.toarray(), columns=tf.get_feature_names()).head()"
   ]
  },
  {
   "cell_type": "code",
   "execution_count": 14,
   "metadata": {},
   "outputs": [],
   "source": [
    "lda = LatentDirichletAllocation(n_components=3, max_iter=5,\n",
    "                                learning_method='batch',\n",
    "                                learning_offset=50.,\n",
    "                                random_state=0,\n",
    "                                verbose=2,\n",
    "                                n_jobs=-1)\n"
   ]
  },
  {
   "cell_type": "code",
   "execution_count": 15,
   "metadata": {},
   "outputs": [],
   "source": [
    "search_params = {'n_components': [5,7,10], 'learning_decay': [0.1, 0.5, 0.7, 0.9]}\n",
    "grid_search = GridSearchCV(lda, param_grid=search_params, verbose=2)"
   ]
  },
  {
   "cell_type": "code",
   "execution_count": 16,
   "metadata": {},
   "outputs": [
    {
     "name": "stdout",
     "output_type": "stream",
     "text": [
      "Fitting 3 folds for each of 12 candidates, totalling 36 fits\n",
      "[CV] learning_decay=0.1, n_components=5 ..............................\n"
     ]
    },
    {
     "name": "stderr",
     "output_type": "stream",
     "text": [
      "[Parallel(n_jobs=12)]: Done   2 out of  12 | elapsed:    1.6s remaining:    8.0s\n",
      "[Parallel(n_jobs=12)]: Done  12 out of  12 | elapsed:    1.7s finished\n"
     ]
    },
    {
     "name": "stdout",
     "output_type": "stream",
     "text": [
      "iteration: 1 of max_iter: 5\n"
     ]
    },
    {
     "name": "stderr",
     "output_type": "stream",
     "text": [
      "[Parallel(n_jobs=12)]: Done   2 out of  12 | elapsed:    1.3s remaining:    6.4s\n",
      "[Parallel(n_jobs=12)]: Done  12 out of  12 | elapsed:    1.4s finished\n"
     ]
    },
    {
     "name": "stdout",
     "output_type": "stream",
     "text": [
      "iteration: 2 of max_iter: 5\n"
     ]
    },
    {
     "name": "stderr",
     "output_type": "stream",
     "text": [
      "[Parallel(n_jobs=12)]: Done   2 out of  12 | elapsed:    1.2s remaining:    6.2s\n",
      "[Parallel(n_jobs=12)]: Done  12 out of  12 | elapsed:    1.3s finished\n"
     ]
    },
    {
     "name": "stdout",
     "output_type": "stream",
     "text": [
      "iteration: 3 of max_iter: 5\n"
     ]
    },
    {
     "name": "stderr",
     "output_type": "stream",
     "text": [
      "[Parallel(n_jobs=12)]: Done   2 out of  12 | elapsed:    1.2s remaining:    6.2s\n",
      "[Parallel(n_jobs=12)]: Done  12 out of  12 | elapsed:    1.3s finished\n"
     ]
    },
    {
     "name": "stdout",
     "output_type": "stream",
     "text": [
      "iteration: 4 of max_iter: 5\n"
     ]
    },
    {
     "name": "stderr",
     "output_type": "stream",
     "text": [
      "[Parallel(n_jobs=12)]: Done   2 out of  12 | elapsed:    1.4s remaining:    7.1s\n",
      "[Parallel(n_jobs=12)]: Done  12 out of  12 | elapsed:    1.6s finished\n"
     ]
    },
    {
     "name": "stdout",
     "output_type": "stream",
     "text": [
      "iteration: 5 of max_iter: 5\n"
     ]
    },
    {
     "name": "stderr",
     "output_type": "stream",
     "text": [
      "[Parallel(n_jobs=12)]: Done   2 out of  12 | elapsed:    1.1s remaining:    5.5s\n",
      "[Parallel(n_jobs=12)]: Done  12 out of  12 | elapsed:    1.3s finished\n",
      "[Parallel(n_jobs=12)]: Done   2 out of  12 | elapsed:    0.4s remaining:    1.8s\n",
      "[Parallel(n_jobs=12)]: Done  12 out of  12 | elapsed:    0.5s finished\n",
      "[Parallel(n_jobs=12)]: Done   2 out of  12 | elapsed:    1.1s remaining:    5.4s\n",
      "[Parallel(n_jobs=12)]: Done  12 out of  12 | elapsed:    1.3s finished\n"
     ]
    },
    {
     "name": "stdout",
     "output_type": "stream",
     "text": [
      "[CV] ............... learning_decay=0.1, n_components=5, total=  11.3s\n",
      "[CV] learning_decay=0.1, n_components=5 ..............................\n"
     ]
    },
    {
     "name": "stderr",
     "output_type": "stream",
     "text": [
      "[Parallel(n_jobs=1)]: Done   1 out of   1 | elapsed:   13.7s remaining:    0.0s\n",
      "[Parallel(n_jobs=12)]: Done   2 out of  12 | elapsed:    1.7s remaining:    8.4s\n",
      "[Parallel(n_jobs=12)]: Done  12 out of  12 | elapsed:    1.8s finished\n"
     ]
    },
    {
     "name": "stdout",
     "output_type": "stream",
     "text": [
      "iteration: 1 of max_iter: 5\n"
     ]
    },
    {
     "name": "stderr",
     "output_type": "stream",
     "text": [
      "[Parallel(n_jobs=12)]: Done   2 out of  12 | elapsed:    1.5s remaining:    7.5s\n",
      "[Parallel(n_jobs=12)]: Done  12 out of  12 | elapsed:    1.7s finished\n"
     ]
    },
    {
     "name": "stdout",
     "output_type": "stream",
     "text": [
      "iteration: 2 of max_iter: 5\n"
     ]
    },
    {
     "name": "stderr",
     "output_type": "stream",
     "text": [
      "[Parallel(n_jobs=12)]: Done   2 out of  12 | elapsed:    1.5s remaining:    7.5s\n",
      "[Parallel(n_jobs=12)]: Done  12 out of  12 | elapsed:    1.7s finished\n"
     ]
    },
    {
     "name": "stdout",
     "output_type": "stream",
     "text": [
      "iteration: 3 of max_iter: 5\n"
     ]
    },
    {
     "name": "stderr",
     "output_type": "stream",
     "text": [
      "[Parallel(n_jobs=12)]: Done   2 out of  12 | elapsed:    1.4s remaining:    7.0s\n",
      "[Parallel(n_jobs=12)]: Done  12 out of  12 | elapsed:    1.6s finished\n"
     ]
    },
    {
     "name": "stdout",
     "output_type": "stream",
     "text": [
      "iteration: 4 of max_iter: 5\n"
     ]
    },
    {
     "name": "stderr",
     "output_type": "stream",
     "text": [
      "[Parallel(n_jobs=12)]: Done   2 out of  12 | elapsed:    1.4s remaining:    7.1s\n",
      "[Parallel(n_jobs=12)]: Done  12 out of  12 | elapsed:    1.6s finished\n"
     ]
    },
    {
     "name": "stdout",
     "output_type": "stream",
     "text": [
      "iteration: 5 of max_iter: 5\n"
     ]
    },
    {
     "name": "stderr",
     "output_type": "stream",
     "text": [
      "[Parallel(n_jobs=12)]: Done   2 out of  12 | elapsed:    1.2s remaining:    6.2s\n",
      "[Parallel(n_jobs=12)]: Done  12 out of  12 | elapsed:    1.4s finished\n",
      "[Parallel(n_jobs=12)]: Done   2 out of  12 | elapsed:    0.4s remaining:    1.8s\n",
      "[Parallel(n_jobs=12)]: Done  12 out of  12 | elapsed:    0.5s finished\n",
      "[Parallel(n_jobs=12)]: Done   2 out of  12 | elapsed:    1.2s remaining:    6.1s\n",
      "[Parallel(n_jobs=12)]: Done  12 out of  12 | elapsed:    1.3s finished\n"
     ]
    },
    {
     "name": "stdout",
     "output_type": "stream",
     "text": [
      "[CV] ............... learning_decay=0.1, n_components=5, total=  12.4s\n",
      "[CV] learning_decay=0.1, n_components=5 ..............................\n"
     ]
    },
    {
     "name": "stderr",
     "output_type": "stream",
     "text": [
      "[Parallel(n_jobs=12)]: Done   2 out of  12 | elapsed:    1.7s remaining:    8.5s\n",
      "[Parallel(n_jobs=12)]: Done  12 out of  12 | elapsed:    1.8s finished\n"
     ]
    },
    {
     "name": "stdout",
     "output_type": "stream",
     "text": [
      "iteration: 1 of max_iter: 5\n"
     ]
    },
    {
     "name": "stderr",
     "output_type": "stream",
     "text": [
      "[Parallel(n_jobs=12)]: Done   2 out of  12 | elapsed:    1.5s remaining:    7.3s\n",
      "[Parallel(n_jobs=12)]: Done  12 out of  12 | elapsed:    1.7s finished\n"
     ]
    },
    {
     "name": "stdout",
     "output_type": "stream",
     "text": [
      "iteration: 2 of max_iter: 5\n"
     ]
    },
    {
     "name": "stderr",
     "output_type": "stream",
     "text": [
      "[Parallel(n_jobs=12)]: Done   2 out of  12 | elapsed:    1.5s remaining:    7.3s\n",
      "[Parallel(n_jobs=12)]: Done  12 out of  12 | elapsed:    1.6s finished\n"
     ]
    },
    {
     "name": "stdout",
     "output_type": "stream",
     "text": [
      "iteration: 3 of max_iter: 5\n"
     ]
    },
    {
     "name": "stderr",
     "output_type": "stream",
     "text": [
      "[Parallel(n_jobs=12)]: Done   2 out of  12 | elapsed:    1.6s remaining:    7.9s\n",
      "[Parallel(n_jobs=12)]: Done  12 out of  12 | elapsed:    1.7s finished\n"
     ]
    },
    {
     "name": "stdout",
     "output_type": "stream",
     "text": [
      "iteration: 4 of max_iter: 5\n"
     ]
    },
    {
     "name": "stderr",
     "output_type": "stream",
     "text": [
      "[Parallel(n_jobs=12)]: Done   2 out of  12 | elapsed:    1.6s remaining:    8.1s\n"
     ]
    },
    {
     "name": "stdout",
     "output_type": "stream",
     "text": [
      "iteration: 5 of max_iter: 5\n"
     ]
    },
    {
     "name": "stderr",
     "output_type": "stream",
     "text": [
      "[Parallel(n_jobs=12)]: Done  12 out of  12 | elapsed:    2.0s finished\n",
      "[Parallel(n_jobs=12)]: Done   2 out of  12 | elapsed:    1.3s remaining:    6.5s\n",
      "[Parallel(n_jobs=12)]: Done  12 out of  12 | elapsed:    1.6s finished\n",
      "[Parallel(n_jobs=12)]: Done   2 out of  12 | elapsed:    0.4s remaining:    2.2s\n",
      "[Parallel(n_jobs=12)]: Done  12 out of  12 | elapsed:    0.5s finished\n",
      "[Parallel(n_jobs=12)]: Done   2 out of  12 | elapsed:    1.3s remaining:    6.3s\n",
      "[Parallel(n_jobs=12)]: Done  12 out of  12 | elapsed:    1.5s finished\n"
     ]
    },
    {
     "name": "stdout",
     "output_type": "stream",
     "text": [
      "[CV] ............... learning_decay=0.1, n_components=5, total=  13.0s\n",
      "[CV] learning_decay=0.1, n_components=7 ..............................\n"
     ]
    },
    {
     "name": "stderr",
     "output_type": "stream",
     "text": [
      "[Parallel(n_jobs=12)]: Done   2 out of  12 | elapsed:    1.4s remaining:    7.0s\n",
      "[Parallel(n_jobs=12)]: Done  12 out of  12 | elapsed:    1.5s finished\n"
     ]
    },
    {
     "name": "stdout",
     "output_type": "stream",
     "text": [
      "iteration: 1 of max_iter: 5\n"
     ]
    },
    {
     "name": "stderr",
     "output_type": "stream",
     "text": [
      "[Parallel(n_jobs=12)]: Done   2 out of  12 | elapsed:    1.3s remaining:    6.3s\n",
      "[Parallel(n_jobs=12)]: Done  12 out of  12 | elapsed:    1.4s finished\n"
     ]
    },
    {
     "name": "stdout",
     "output_type": "stream",
     "text": [
      "iteration: 2 of max_iter: 5\n"
     ]
    },
    {
     "name": "stderr",
     "output_type": "stream",
     "text": [
      "[Parallel(n_jobs=12)]: Done   2 out of  12 | elapsed:    1.2s remaining:    6.0s\n",
      "[Parallel(n_jobs=12)]: Done  12 out of  12 | elapsed:    1.3s finished\n"
     ]
    },
    {
     "name": "stdout",
     "output_type": "stream",
     "text": [
      "iteration: 3 of max_iter: 5\n"
     ]
    },
    {
     "name": "stderr",
     "output_type": "stream",
     "text": [
      "[Parallel(n_jobs=12)]: Done   2 out of  12 | elapsed:    1.2s remaining:    5.9s\n",
      "[Parallel(n_jobs=12)]: Done  12 out of  12 | elapsed:    1.3s finished\n"
     ]
    },
    {
     "name": "stdout",
     "output_type": "stream",
     "text": [
      "iteration: 4 of max_iter: 5\n"
     ]
    },
    {
     "name": "stderr",
     "output_type": "stream",
     "text": [
      "[Parallel(n_jobs=12)]: Done   2 out of  12 | elapsed:    1.3s remaining:    6.3s\n",
      "[Parallel(n_jobs=12)]: Done  12 out of  12 | elapsed:    1.4s finished\n"
     ]
    },
    {
     "name": "stdout",
     "output_type": "stream",
     "text": [
      "iteration: 5 of max_iter: 5\n"
     ]
    },
    {
     "name": "stderr",
     "output_type": "stream",
     "text": [
      "[Parallel(n_jobs=12)]: Done   2 out of  12 | elapsed:    1.1s remaining:    5.5s\n",
      "[Parallel(n_jobs=12)]: Done  12 out of  12 | elapsed:    1.3s finished\n",
      "[Parallel(n_jobs=12)]: Done   2 out of  12 | elapsed:    0.4s remaining:    1.9s\n",
      "[Parallel(n_jobs=12)]: Done  12 out of  12 | elapsed:    0.4s finished\n",
      "[Parallel(n_jobs=12)]: Done   2 out of  12 | elapsed:    1.0s remaining:    5.1s\n",
      "[Parallel(n_jobs=12)]: Done  12 out of  12 | elapsed:    1.2s finished\n"
     ]
    },
    {
     "name": "stdout",
     "output_type": "stream",
     "text": [
      "[CV] ............... learning_decay=0.1, n_components=7, total=  10.8s\n",
      "[CV] learning_decay=0.1, n_components=7 ..............................\n"
     ]
    },
    {
     "name": "stderr",
     "output_type": "stream",
     "text": [
      "[Parallel(n_jobs=12)]: Done   2 out of  12 | elapsed:    1.4s remaining:    7.0s\n",
      "[Parallel(n_jobs=12)]: Done  12 out of  12 | elapsed:    1.5s finished\n"
     ]
    },
    {
     "name": "stdout",
     "output_type": "stream",
     "text": [
      "iteration: 1 of max_iter: 5\n"
     ]
    },
    {
     "name": "stderr",
     "output_type": "stream",
     "text": [
      "[Parallel(n_jobs=12)]: Done   2 out of  12 | elapsed:    1.2s remaining:    6.0s\n",
      "[Parallel(n_jobs=12)]: Done  12 out of  12 | elapsed:    1.3s finished\n"
     ]
    },
    {
     "name": "stdout",
     "output_type": "stream",
     "text": [
      "iteration: 2 of max_iter: 5\n"
     ]
    },
    {
     "name": "stderr",
     "output_type": "stream",
     "text": [
      "[Parallel(n_jobs=12)]: Done   2 out of  12 | elapsed:    1.2s remaining:    5.9s\n",
      "[Parallel(n_jobs=12)]: Done  12 out of  12 | elapsed:    1.3s finished\n"
     ]
    },
    {
     "name": "stdout",
     "output_type": "stream",
     "text": [
      "iteration: 3 of max_iter: 5\n"
     ]
    },
    {
     "name": "stderr",
     "output_type": "stream",
     "text": [
      "[Parallel(n_jobs=12)]: Done   2 out of  12 | elapsed:    1.2s remaining:    6.2s\n",
      "[Parallel(n_jobs=12)]: Done  12 out of  12 | elapsed:    1.4s finished\n"
     ]
    },
    {
     "name": "stdout",
     "output_type": "stream",
     "text": [
      "iteration: 4 of max_iter: 5\n"
     ]
    },
    {
     "name": "stderr",
     "output_type": "stream",
     "text": [
      "[Parallel(n_jobs=12)]: Done   2 out of  12 | elapsed:    1.2s remaining:    6.0s\n",
      "[Parallel(n_jobs=12)]: Done  12 out of  12 | elapsed:    1.4s finished\n"
     ]
    },
    {
     "name": "stdout",
     "output_type": "stream",
     "text": [
      "iteration: 5 of max_iter: 5\n"
     ]
    },
    {
     "name": "stderr",
     "output_type": "stream",
     "text": [
      "[Parallel(n_jobs=12)]: Done   2 out of  12 | elapsed:    1.0s remaining:    5.1s\n",
      "[Parallel(n_jobs=12)]: Done  12 out of  12 | elapsed:    1.3s finished\n",
      "[Parallel(n_jobs=12)]: Done   2 out of  12 | elapsed:    0.3s remaining:    1.5s\n",
      "[Parallel(n_jobs=12)]: Done  12 out of  12 | elapsed:    0.4s finished\n",
      "[Parallel(n_jobs=12)]: Done   2 out of  12 | elapsed:    1.0s remaining:    5.2s\n",
      "[Parallel(n_jobs=12)]: Done  12 out of  12 | elapsed:    1.2s finished\n"
     ]
    },
    {
     "name": "stdout",
     "output_type": "stream",
     "text": [
      "[CV] ............... learning_decay=0.1, n_components=7, total=  10.9s\n",
      "[CV] learning_decay=0.1, n_components=7 ..............................\n"
     ]
    },
    {
     "name": "stderr",
     "output_type": "stream",
     "text": [
      "[Parallel(n_jobs=12)]: Done   2 out of  12 | elapsed:    1.3s remaining:    6.7s\n",
      "[Parallel(n_jobs=12)]: Done  12 out of  12 | elapsed:    1.5s finished\n"
     ]
    },
    {
     "name": "stdout",
     "output_type": "stream",
     "text": [
      "iteration: 1 of max_iter: 5\n"
     ]
    },
    {
     "name": "stderr",
     "output_type": "stream",
     "text": [
      "[Parallel(n_jobs=12)]: Done   2 out of  12 | elapsed:    1.2s remaining:    5.8s\n",
      "[Parallel(n_jobs=12)]: Done  12 out of  12 | elapsed:    1.3s finished\n"
     ]
    },
    {
     "name": "stdout",
     "output_type": "stream",
     "text": [
      "iteration: 2 of max_iter: 5\n"
     ]
    },
    {
     "name": "stderr",
     "output_type": "stream",
     "text": [
      "[Parallel(n_jobs=12)]: Done   2 out of  12 | elapsed:    1.1s remaining:    5.6s\n",
      "[Parallel(n_jobs=12)]: Done  12 out of  12 | elapsed:    1.3s finished\n"
     ]
    },
    {
     "name": "stdout",
     "output_type": "stream",
     "text": [
      "iteration: 3 of max_iter: 5\n"
     ]
    },
    {
     "name": "stderr",
     "output_type": "stream",
     "text": [
      "[Parallel(n_jobs=12)]: Done   2 out of  12 | elapsed:    1.2s remaining:    6.2s\n",
      "[Parallel(n_jobs=12)]: Done  12 out of  12 | elapsed:    1.4s finished\n"
     ]
    },
    {
     "name": "stdout",
     "output_type": "stream",
     "text": [
      "iteration: 4 of max_iter: 5\n"
     ]
    },
    {
     "name": "stderr",
     "output_type": "stream",
     "text": [
      "[Parallel(n_jobs=12)]: Done   2 out of  12 | elapsed:    1.2s remaining:    5.9s\n",
      "[Parallel(n_jobs=12)]: Done  12 out of  12 | elapsed:    1.3s finished\n"
     ]
    },
    {
     "name": "stdout",
     "output_type": "stream",
     "text": [
      "iteration: 5 of max_iter: 5\n"
     ]
    },
    {
     "name": "stderr",
     "output_type": "stream",
     "text": [
      "[Parallel(n_jobs=12)]: Done   2 out of  12 | elapsed:    1.1s remaining:    5.5s\n",
      "[Parallel(n_jobs=12)]: Done  12 out of  12 | elapsed:    1.3s finished\n",
      "[Parallel(n_jobs=12)]: Done   2 out of  12 | elapsed:    0.4s remaining:    1.8s\n",
      "[Parallel(n_jobs=12)]: Done  12 out of  12 | elapsed:    0.4s finished\n",
      "[Parallel(n_jobs=12)]: Done   2 out of  12 | elapsed:    1.0s remaining:    5.1s\n",
      "[Parallel(n_jobs=12)]: Done  12 out of  12 | elapsed:    1.2s finished\n"
     ]
    },
    {
     "name": "stdout",
     "output_type": "stream",
     "text": [
      "[CV] ............... learning_decay=0.1, n_components=7, total=  10.7s\n",
      "[CV] learning_decay=0.1, n_components=10 .............................\n"
     ]
    },
    {
     "name": "stderr",
     "output_type": "stream",
     "text": [
      "[Parallel(n_jobs=12)]: Done   2 out of  12 | elapsed:    1.2s remaining:    6.1s\n",
      "[Parallel(n_jobs=12)]: Done  12 out of  12 | elapsed:    1.3s finished\n"
     ]
    },
    {
     "name": "stdout",
     "output_type": "stream",
     "text": [
      "iteration: 1 of max_iter: 5\n"
     ]
    },
    {
     "name": "stderr",
     "output_type": "stream",
     "text": [
      "[Parallel(n_jobs=12)]: Done   2 out of  12 | elapsed:    1.1s remaining:    5.4s\n",
      "[Parallel(n_jobs=12)]: Done  12 out of  12 | elapsed:    1.2s finished\n"
     ]
    },
    {
     "name": "stdout",
     "output_type": "stream",
     "text": [
      "iteration: 2 of max_iter: 5\n"
     ]
    },
    {
     "name": "stderr",
     "output_type": "stream",
     "text": [
      "[Parallel(n_jobs=12)]: Done   2 out of  12 | elapsed:    1.0s remaining:    5.1s\n",
      "[Parallel(n_jobs=12)]: Done  12 out of  12 | elapsed:    1.1s finished\n"
     ]
    },
    {
     "name": "stdout",
     "output_type": "stream",
     "text": [
      "iteration: 3 of max_iter: 5\n"
     ]
    },
    {
     "name": "stderr",
     "output_type": "stream",
     "text": [
      "[Parallel(n_jobs=12)]: Done   2 out of  12 | elapsed:    1.2s remaining:    6.0s\n",
      "[Parallel(n_jobs=12)]: Done  12 out of  12 | elapsed:    1.3s finished\n"
     ]
    },
    {
     "name": "stdout",
     "output_type": "stream",
     "text": [
      "iteration: 4 of max_iter: 5\n"
     ]
    },
    {
     "name": "stderr",
     "output_type": "stream",
     "text": [
      "[Parallel(n_jobs=12)]: Done   2 out of  12 | elapsed:    1.3s remaining:    6.3s\n",
      "[Parallel(n_jobs=12)]: Done  12 out of  12 | elapsed:    1.4s finished\n"
     ]
    },
    {
     "name": "stdout",
     "output_type": "stream",
     "text": [
      "iteration: 5 of max_iter: 5\n"
     ]
    },
    {
     "name": "stderr",
     "output_type": "stream",
     "text": [
      "[Parallel(n_jobs=12)]: Done   2 out of  12 | elapsed:    1.2s remaining:    5.8s\n",
      "[Parallel(n_jobs=12)]: Done  12 out of  12 | elapsed:    1.3s finished\n",
      "[Parallel(n_jobs=12)]: Done   2 out of  12 | elapsed:    0.4s remaining:    2.0s\n",
      "[Parallel(n_jobs=12)]: Done  12 out of  12 | elapsed:    0.4s finished\n",
      "[Parallel(n_jobs=12)]: Done   2 out of  12 | elapsed:    1.1s remaining:    5.5s\n",
      "[Parallel(n_jobs=12)]: Done  12 out of  12 | elapsed:    1.2s finished\n"
     ]
    },
    {
     "name": "stdout",
     "output_type": "stream",
     "text": [
      "[CV] .............. learning_decay=0.1, n_components=10, total=  10.7s\n",
      "[CV] learning_decay=0.1, n_components=10 .............................\n"
     ]
    },
    {
     "name": "stderr",
     "output_type": "stream",
     "text": [
      "[Parallel(n_jobs=12)]: Done   2 out of  12 | elapsed:    1.2s remaining:    6.0s\n",
      "[Parallel(n_jobs=12)]: Done  12 out of  12 | elapsed:    1.3s finished\n"
     ]
    },
    {
     "name": "stdout",
     "output_type": "stream",
     "text": [
      "iteration: 1 of max_iter: 5\n"
     ]
    },
    {
     "name": "stderr",
     "output_type": "stream",
     "text": [
      "[Parallel(n_jobs=12)]: Done   2 out of  12 | elapsed:    1.1s remaining:    5.4s\n",
      "[Parallel(n_jobs=12)]: Done  12 out of  12 | elapsed:    1.2s finished\n"
     ]
    },
    {
     "name": "stdout",
     "output_type": "stream",
     "text": [
      "iteration: 2 of max_iter: 5\n"
     ]
    },
    {
     "name": "stderr",
     "output_type": "stream",
     "text": [
      "[Parallel(n_jobs=12)]: Done   2 out of  12 | elapsed:    1.2s remaining:    5.8s\n",
      "[Parallel(n_jobs=12)]: Done  12 out of  12 | elapsed:    1.3s finished\n"
     ]
    },
    {
     "name": "stdout",
     "output_type": "stream",
     "text": [
      "iteration: 3 of max_iter: 5\n"
     ]
    },
    {
     "name": "stderr",
     "output_type": "stream",
     "text": [
      "[Parallel(n_jobs=12)]: Done   2 out of  12 | elapsed:    1.2s remaining:    6.2s\n",
      "[Parallel(n_jobs=12)]: Done  12 out of  12 | elapsed:    1.4s finished\n"
     ]
    },
    {
     "name": "stdout",
     "output_type": "stream",
     "text": [
      "iteration: 4 of max_iter: 5\n"
     ]
    },
    {
     "name": "stderr",
     "output_type": "stream",
     "text": [
      "[Parallel(n_jobs=12)]: Done   2 out of  12 | elapsed:    1.2s remaining:    6.2s\n",
      "[Parallel(n_jobs=12)]: Done  12 out of  12 | elapsed:    1.4s finished\n"
     ]
    },
    {
     "name": "stdout",
     "output_type": "stream",
     "text": [
      "iteration: 5 of max_iter: 5\n"
     ]
    },
    {
     "name": "stderr",
     "output_type": "stream",
     "text": [
      "[Parallel(n_jobs=12)]: Done   2 out of  12 | elapsed:    1.1s remaining:    5.6s\n",
      "[Parallel(n_jobs=12)]: Done  12 out of  12 | elapsed:    1.3s finished\n",
      "[Parallel(n_jobs=12)]: Done   2 out of  12 | elapsed:    0.3s remaining:    1.6s\n",
      "[Parallel(n_jobs=12)]: Done  12 out of  12 | elapsed:    0.4s finished\n",
      "[Parallel(n_jobs=12)]: Done   2 out of  12 | elapsed:    1.0s remaining:    4.8s\n",
      "[Parallel(n_jobs=12)]: Done  12 out of  12 | elapsed:    1.1s finished\n"
     ]
    },
    {
     "name": "stdout",
     "output_type": "stream",
     "text": [
      "[CV] .............. learning_decay=0.1, n_components=10, total=  10.5s\n",
      "[CV] learning_decay=0.1, n_components=10 .............................\n"
     ]
    },
    {
     "name": "stderr",
     "output_type": "stream",
     "text": [
      "[Parallel(n_jobs=12)]: Done   2 out of  12 | elapsed:    1.3s remaining:    6.6s\n",
      "[Parallel(n_jobs=12)]: Done  12 out of  12 | elapsed:    1.4s finished\n"
     ]
    },
    {
     "name": "stdout",
     "output_type": "stream",
     "text": [
      "iteration: 1 of max_iter: 5\n"
     ]
    },
    {
     "name": "stderr",
     "output_type": "stream",
     "text": [
      "[Parallel(n_jobs=12)]: Done   2 out of  12 | elapsed:    1.1s remaining:    5.4s\n",
      "[Parallel(n_jobs=12)]: Done  12 out of  12 | elapsed:    1.2s finished\n"
     ]
    },
    {
     "name": "stdout",
     "output_type": "stream",
     "text": [
      "iteration: 2 of max_iter: 5\n"
     ]
    },
    {
     "name": "stderr",
     "output_type": "stream",
     "text": [
      "[Parallel(n_jobs=12)]: Done   2 out of  12 | elapsed:    1.2s remaining:    5.8s\n",
      "[Parallel(n_jobs=12)]: Done  12 out of  12 | elapsed:    1.3s finished\n"
     ]
    },
    {
     "name": "stdout",
     "output_type": "stream",
     "text": [
      "iteration: 3 of max_iter: 5\n"
     ]
    },
    {
     "name": "stderr",
     "output_type": "stream",
     "text": [
      "[Parallel(n_jobs=12)]: Done   2 out of  12 | elapsed:    1.3s remaining:    6.6s\n",
      "[Parallel(n_jobs=12)]: Done  12 out of  12 | elapsed:    1.5s finished\n"
     ]
    },
    {
     "name": "stdout",
     "output_type": "stream",
     "text": [
      "iteration: 4 of max_iter: 5\n"
     ]
    },
    {
     "name": "stderr",
     "output_type": "stream",
     "text": [
      "[Parallel(n_jobs=12)]: Done   2 out of  12 | elapsed:    1.3s remaining:    6.6s\n",
      "[Parallel(n_jobs=12)]: Done  12 out of  12 | elapsed:    1.5s finished\n"
     ]
    },
    {
     "name": "stdout",
     "output_type": "stream",
     "text": [
      "iteration: 5 of max_iter: 5\n"
     ]
    },
    {
     "name": "stderr",
     "output_type": "stream",
     "text": [
      "[Parallel(n_jobs=12)]: Done   2 out of  12 | elapsed:    1.1s remaining:    5.4s\n",
      "[Parallel(n_jobs=12)]: Done  12 out of  12 | elapsed:    1.3s finished\n",
      "[Parallel(n_jobs=12)]: Done   2 out of  12 | elapsed:    0.4s remaining:    1.9s\n",
      "[Parallel(n_jobs=12)]: Done  12 out of  12 | elapsed:    0.4s finished\n",
      "[Parallel(n_jobs=12)]: Done   2 out of  12 | elapsed:    1.0s remaining:    5.1s\n",
      "[Parallel(n_jobs=12)]: Done  12 out of  12 | elapsed:    1.2s finished\n"
     ]
    },
    {
     "name": "stdout",
     "output_type": "stream",
     "text": [
      "[CV] .............. learning_decay=0.1, n_components=10, total=  10.9s\n",
      "[CV] learning_decay=0.5, n_components=5 ..............................\n"
     ]
    },
    {
     "name": "stderr",
     "output_type": "stream",
     "text": [
      "[Parallel(n_jobs=12)]: Done   2 out of  12 | elapsed:    1.7s remaining:    8.5s\n",
      "[Parallel(n_jobs=12)]: Done  12 out of  12 | elapsed:    1.8s finished\n"
     ]
    },
    {
     "name": "stdout",
     "output_type": "stream",
     "text": [
      "iteration: 1 of max_iter: 5\n"
     ]
    },
    {
     "name": "stderr",
     "output_type": "stream",
     "text": [
      "[Parallel(n_jobs=12)]: Done   2 out of  12 | elapsed:    1.4s remaining:    7.2s\n",
      "[Parallel(n_jobs=12)]: Done  12 out of  12 | elapsed:    1.6s finished\n"
     ]
    },
    {
     "name": "stdout",
     "output_type": "stream",
     "text": [
      "iteration: 2 of max_iter: 5\n"
     ]
    },
    {
     "name": "stderr",
     "output_type": "stream",
     "text": [
      "[Parallel(n_jobs=12)]: Done   2 out of  12 | elapsed:    1.5s remaining:    7.4s\n",
      "[Parallel(n_jobs=12)]: Done  12 out of  12 | elapsed:    1.6s finished\n"
     ]
    },
    {
     "name": "stdout",
     "output_type": "stream",
     "text": [
      "iteration: 3 of max_iter: 5\n"
     ]
    },
    {
     "name": "stderr",
     "output_type": "stream",
     "text": [
      "[Parallel(n_jobs=12)]: Done   2 out of  12 | elapsed:    1.5s remaining:    7.3s\n",
      "[Parallel(n_jobs=12)]: Done  12 out of  12 | elapsed:    1.6s finished\n"
     ]
    },
    {
     "name": "stdout",
     "output_type": "stream",
     "text": [
      "iteration: 4 of max_iter: 5\n"
     ]
    },
    {
     "name": "stderr",
     "output_type": "stream",
     "text": [
      "[Parallel(n_jobs=12)]: Done   2 out of  12 | elapsed:    1.4s remaining:    7.1s\n",
      "[Parallel(n_jobs=12)]: Done  12 out of  12 | elapsed:    1.6s finished\n"
     ]
    },
    {
     "name": "stdout",
     "output_type": "stream",
     "text": [
      "iteration: 5 of max_iter: 5\n"
     ]
    },
    {
     "name": "stderr",
     "output_type": "stream",
     "text": [
      "[Parallel(n_jobs=12)]: Done   2 out of  12 | elapsed:    1.2s remaining:    6.1s\n",
      "[Parallel(n_jobs=12)]: Done  12 out of  12 | elapsed:    1.4s finished\n",
      "[Parallel(n_jobs=12)]: Done   2 out of  12 | elapsed:    0.4s remaining:    1.8s\n",
      "[Parallel(n_jobs=12)]: Done  12 out of  12 | elapsed:    0.4s finished\n",
      "[Parallel(n_jobs=12)]: Done   2 out of  12 | elapsed:    1.0s remaining:    5.1s\n",
      "[Parallel(n_jobs=12)]: Done  12 out of  12 | elapsed:    1.2s finished\n"
     ]
    },
    {
     "name": "stdout",
     "output_type": "stream",
     "text": [
      "[CV] ............... learning_decay=0.5, n_components=5, total=  12.1s\n",
      "[CV] learning_decay=0.5, n_components=5 ..............................\n"
     ]
    },
    {
     "name": "stderr",
     "output_type": "stream",
     "text": [
      "[Parallel(n_jobs=12)]: Done   2 out of  12 | elapsed:    1.5s remaining:    7.7s\n",
      "[Parallel(n_jobs=12)]: Done  12 out of  12 | elapsed:    1.7s finished\n"
     ]
    },
    {
     "name": "stdout",
     "output_type": "stream",
     "text": [
      "iteration: 1 of max_iter: 5\n"
     ]
    },
    {
     "name": "stderr",
     "output_type": "stream",
     "text": [
      "[Parallel(n_jobs=12)]: Done   2 out of  12 | elapsed:    1.3s remaining:    6.7s\n",
      "[Parallel(n_jobs=12)]: Done  12 out of  12 | elapsed:    1.5s finished\n"
     ]
    },
    {
     "name": "stdout",
     "output_type": "stream",
     "text": [
      "iteration: 2 of max_iter: 5\n"
     ]
    },
    {
     "name": "stderr",
     "output_type": "stream",
     "text": [
      "[Parallel(n_jobs=12)]: Done   2 out of  12 | elapsed:    1.3s remaining:    6.7s\n",
      "[Parallel(n_jobs=12)]: Done  12 out of  12 | elapsed:    1.5s finished\n"
     ]
    },
    {
     "name": "stdout",
     "output_type": "stream",
     "text": [
      "iteration: 3 of max_iter: 5\n"
     ]
    },
    {
     "name": "stderr",
     "output_type": "stream",
     "text": [
      "[Parallel(n_jobs=12)]: Done   2 out of  12 | elapsed:    1.4s remaining:    6.8s\n",
      "[Parallel(n_jobs=12)]: Done  12 out of  12 | elapsed:    1.5s finished\n"
     ]
    },
    {
     "name": "stdout",
     "output_type": "stream",
     "text": [
      "iteration: 4 of max_iter: 5\n"
     ]
    },
    {
     "name": "stderr",
     "output_type": "stream",
     "text": [
      "[Parallel(n_jobs=12)]: Done   2 out of  12 | elapsed:    1.4s remaining:    7.0s\n",
      "[Parallel(n_jobs=12)]: Done  12 out of  12 | elapsed:    1.6s finished\n"
     ]
    },
    {
     "name": "stdout",
     "output_type": "stream",
     "text": [
      "iteration: 5 of max_iter: 5\n"
     ]
    },
    {
     "name": "stderr",
     "output_type": "stream",
     "text": [
      "[Parallel(n_jobs=12)]: Done   2 out of  12 | elapsed:    1.2s remaining:    6.2s\n",
      "[Parallel(n_jobs=12)]: Done  12 out of  12 | elapsed:    1.4s finished\n",
      "[Parallel(n_jobs=12)]: Done   2 out of  12 | elapsed:    0.3s remaining:    1.6s\n",
      "[Parallel(n_jobs=12)]: Done  12 out of  12 | elapsed:    0.4s finished\n",
      "[Parallel(n_jobs=12)]: Done   2 out of  12 | elapsed:    1.2s remaining:    5.8s\n",
      "[Parallel(n_jobs=12)]: Done  12 out of  12 | elapsed:    1.3s finished\n"
     ]
    },
    {
     "name": "stdout",
     "output_type": "stream",
     "text": [
      "[CV] ............... learning_decay=0.5, n_components=5, total=  11.7s\n",
      "[CV] learning_decay=0.5, n_components=5 ..............................\n"
     ]
    },
    {
     "name": "stderr",
     "output_type": "stream",
     "text": [
      "[Parallel(n_jobs=12)]: Done   2 out of  12 | elapsed:    1.6s remaining:    7.9s\n",
      "[Parallel(n_jobs=12)]: Done  12 out of  12 | elapsed:    1.7s finished\n"
     ]
    },
    {
     "name": "stdout",
     "output_type": "stream",
     "text": [
      "iteration: 1 of max_iter: 5\n"
     ]
    },
    {
     "name": "stderr",
     "output_type": "stream",
     "text": [
      "[Parallel(n_jobs=12)]: Done   2 out of  12 | elapsed:    1.4s remaining:    6.9s\n",
      "[Parallel(n_jobs=12)]: Done  12 out of  12 | elapsed:    1.5s finished\n"
     ]
    },
    {
     "name": "stdout",
     "output_type": "stream",
     "text": [
      "iteration: 2 of max_iter: 5\n"
     ]
    },
    {
     "name": "stderr",
     "output_type": "stream",
     "text": [
      "[Parallel(n_jobs=12)]: Done   2 out of  12 | elapsed:    1.4s remaining:    7.0s\n",
      "[Parallel(n_jobs=12)]: Done  12 out of  12 | elapsed:    1.5s finished\n"
     ]
    },
    {
     "name": "stdout",
     "output_type": "stream",
     "text": [
      "iteration: 3 of max_iter: 5\n"
     ]
    },
    {
     "name": "stderr",
     "output_type": "stream",
     "text": [
      "[Parallel(n_jobs=12)]: Done   2 out of  12 | elapsed:    1.4s remaining:    6.8s\n",
      "[Parallel(n_jobs=12)]: Done  12 out of  12 | elapsed:    1.5s finished\n"
     ]
    },
    {
     "name": "stdout",
     "output_type": "stream",
     "text": [
      "iteration: 4 of max_iter: 5\n"
     ]
    },
    {
     "name": "stderr",
     "output_type": "stream",
     "text": [
      "[Parallel(n_jobs=12)]: Done   2 out of  12 | elapsed:    1.5s remaining:    7.3s\n",
      "[Parallel(n_jobs=12)]: Done  12 out of  12 | elapsed:    1.7s finished\n"
     ]
    },
    {
     "name": "stdout",
     "output_type": "stream",
     "text": [
      "iteration: 5 of max_iter: 5\n"
     ]
    },
    {
     "name": "stderr",
     "output_type": "stream",
     "text": [
      "[Parallel(n_jobs=12)]: Done   2 out of  12 | elapsed:    1.2s remaining:    5.9s\n",
      "[Parallel(n_jobs=12)]: Done  12 out of  12 | elapsed:    1.4s finished\n",
      "[Parallel(n_jobs=12)]: Done   2 out of  12 | elapsed:    0.4s remaining:    2.0s\n",
      "[Parallel(n_jobs=12)]: Done  12 out of  12 | elapsed:    0.5s finished\n",
      "[Parallel(n_jobs=12)]: Done   2 out of  12 | elapsed:    1.2s remaining:    5.9s\n",
      "[Parallel(n_jobs=12)]: Done  12 out of  12 | elapsed:    1.4s finished\n"
     ]
    },
    {
     "name": "stdout",
     "output_type": "stream",
     "text": [
      "[CV] ............... learning_decay=0.5, n_components=5, total=  12.0s\n",
      "[CV] learning_decay=0.5, n_components=7 ..............................\n"
     ]
    },
    {
     "name": "stderr",
     "output_type": "stream",
     "text": [
      "[Parallel(n_jobs=12)]: Done   2 out of  12 | elapsed:    1.4s remaining:    6.9s\n",
      "[Parallel(n_jobs=12)]: Done  12 out of  12 | elapsed:    1.5s finished\n"
     ]
    },
    {
     "name": "stdout",
     "output_type": "stream",
     "text": [
      "iteration: 1 of max_iter: 5\n"
     ]
    },
    {
     "name": "stderr",
     "output_type": "stream",
     "text": [
      "[Parallel(n_jobs=12)]: Done   2 out of  12 | elapsed:    1.2s remaining:    6.1s\n",
      "[Parallel(n_jobs=12)]: Done  12 out of  12 | elapsed:    1.3s finished\n"
     ]
    },
    {
     "name": "stdout",
     "output_type": "stream",
     "text": [
      "iteration: 2 of max_iter: 5\n"
     ]
    },
    {
     "name": "stderr",
     "output_type": "stream",
     "text": [
      "[Parallel(n_jobs=12)]: Done   2 out of  12 | elapsed:    1.2s remaining:    6.0s\n",
      "[Parallel(n_jobs=12)]: Done  12 out of  12 | elapsed:    1.3s finished\n"
     ]
    },
    {
     "name": "stdout",
     "output_type": "stream",
     "text": [
      "iteration: 3 of max_iter: 5\n"
     ]
    },
    {
     "name": "stderr",
     "output_type": "stream",
     "text": [
      "[Parallel(n_jobs=12)]: Done   2 out of  12 | elapsed:    1.2s remaining:    5.9s\n",
      "[Parallel(n_jobs=12)]: Done  12 out of  12 | elapsed:    1.3s finished\n"
     ]
    },
    {
     "name": "stdout",
     "output_type": "stream",
     "text": [
      "iteration: 4 of max_iter: 5\n"
     ]
    },
    {
     "name": "stderr",
     "output_type": "stream",
     "text": [
      "[Parallel(n_jobs=12)]: Done   2 out of  12 | elapsed:    1.2s remaining:    5.8s\n",
      "[Parallel(n_jobs=12)]: Done  12 out of  12 | elapsed:    1.3s finished\n"
     ]
    },
    {
     "name": "stdout",
     "output_type": "stream",
     "text": [
      "iteration: 5 of max_iter: 5\n"
     ]
    },
    {
     "name": "stderr",
     "output_type": "stream",
     "text": [
      "[Parallel(n_jobs=12)]: Done   2 out of  12 | elapsed:    1.0s remaining:    5.1s\n",
      "[Parallel(n_jobs=12)]: Done  12 out of  12 | elapsed:    1.2s finished\n",
      "[Parallel(n_jobs=12)]: Done   2 out of  12 | elapsed:    0.3s remaining:    1.7s\n",
      "[Parallel(n_jobs=12)]: Done  12 out of  12 | elapsed:    0.4s finished\n",
      "[Parallel(n_jobs=12)]: Done   2 out of  12 | elapsed:    1.0s remaining:    4.8s\n",
      "[Parallel(n_jobs=12)]: Done  12 out of  12 | elapsed:    1.1s finished\n"
     ]
    },
    {
     "name": "stdout",
     "output_type": "stream",
     "text": [
      "[CV] ............... learning_decay=0.5, n_components=7, total=  10.5s\n",
      "[CV] learning_decay=0.5, n_components=7 ..............................\n"
     ]
    },
    {
     "name": "stderr",
     "output_type": "stream",
     "text": [
      "[Parallel(n_jobs=12)]: Done   2 out of  12 | elapsed:    1.3s remaining:    6.5s\n",
      "[Parallel(n_jobs=12)]: Done  12 out of  12 | elapsed:    1.4s finished\n"
     ]
    },
    {
     "name": "stdout",
     "output_type": "stream",
     "text": [
      "iteration: 1 of max_iter: 5\n"
     ]
    },
    {
     "name": "stderr",
     "output_type": "stream",
     "text": [
      "[Parallel(n_jobs=12)]: Done   2 out of  12 | elapsed:    1.1s remaining:    5.7s\n",
      "[Parallel(n_jobs=12)]: Done  12 out of  12 | elapsed:    1.2s finished\n"
     ]
    },
    {
     "name": "stdout",
     "output_type": "stream",
     "text": [
      "iteration: 2 of max_iter: 5\n"
     ]
    },
    {
     "name": "stderr",
     "output_type": "stream",
     "text": [
      "[Parallel(n_jobs=12)]: Done   2 out of  12 | elapsed:    1.1s remaining:    5.5s\n",
      "[Parallel(n_jobs=12)]: Done  12 out of  12 | elapsed:    1.2s finished\n"
     ]
    },
    {
     "name": "stdout",
     "output_type": "stream",
     "text": [
      "iteration: 3 of max_iter: 5\n"
     ]
    },
    {
     "name": "stderr",
     "output_type": "stream",
     "text": [
      "[Parallel(n_jobs=12)]: Done   2 out of  12 | elapsed:    1.1s remaining:    5.7s\n",
      "[Parallel(n_jobs=12)]: Done  12 out of  12 | elapsed:    1.3s finished\n"
     ]
    },
    {
     "name": "stdout",
     "output_type": "stream",
     "text": [
      "iteration: 4 of max_iter: 5\n"
     ]
    },
    {
     "name": "stderr",
     "output_type": "stream",
     "text": [
      "[Parallel(n_jobs=12)]: Done   2 out of  12 | elapsed:    1.2s remaining:    5.8s\n",
      "[Parallel(n_jobs=12)]: Done  12 out of  12 | elapsed:    1.3s finished\n"
     ]
    },
    {
     "name": "stdout",
     "output_type": "stream",
     "text": [
      "iteration: 5 of max_iter: 5\n"
     ]
    },
    {
     "name": "stderr",
     "output_type": "stream",
     "text": [
      "[Parallel(n_jobs=12)]: Done   2 out of  12 | elapsed:    1.0s remaining:    4.9s\n",
      "[Parallel(n_jobs=12)]: Done  12 out of  12 | elapsed:    1.2s finished\n",
      "[Parallel(n_jobs=12)]: Done   2 out of  12 | elapsed:    0.3s remaining:    1.3s\n",
      "[Parallel(n_jobs=12)]: Done  12 out of  12 | elapsed:    0.4s finished\n",
      "[Parallel(n_jobs=12)]: Done   2 out of  12 | elapsed:    0.9s remaining:    4.7s\n",
      "[Parallel(n_jobs=12)]: Done  12 out of  12 | elapsed:    1.1s finished\n"
     ]
    },
    {
     "name": "stdout",
     "output_type": "stream",
     "text": [
      "[CV] ............... learning_decay=0.5, n_components=7, total=  10.2s\n",
      "[CV] learning_decay=0.5, n_components=7 ..............................\n"
     ]
    },
    {
     "name": "stderr",
     "output_type": "stream",
     "text": [
      "[Parallel(n_jobs=12)]: Done   2 out of  12 | elapsed:    1.3s remaining:    6.4s\n",
      "[Parallel(n_jobs=12)]: Done  12 out of  12 | elapsed:    1.4s finished\n"
     ]
    },
    {
     "name": "stdout",
     "output_type": "stream",
     "text": [
      "iteration: 1 of max_iter: 5\n"
     ]
    },
    {
     "name": "stderr",
     "output_type": "stream",
     "text": [
      "[Parallel(n_jobs=12)]: Done   2 out of  12 | elapsed:    1.1s remaining:    5.6s\n",
      "[Parallel(n_jobs=12)]: Done  12 out of  12 | elapsed:    1.2s finished\n"
     ]
    },
    {
     "name": "stdout",
     "output_type": "stream",
     "text": [
      "iteration: 2 of max_iter: 5\n"
     ]
    },
    {
     "name": "stderr",
     "output_type": "stream",
     "text": [
      "[Parallel(n_jobs=12)]: Done   2 out of  12 | elapsed:    1.1s remaining:    5.5s\n",
      "[Parallel(n_jobs=12)]: Done  12 out of  12 | elapsed:    1.2s finished\n"
     ]
    },
    {
     "name": "stdout",
     "output_type": "stream",
     "text": [
      "iteration: 3 of max_iter: 5\n"
     ]
    },
    {
     "name": "stderr",
     "output_type": "stream",
     "text": [
      "[Parallel(n_jobs=12)]: Done   2 out of  12 | elapsed:    1.2s remaining:    6.1s\n",
      "[Parallel(n_jobs=12)]: Done  12 out of  12 | elapsed:    1.4s finished\n"
     ]
    },
    {
     "name": "stdout",
     "output_type": "stream",
     "text": [
      "iteration: 4 of max_iter: 5\n"
     ]
    },
    {
     "name": "stderr",
     "output_type": "stream",
     "text": [
      "[Parallel(n_jobs=12)]: Done   2 out of  12 | elapsed:    1.2s remaining:    6.2s\n",
      "[Parallel(n_jobs=12)]: Done  12 out of  12 | elapsed:    1.4s finished\n"
     ]
    },
    {
     "name": "stdout",
     "output_type": "stream",
     "text": [
      "iteration: 5 of max_iter: 5\n"
     ]
    },
    {
     "name": "stderr",
     "output_type": "stream",
     "text": [
      "[Parallel(n_jobs=12)]: Done   2 out of  12 | elapsed:    1.1s remaining:    5.3s\n",
      "[Parallel(n_jobs=12)]: Done  12 out of  12 | elapsed:    1.3s finished\n",
      "[Parallel(n_jobs=12)]: Done   2 out of  12 | elapsed:    0.3s remaining:    1.7s\n",
      "[Parallel(n_jobs=12)]: Done  12 out of  12 | elapsed:    0.4s finished\n",
      "[Parallel(n_jobs=12)]: Done   2 out of  12 | elapsed:    1.0s remaining:    5.0s\n",
      "[Parallel(n_jobs=12)]: Done  12 out of  12 | elapsed:    1.1s finished\n"
     ]
    },
    {
     "name": "stdout",
     "output_type": "stream",
     "text": [
      "[CV] ............... learning_decay=0.5, n_components=7, total=  10.5s\n",
      "[CV] learning_decay=0.5, n_components=10 .............................\n"
     ]
    },
    {
     "name": "stderr",
     "output_type": "stream",
     "text": [
      "[Parallel(n_jobs=12)]: Done   2 out of  12 | elapsed:    1.1s remaining:    5.7s\n",
      "[Parallel(n_jobs=12)]: Done  12 out of  12 | elapsed:    1.3s finished\n"
     ]
    },
    {
     "name": "stdout",
     "output_type": "stream",
     "text": [
      "iteration: 1 of max_iter: 5\n"
     ]
    },
    {
     "name": "stderr",
     "output_type": "stream",
     "text": [
      "[Parallel(n_jobs=12)]: Done   2 out of  12 | elapsed:    1.0s remaining:    5.1s\n",
      "[Parallel(n_jobs=12)]: Done  12 out of  12 | elapsed:    1.1s finished\n"
     ]
    },
    {
     "name": "stdout",
     "output_type": "stream",
     "text": [
      "iteration: 2 of max_iter: 5\n"
     ]
    },
    {
     "name": "stderr",
     "output_type": "stream",
     "text": [
      "[Parallel(n_jobs=12)]: Done   2 out of  12 | elapsed:    1.0s remaining:    5.2s\n",
      "[Parallel(n_jobs=12)]: Done  12 out of  12 | elapsed:    1.2s finished\n"
     ]
    },
    {
     "name": "stdout",
     "output_type": "stream",
     "text": [
      "iteration: 3 of max_iter: 5\n"
     ]
    },
    {
     "name": "stderr",
     "output_type": "stream",
     "text": [
      "[Parallel(n_jobs=12)]: Done   2 out of  12 | elapsed:    1.2s remaining:    5.8s\n",
      "[Parallel(n_jobs=12)]: Done  12 out of  12 | elapsed:    1.3s finished\n"
     ]
    },
    {
     "name": "stdout",
     "output_type": "stream",
     "text": [
      "iteration: 4 of max_iter: 5\n"
     ]
    },
    {
     "name": "stderr",
     "output_type": "stream",
     "text": [
      "[Parallel(n_jobs=12)]: Done   2 out of  12 | elapsed:    1.1s remaining:    5.7s\n",
      "[Parallel(n_jobs=12)]: Done  12 out of  12 | elapsed:    1.3s finished\n"
     ]
    },
    {
     "name": "stdout",
     "output_type": "stream",
     "text": [
      "iteration: 5 of max_iter: 5\n"
     ]
    },
    {
     "name": "stderr",
     "output_type": "stream",
     "text": [
      "[Parallel(n_jobs=12)]: Done   2 out of  12 | elapsed:    1.0s remaining:    5.1s\n",
      "[Parallel(n_jobs=12)]: Done  12 out of  12 | elapsed:    1.2s finished\n",
      "[Parallel(n_jobs=12)]: Done   2 out of  12 | elapsed:    0.4s remaining:    1.9s\n",
      "[Parallel(n_jobs=12)]: Done  12 out of  12 | elapsed:    0.4s finished\n",
      "[Parallel(n_jobs=12)]: Done   2 out of  12 | elapsed:    1.0s remaining:    4.8s\n",
      "[Parallel(n_jobs=12)]: Done  12 out of  12 | elapsed:    1.1s finished\n"
     ]
    },
    {
     "name": "stdout",
     "output_type": "stream",
     "text": [
      "[CV] .............. learning_decay=0.5, n_components=10, total=  10.2s\n",
      "[CV] learning_decay=0.5, n_components=10 .............................\n"
     ]
    },
    {
     "name": "stderr",
     "output_type": "stream",
     "text": [
      "[Parallel(n_jobs=12)]: Done   2 out of  12 | elapsed:    1.2s remaining:    6.1s\n",
      "[Parallel(n_jobs=12)]: Done  12 out of  12 | elapsed:    1.4s finished\n"
     ]
    },
    {
     "name": "stdout",
     "output_type": "stream",
     "text": [
      "iteration: 1 of max_iter: 5\n"
     ]
    },
    {
     "name": "stderr",
     "output_type": "stream",
     "text": [
      "[Parallel(n_jobs=12)]: Done   2 out of  12 | elapsed:    1.1s remaining:    5.6s\n",
      "[Parallel(n_jobs=12)]: Done  12 out of  12 | elapsed:    1.2s finished\n"
     ]
    },
    {
     "name": "stdout",
     "output_type": "stream",
     "text": [
      "iteration: 2 of max_iter: 5\n"
     ]
    },
    {
     "name": "stderr",
     "output_type": "stream",
     "text": [
      "[Parallel(n_jobs=12)]: Done   2 out of  12 | elapsed:    1.1s remaining:    5.7s\n",
      "[Parallel(n_jobs=12)]: Done  12 out of  12 | elapsed:    1.2s finished\n"
     ]
    },
    {
     "name": "stdout",
     "output_type": "stream",
     "text": [
      "iteration: 3 of max_iter: 5\n"
     ]
    },
    {
     "name": "stderr",
     "output_type": "stream",
     "text": [
      "[Parallel(n_jobs=12)]: Done   2 out of  12 | elapsed:    1.2s remaining:    5.8s\n",
      "[Parallel(n_jobs=12)]: Done  12 out of  12 | elapsed:    1.3s finished\n"
     ]
    },
    {
     "name": "stdout",
     "output_type": "stream",
     "text": [
      "iteration: 4 of max_iter: 5\n"
     ]
    },
    {
     "name": "stderr",
     "output_type": "stream",
     "text": [
      "[Parallel(n_jobs=12)]: Done   2 out of  12 | elapsed:    1.2s remaining:    5.9s\n",
      "[Parallel(n_jobs=12)]: Done  12 out of  12 | elapsed:    1.3s finished\n"
     ]
    },
    {
     "name": "stdout",
     "output_type": "stream",
     "text": [
      "iteration: 5 of max_iter: 5\n"
     ]
    },
    {
     "name": "stderr",
     "output_type": "stream",
     "text": [
      "[Parallel(n_jobs=12)]: Done   2 out of  12 | elapsed:    1.0s remaining:    4.8s\n",
      "[Parallel(n_jobs=12)]: Done  12 out of  12 | elapsed:    1.2s finished\n",
      "[Parallel(n_jobs=12)]: Done   2 out of  12 | elapsed:    0.3s remaining:    1.6s\n",
      "[Parallel(n_jobs=12)]: Done  12 out of  12 | elapsed:    0.4s finished\n",
      "[Parallel(n_jobs=12)]: Done   2 out of  12 | elapsed:    0.9s remaining:    4.3s\n",
      "[Parallel(n_jobs=12)]: Done  12 out of  12 | elapsed:    1.0s finished\n"
     ]
    },
    {
     "name": "stdout",
     "output_type": "stream",
     "text": [
      "[CV] .............. learning_decay=0.5, n_components=10, total=  10.1s\n",
      "[CV] learning_decay=0.5, n_components=10 .............................\n"
     ]
    },
    {
     "name": "stderr",
     "output_type": "stream",
     "text": [
      "[Parallel(n_jobs=12)]: Done   2 out of  12 | elapsed:    1.2s remaining:    5.9s\n",
      "[Parallel(n_jobs=12)]: Done  12 out of  12 | elapsed:    1.3s finished\n"
     ]
    },
    {
     "name": "stdout",
     "output_type": "stream",
     "text": [
      "iteration: 1 of max_iter: 5\n"
     ]
    },
    {
     "name": "stderr",
     "output_type": "stream",
     "text": [
      "[Parallel(n_jobs=12)]: Done   2 out of  12 | elapsed:    1.1s remaining:    5.3s\n",
      "[Parallel(n_jobs=12)]: Done  12 out of  12 | elapsed:    1.1s finished\n"
     ]
    },
    {
     "name": "stdout",
     "output_type": "stream",
     "text": [
      "iteration: 2 of max_iter: 5\n"
     ]
    },
    {
     "name": "stderr",
     "output_type": "stream",
     "text": [
      "[Parallel(n_jobs=12)]: Done   2 out of  12 | elapsed:    1.0s remaining:    5.1s\n",
      "[Parallel(n_jobs=12)]: Done  12 out of  12 | elapsed:    1.1s finished\n"
     ]
    },
    {
     "name": "stdout",
     "output_type": "stream",
     "text": [
      "iteration: 3 of max_iter: 5\n"
     ]
    },
    {
     "name": "stderr",
     "output_type": "stream",
     "text": [
      "[Parallel(n_jobs=12)]: Done   2 out of  12 | elapsed:    1.1s remaining:    5.6s\n",
      "[Parallel(n_jobs=12)]: Done  12 out of  12 | elapsed:    1.3s finished\n"
     ]
    },
    {
     "name": "stdout",
     "output_type": "stream",
     "text": [
      "iteration: 4 of max_iter: 5\n"
     ]
    },
    {
     "name": "stderr",
     "output_type": "stream",
     "text": [
      "[Parallel(n_jobs=12)]: Done   2 out of  12 | elapsed:    1.1s remaining:    5.7s\n",
      "[Parallel(n_jobs=12)]: Done  12 out of  12 | elapsed:    1.3s finished\n"
     ]
    },
    {
     "name": "stdout",
     "output_type": "stream",
     "text": [
      "iteration: 5 of max_iter: 5\n"
     ]
    },
    {
     "name": "stderr",
     "output_type": "stream",
     "text": [
      "[Parallel(n_jobs=12)]: Done   2 out of  12 | elapsed:    1.0s remaining:    4.8s\n",
      "[Parallel(n_jobs=12)]: Done  12 out of  12 | elapsed:    1.1s finished\n",
      "[Parallel(n_jobs=12)]: Done   2 out of  12 | elapsed:    0.3s remaining:    1.5s\n",
      "[Parallel(n_jobs=12)]: Done  12 out of  12 | elapsed:    0.4s finished\n",
      "[Parallel(n_jobs=12)]: Done   2 out of  12 | elapsed:    0.9s remaining:    4.7s\n",
      "[Parallel(n_jobs=12)]: Done  12 out of  12 | elapsed:    1.1s finished\n"
     ]
    },
    {
     "name": "stdout",
     "output_type": "stream",
     "text": [
      "[CV] .............. learning_decay=0.5, n_components=10, total=   9.9s\n",
      "[CV] learning_decay=0.7, n_components=5 ..............................\n"
     ]
    },
    {
     "name": "stderr",
     "output_type": "stream",
     "text": [
      "[Parallel(n_jobs=12)]: Done   2 out of  12 | elapsed:    1.6s remaining:    8.0s\n",
      "[Parallel(n_jobs=12)]: Done  12 out of  12 | elapsed:    1.7s finished\n"
     ]
    },
    {
     "name": "stdout",
     "output_type": "stream",
     "text": [
      "iteration: 1 of max_iter: 5\n"
     ]
    },
    {
     "name": "stderr",
     "output_type": "stream",
     "text": [
      "[Parallel(n_jobs=12)]: Done   2 out of  12 | elapsed:    1.4s remaining:    6.8s\n",
      "[Parallel(n_jobs=12)]: Done  12 out of  12 | elapsed:    1.5s finished\n"
     ]
    },
    {
     "name": "stdout",
     "output_type": "stream",
     "text": [
      "iteration: 2 of max_iter: 5\n"
     ]
    },
    {
     "name": "stderr",
     "output_type": "stream",
     "text": [
      "[Parallel(n_jobs=12)]: Done   2 out of  12 | elapsed:    1.3s remaining:    6.4s\n",
      "[Parallel(n_jobs=12)]: Done  12 out of  12 | elapsed:    1.4s finished\n"
     ]
    },
    {
     "name": "stdout",
     "output_type": "stream",
     "text": [
      "iteration: 3 of max_iter: 5\n"
     ]
    },
    {
     "name": "stderr",
     "output_type": "stream",
     "text": [
      "[Parallel(n_jobs=12)]: Done   2 out of  12 | elapsed:    1.3s remaining:    6.7s\n",
      "[Parallel(n_jobs=12)]: Done  12 out of  12 | elapsed:    1.4s finished\n"
     ]
    },
    {
     "name": "stdout",
     "output_type": "stream",
     "text": [
      "iteration: 4 of max_iter: 5\n"
     ]
    },
    {
     "name": "stderr",
     "output_type": "stream",
     "text": [
      "[Parallel(n_jobs=12)]: Done   2 out of  12 | elapsed:    1.3s remaining:    6.4s\n",
      "[Parallel(n_jobs=12)]: Done  12 out of  12 | elapsed:    1.4s finished\n"
     ]
    },
    {
     "name": "stdout",
     "output_type": "stream",
     "text": [
      "iteration: 5 of max_iter: 5\n"
     ]
    },
    {
     "name": "stderr",
     "output_type": "stream",
     "text": [
      "[Parallel(n_jobs=12)]: Done   2 out of  12 | elapsed:    1.1s remaining:    5.5s\n",
      "[Parallel(n_jobs=12)]: Done  12 out of  12 | elapsed:    1.3s finished\n",
      "[Parallel(n_jobs=12)]: Done   2 out of  12 | elapsed:    0.4s remaining:    1.9s\n",
      "[Parallel(n_jobs=12)]: Done  12 out of  12 | elapsed:    0.4s finished\n",
      "[Parallel(n_jobs=12)]: Done   2 out of  12 | elapsed:    1.0s remaining:    5.2s\n",
      "[Parallel(n_jobs=12)]: Done  12 out of  12 | elapsed:    1.2s finished\n"
     ]
    },
    {
     "name": "stdout",
     "output_type": "stream",
     "text": [
      "[CV] ............... learning_decay=0.7, n_components=5, total=  11.4s\n",
      "[CV] learning_decay=0.7, n_components=5 ..............................\n"
     ]
    },
    {
     "name": "stderr",
     "output_type": "stream",
     "text": [
      "[Parallel(n_jobs=12)]: Done   2 out of  12 | elapsed:    1.5s remaining:    7.7s\n",
      "[Parallel(n_jobs=12)]: Done  12 out of  12 | elapsed:    1.7s finished\n"
     ]
    },
    {
     "name": "stdout",
     "output_type": "stream",
     "text": [
      "iteration: 1 of max_iter: 5\n"
     ]
    },
    {
     "name": "stderr",
     "output_type": "stream",
     "text": [
      "[Parallel(n_jobs=12)]: Done   2 out of  12 | elapsed:    1.4s remaining:    6.8s\n",
      "[Parallel(n_jobs=12)]: Done  12 out of  12 | elapsed:    1.5s finished\n"
     ]
    },
    {
     "name": "stdout",
     "output_type": "stream",
     "text": [
      "iteration: 2 of max_iter: 5\n"
     ]
    },
    {
     "name": "stderr",
     "output_type": "stream",
     "text": [
      "[Parallel(n_jobs=12)]: Done   2 out of  12 | elapsed:    1.3s remaining:    6.5s\n",
      "[Parallel(n_jobs=12)]: Done  12 out of  12 | elapsed:    1.4s finished\n"
     ]
    },
    {
     "name": "stdout",
     "output_type": "stream",
     "text": [
      "iteration: 3 of max_iter: 5\n"
     ]
    },
    {
     "name": "stderr",
     "output_type": "stream",
     "text": [
      "[Parallel(n_jobs=12)]: Done   2 out of  12 | elapsed:    1.3s remaining:    6.3s\n",
      "[Parallel(n_jobs=12)]: Done  12 out of  12 | elapsed:    1.4s finished\n"
     ]
    },
    {
     "name": "stdout",
     "output_type": "stream",
     "text": [
      "iteration: 4 of max_iter: 5\n"
     ]
    },
    {
     "name": "stderr",
     "output_type": "stream",
     "text": [
      "[Parallel(n_jobs=12)]: Done   2 out of  12 | elapsed:    1.3s remaining:    6.3s\n",
      "[Parallel(n_jobs=12)]: Done  12 out of  12 | elapsed:    1.4s finished\n"
     ]
    },
    {
     "name": "stdout",
     "output_type": "stream",
     "text": [
      "iteration: 5 of max_iter: 5\n"
     ]
    },
    {
     "name": "stderr",
     "output_type": "stream",
     "text": [
      "[Parallel(n_jobs=12)]: Done   2 out of  12 | elapsed:    1.2s remaining:    6.1s\n",
      "[Parallel(n_jobs=12)]: Done  12 out of  12 | elapsed:    1.4s finished\n",
      "[Parallel(n_jobs=12)]: Done   2 out of  12 | elapsed:    0.3s remaining:    1.6s\n",
      "[Parallel(n_jobs=12)]: Done  12 out of  12 | elapsed:    0.4s finished\n",
      "[Parallel(n_jobs=12)]: Done   2 out of  12 | elapsed:    1.1s remaining:    5.7s\n",
      "[Parallel(n_jobs=12)]: Done  12 out of  12 | elapsed:    1.2s finished\n"
     ]
    },
    {
     "name": "stdout",
     "output_type": "stream",
     "text": [
      "[CV] ............... learning_decay=0.7, n_components=5, total=  11.4s\n",
      "[CV] learning_decay=0.7, n_components=5 ..............................\n"
     ]
    },
    {
     "name": "stderr",
     "output_type": "stream",
     "text": [
      "[Parallel(n_jobs=12)]: Done   2 out of  12 | elapsed:    1.5s remaining:    7.6s\n",
      "[Parallel(n_jobs=12)]: Done  12 out of  12 | elapsed:    1.6s finished\n"
     ]
    },
    {
     "name": "stdout",
     "output_type": "stream",
     "text": [
      "iteration: 1 of max_iter: 5\n"
     ]
    },
    {
     "name": "stderr",
     "output_type": "stream",
     "text": [
      "[Parallel(n_jobs=12)]: Done   2 out of  12 | elapsed:    1.3s remaining:    6.7s\n",
      "[Parallel(n_jobs=12)]: Done  12 out of  12 | elapsed:    1.4s finished\n"
     ]
    },
    {
     "name": "stdout",
     "output_type": "stream",
     "text": [
      "iteration: 2 of max_iter: 5\n"
     ]
    },
    {
     "name": "stderr",
     "output_type": "stream",
     "text": [
      "[Parallel(n_jobs=12)]: Done   2 out of  12 | elapsed:    1.4s remaining:    6.8s\n",
      "[Parallel(n_jobs=12)]: Done  12 out of  12 | elapsed:    1.5s finished\n"
     ]
    },
    {
     "name": "stdout",
     "output_type": "stream",
     "text": [
      "iteration: 3 of max_iter: 5\n"
     ]
    },
    {
     "name": "stderr",
     "output_type": "stream",
     "text": [
      "[Parallel(n_jobs=12)]: Done   2 out of  12 | elapsed:    1.4s remaining:    7.0s\n",
      "[Parallel(n_jobs=12)]: Done  12 out of  12 | elapsed:    1.6s finished\n"
     ]
    },
    {
     "name": "stdout",
     "output_type": "stream",
     "text": [
      "iteration: 4 of max_iter: 5\n"
     ]
    },
    {
     "name": "stderr",
     "output_type": "stream",
     "text": [
      "[Parallel(n_jobs=12)]: Done   2 out of  12 | elapsed:    1.3s remaining:    6.7s\n"
     ]
    },
    {
     "name": "stdout",
     "output_type": "stream",
     "text": [
      "iteration: 5 of max_iter: 5\n"
     ]
    },
    {
     "name": "stderr",
     "output_type": "stream",
     "text": [
      "[Parallel(n_jobs=12)]: Done  12 out of  12 | elapsed:    1.6s finished\n",
      "[Parallel(n_jobs=12)]: Done   2 out of  12 | elapsed:    1.2s remaining:    5.9s\n",
      "[Parallel(n_jobs=12)]: Done  12 out of  12 | elapsed:    1.4s finished\n",
      "[Parallel(n_jobs=12)]: Done   2 out of  12 | elapsed:    0.4s remaining:    2.0s\n",
      "[Parallel(n_jobs=12)]: Done  12 out of  12 | elapsed:    0.5s finished\n",
      "[Parallel(n_jobs=12)]: Done   2 out of  12 | elapsed:    1.1s remaining:    5.6s\n",
      "[Parallel(n_jobs=12)]: Done  12 out of  12 | elapsed:    1.3s finished\n"
     ]
    },
    {
     "name": "stdout",
     "output_type": "stream",
     "text": [
      "[CV] ............... learning_decay=0.7, n_components=5, total=  11.9s\n",
      "[CV] learning_decay=0.7, n_components=7 ..............................\n"
     ]
    },
    {
     "name": "stderr",
     "output_type": "stream",
     "text": [
      "[Parallel(n_jobs=12)]: Done   2 out of  12 | elapsed:    1.3s remaining:    6.5s\n",
      "[Parallel(n_jobs=12)]: Done  12 out of  12 | elapsed:    1.4s finished\n"
     ]
    },
    {
     "name": "stdout",
     "output_type": "stream",
     "text": [
      "iteration: 1 of max_iter: 5\n"
     ]
    },
    {
     "name": "stderr",
     "output_type": "stream",
     "text": [
      "[Parallel(n_jobs=12)]: Done   2 out of  12 | elapsed:    1.1s remaining:    5.7s\n",
      "[Parallel(n_jobs=12)]: Done  12 out of  12 | elapsed:    1.2s finished\n"
     ]
    },
    {
     "name": "stdout",
     "output_type": "stream",
     "text": [
      "iteration: 2 of max_iter: 5\n"
     ]
    },
    {
     "name": "stderr",
     "output_type": "stream",
     "text": [
      "[Parallel(n_jobs=12)]: Done   2 out of  12 | elapsed:    1.1s remaining:    5.5s\n",
      "[Parallel(n_jobs=12)]: Done  12 out of  12 | elapsed:    1.2s finished\n"
     ]
    },
    {
     "name": "stdout",
     "output_type": "stream",
     "text": [
      "iteration: 3 of max_iter: 5\n"
     ]
    },
    {
     "name": "stderr",
     "output_type": "stream",
     "text": [
      "[Parallel(n_jobs=12)]: Done   2 out of  12 | elapsed:    1.1s remaining:    5.7s\n",
      "[Parallel(n_jobs=12)]: Done  12 out of  12 | elapsed:    1.3s finished\n"
     ]
    },
    {
     "name": "stdout",
     "output_type": "stream",
     "text": [
      "iteration: 4 of max_iter: 5\n"
     ]
    },
    {
     "name": "stderr",
     "output_type": "stream",
     "text": [
      "[Parallel(n_jobs=12)]: Done   2 out of  12 | elapsed:    1.1s remaining:    5.7s\n",
      "[Parallel(n_jobs=12)]: Done  12 out of  12 | elapsed:    1.3s finished\n"
     ]
    },
    {
     "name": "stdout",
     "output_type": "stream",
     "text": [
      "iteration: 5 of max_iter: 5\n"
     ]
    },
    {
     "name": "stderr",
     "output_type": "stream",
     "text": [
      "[Parallel(n_jobs=12)]: Done   2 out of  12 | elapsed:    1.0s remaining:    5.0s\n",
      "[Parallel(n_jobs=12)]: Done  12 out of  12 | elapsed:    1.2s finished\n",
      "[Parallel(n_jobs=12)]: Done   2 out of  12 | elapsed:    0.3s remaining:    1.7s\n",
      "[Parallel(n_jobs=12)]: Done  12 out of  12 | elapsed:    0.4s finished\n",
      "[Parallel(n_jobs=12)]: Done   2 out of  12 | elapsed:    1.0s remaining:    4.9s\n",
      "[Parallel(n_jobs=12)]: Done  12 out of  12 | elapsed:    1.2s finished\n"
     ]
    },
    {
     "name": "stdout",
     "output_type": "stream",
     "text": [
      "[CV] ............... learning_decay=0.7, n_components=7, total=  10.2s\n",
      "[CV] learning_decay=0.7, n_components=7 ..............................\n"
     ]
    },
    {
     "name": "stderr",
     "output_type": "stream",
     "text": [
      "[Parallel(n_jobs=12)]: Done   2 out of  12 | elapsed:    1.5s remaining:    7.6s\n",
      "[Parallel(n_jobs=12)]: Done  12 out of  12 | elapsed:    1.6s finished\n"
     ]
    },
    {
     "name": "stdout",
     "output_type": "stream",
     "text": [
      "iteration: 1 of max_iter: 5\n"
     ]
    },
    {
     "name": "stderr",
     "output_type": "stream",
     "text": [
      "[Parallel(n_jobs=12)]: Done   2 out of  12 | elapsed:    1.2s remaining:    5.9s\n",
      "[Parallel(n_jobs=12)]: Done  12 out of  12 | elapsed:    1.3s finished\n"
     ]
    },
    {
     "name": "stdout",
     "output_type": "stream",
     "text": [
      "iteration: 2 of max_iter: 5\n"
     ]
    },
    {
     "name": "stderr",
     "output_type": "stream",
     "text": [
      "[Parallel(n_jobs=12)]: Done   2 out of  12 | elapsed:    1.2s remaining:    6.1s\n",
      "[Parallel(n_jobs=12)]: Done  12 out of  12 | elapsed:    1.4s finished\n"
     ]
    },
    {
     "name": "stdout",
     "output_type": "stream",
     "text": [
      "iteration: 3 of max_iter: 5\n"
     ]
    },
    {
     "name": "stderr",
     "output_type": "stream",
     "text": [
      "[Parallel(n_jobs=12)]: Done   2 out of  12 | elapsed:    1.2s remaining:    6.2s\n",
      "[Parallel(n_jobs=12)]: Done  12 out of  12 | elapsed:    1.4s finished\n"
     ]
    },
    {
     "name": "stdout",
     "output_type": "stream",
     "text": [
      "iteration: 4 of max_iter: 5\n"
     ]
    },
    {
     "name": "stderr",
     "output_type": "stream",
     "text": [
      "[Parallel(n_jobs=12)]: Done   2 out of  12 | elapsed:    1.4s remaining:    7.1s\n",
      "[Parallel(n_jobs=12)]: Done  12 out of  12 | elapsed:    1.6s finished\n"
     ]
    },
    {
     "name": "stdout",
     "output_type": "stream",
     "text": [
      "iteration: 5 of max_iter: 5\n"
     ]
    },
    {
     "name": "stderr",
     "output_type": "stream",
     "text": [
      "[Parallel(n_jobs=12)]: Done   2 out of  12 | elapsed:    1.2s remaining:    5.9s\n",
      "[Parallel(n_jobs=12)]: Done  12 out of  12 | elapsed:    1.4s finished\n",
      "[Parallel(n_jobs=12)]: Done   2 out of  12 | elapsed:    0.3s remaining:    1.3s\n",
      "[Parallel(n_jobs=12)]: Done  12 out of  12 | elapsed:    0.4s finished\n",
      "[Parallel(n_jobs=12)]: Done   2 out of  12 | elapsed:    0.9s remaining:    4.7s\n",
      "[Parallel(n_jobs=12)]: Done  12 out of  12 | elapsed:    1.2s finished\n"
     ]
    },
    {
     "name": "stdout",
     "output_type": "stream",
     "text": [
      "[CV] ............... learning_decay=0.7, n_components=7, total=  11.4s\n",
      "[CV] learning_decay=0.7, n_components=7 ..............................\n"
     ]
    },
    {
     "name": "stderr",
     "output_type": "stream",
     "text": [
      "[Parallel(n_jobs=12)]: Done   2 out of  12 | elapsed:    1.4s remaining:    7.0s\n",
      "[Parallel(n_jobs=12)]: Done  12 out of  12 | elapsed:    1.5s finished\n"
     ]
    },
    {
     "name": "stdout",
     "output_type": "stream",
     "text": [
      "iteration: 1 of max_iter: 5\n"
     ]
    },
    {
     "name": "stderr",
     "output_type": "stream",
     "text": [
      "[Parallel(n_jobs=12)]: Done   2 out of  12 | elapsed:    1.4s remaining:    7.2s\n",
      "[Parallel(n_jobs=12)]: Done  12 out of  12 | elapsed:    1.6s finished\n"
     ]
    },
    {
     "name": "stdout",
     "output_type": "stream",
     "text": [
      "iteration: 2 of max_iter: 5\n"
     ]
    },
    {
     "name": "stderr",
     "output_type": "stream",
     "text": [
      "[Parallel(n_jobs=12)]: Done   2 out of  12 | elapsed:    1.4s remaining:    7.2s\n",
      "[Parallel(n_jobs=12)]: Done  12 out of  12 | elapsed:    1.6s finished\n"
     ]
    },
    {
     "name": "stdout",
     "output_type": "stream",
     "text": [
      "iteration: 3 of max_iter: 5\n"
     ]
    },
    {
     "name": "stderr",
     "output_type": "stream",
     "text": [
      "[Parallel(n_jobs=12)]: Done   2 out of  12 | elapsed:    1.5s remaining:    7.4s\n",
      "[Parallel(n_jobs=12)]: Done  12 out of  12 | elapsed:    1.6s finished\n"
     ]
    },
    {
     "name": "stdout",
     "output_type": "stream",
     "text": [
      "iteration: 4 of max_iter: 5\n"
     ]
    },
    {
     "name": "stderr",
     "output_type": "stream",
     "text": [
      "[Parallel(n_jobs=12)]: Done   2 out of  12 | elapsed:    1.6s remaining:    7.9s\n",
      "[Parallel(n_jobs=12)]: Done  12 out of  12 | elapsed:    1.8s finished\n"
     ]
    },
    {
     "name": "stdout",
     "output_type": "stream",
     "text": [
      "iteration: 5 of max_iter: 5\n"
     ]
    },
    {
     "name": "stderr",
     "output_type": "stream",
     "text": [
      "[Parallel(n_jobs=12)]: Done   2 out of  12 | elapsed:    1.3s remaining:    6.3s\n",
      "[Parallel(n_jobs=12)]: Done  12 out of  12 | elapsed:    1.5s finished\n",
      "[Parallel(n_jobs=12)]: Done   2 out of  12 | elapsed:    0.4s remaining:    1.8s\n",
      "[Parallel(n_jobs=12)]: Done  12 out of  12 | elapsed:    0.4s finished\n",
      "[Parallel(n_jobs=12)]: Done   2 out of  12 | elapsed:    1.0s remaining:    5.0s\n",
      "[Parallel(n_jobs=12)]: Done  12 out of  12 | elapsed:    1.1s finished\n"
     ]
    },
    {
     "name": "stdout",
     "output_type": "stream",
     "text": [
      "[CV] ............... learning_decay=0.7, n_components=7, total=  12.3s\n",
      "[CV] learning_decay=0.7, n_components=10 .............................\n"
     ]
    },
    {
     "name": "stderr",
     "output_type": "stream",
     "text": [
      "[Parallel(n_jobs=12)]: Done   2 out of  12 | elapsed:    1.1s remaining:    5.7s\n",
      "[Parallel(n_jobs=12)]: Done  12 out of  12 | elapsed:    1.3s finished\n"
     ]
    },
    {
     "name": "stdout",
     "output_type": "stream",
     "text": [
      "iteration: 1 of max_iter: 5\n"
     ]
    },
    {
     "name": "stderr",
     "output_type": "stream",
     "text": [
      "[Parallel(n_jobs=12)]: Done   2 out of  12 | elapsed:    1.0s remaining:    5.2s\n",
      "[Parallel(n_jobs=12)]: Done  12 out of  12 | elapsed:    1.1s finished\n"
     ]
    },
    {
     "name": "stdout",
     "output_type": "stream",
     "text": [
      "iteration: 2 of max_iter: 5\n"
     ]
    },
    {
     "name": "stderr",
     "output_type": "stream",
     "text": [
      "[Parallel(n_jobs=12)]: Done   2 out of  12 | elapsed:    1.2s remaining:    5.8s\n",
      "[Parallel(n_jobs=12)]: Done  12 out of  12 | elapsed:    1.3s finished\n"
     ]
    },
    {
     "name": "stdout",
     "output_type": "stream",
     "text": [
      "iteration: 3 of max_iter: 5\n"
     ]
    },
    {
     "name": "stderr",
     "output_type": "stream",
     "text": [
      "[Parallel(n_jobs=12)]: Done   2 out of  12 | elapsed:    1.2s remaining:    6.1s\n",
      "[Parallel(n_jobs=12)]: Done  12 out of  12 | elapsed:    1.3s finished\n"
     ]
    },
    {
     "name": "stdout",
     "output_type": "stream",
     "text": [
      "iteration: 4 of max_iter: 5\n"
     ]
    },
    {
     "name": "stderr",
     "output_type": "stream",
     "text": [
      "[Parallel(n_jobs=12)]: Done   2 out of  12 | elapsed:    1.1s remaining:    5.6s\n",
      "[Parallel(n_jobs=12)]: Done  12 out of  12 | elapsed:    1.3s finished\n"
     ]
    },
    {
     "name": "stdout",
     "output_type": "stream",
     "text": [
      "iteration: 5 of max_iter: 5\n"
     ]
    },
    {
     "name": "stderr",
     "output_type": "stream",
     "text": [
      "[Parallel(n_jobs=12)]: Done   2 out of  12 | elapsed:    1.0s remaining:    4.9s\n",
      "[Parallel(n_jobs=12)]: Done  12 out of  12 | elapsed:    1.2s finished\n",
      "[Parallel(n_jobs=12)]: Done   2 out of  12 | elapsed:    0.4s remaining:    1.8s\n",
      "[Parallel(n_jobs=12)]: Done  12 out of  12 | elapsed:    0.4s finished\n",
      "[Parallel(n_jobs=12)]: Done   2 out of  12 | elapsed:    0.9s remaining:    4.6s\n",
      "[Parallel(n_jobs=12)]: Done  12 out of  12 | elapsed:    1.1s finished\n"
     ]
    },
    {
     "name": "stdout",
     "output_type": "stream",
     "text": [
      "[CV] .............. learning_decay=0.7, n_components=10, total=  10.2s\n",
      "[CV] learning_decay=0.7, n_components=10 .............................\n"
     ]
    },
    {
     "name": "stderr",
     "output_type": "stream",
     "text": [
      "[Parallel(n_jobs=12)]: Done   2 out of  12 | elapsed:    1.2s remaining:    6.1s\n",
      "[Parallel(n_jobs=12)]: Done  12 out of  12 | elapsed:    1.4s finished\n"
     ]
    },
    {
     "name": "stdout",
     "output_type": "stream",
     "text": [
      "iteration: 1 of max_iter: 5\n"
     ]
    },
    {
     "name": "stderr",
     "output_type": "stream",
     "text": [
      "[Parallel(n_jobs=12)]: Done   2 out of  12 | elapsed:    1.1s remaining:    5.7s\n",
      "[Parallel(n_jobs=12)]: Done  12 out of  12 | elapsed:    1.2s finished\n"
     ]
    },
    {
     "name": "stdout",
     "output_type": "stream",
     "text": [
      "iteration: 2 of max_iter: 5\n"
     ]
    },
    {
     "name": "stderr",
     "output_type": "stream",
     "text": [
      "[Parallel(n_jobs=12)]: Done   2 out of  12 | elapsed:    1.1s remaining:    5.6s\n",
      "[Parallel(n_jobs=12)]: Done  12 out of  12 | elapsed:    1.2s finished\n"
     ]
    },
    {
     "name": "stdout",
     "output_type": "stream",
     "text": [
      "iteration: 3 of max_iter: 5\n"
     ]
    },
    {
     "name": "stderr",
     "output_type": "stream",
     "text": [
      "[Parallel(n_jobs=12)]: Done   2 out of  12 | elapsed:    1.3s remaining:    6.5s\n",
      "[Parallel(n_jobs=12)]: Done  12 out of  12 | elapsed:    1.5s finished\n"
     ]
    },
    {
     "name": "stdout",
     "output_type": "stream",
     "text": [
      "iteration: 4 of max_iter: 5\n"
     ]
    },
    {
     "name": "stderr",
     "output_type": "stream",
     "text": [
      "[Parallel(n_jobs=12)]: Done   2 out of  12 | elapsed:    1.2s remaining:    6.2s\n",
      "[Parallel(n_jobs=12)]: Done  12 out of  12 | elapsed:    1.3s finished\n"
     ]
    },
    {
     "name": "stdout",
     "output_type": "stream",
     "text": [
      "iteration: 5 of max_iter: 5\n"
     ]
    },
    {
     "name": "stderr",
     "output_type": "stream",
     "text": [
      "[Parallel(n_jobs=12)]: Done   2 out of  12 | elapsed:    1.0s remaining:    5.0s\n",
      "[Parallel(n_jobs=12)]: Done  12 out of  12 | elapsed:    1.2s finished\n",
      "[Parallel(n_jobs=12)]: Done   2 out of  12 | elapsed:    0.3s remaining:    1.5s\n",
      "[Parallel(n_jobs=12)]: Done  12 out of  12 | elapsed:    0.4s finished\n",
      "[Parallel(n_jobs=12)]: Done   2 out of  12 | elapsed:    0.9s remaining:    4.3s\n",
      "[Parallel(n_jobs=12)]: Done  12 out of  12 | elapsed:    1.0s finished\n"
     ]
    },
    {
     "name": "stdout",
     "output_type": "stream",
     "text": [
      "[CV] .............. learning_decay=0.7, n_components=10, total=  10.9s\n",
      "[CV] learning_decay=0.7, n_components=10 .............................\n"
     ]
    },
    {
     "name": "stderr",
     "output_type": "stream",
     "text": [
      "[Parallel(n_jobs=12)]: Done   2 out of  12 | elapsed:    1.4s remaining:    6.9s\n",
      "[Parallel(n_jobs=12)]: Done  12 out of  12 | elapsed:    1.5s finished\n"
     ]
    },
    {
     "name": "stdout",
     "output_type": "stream",
     "text": [
      "iteration: 1 of max_iter: 5\n"
     ]
    },
    {
     "name": "stderr",
     "output_type": "stream",
     "text": [
      "[Parallel(n_jobs=12)]: Done   2 out of  12 | elapsed:    1.0s remaining:    5.0s\n",
      "[Parallel(n_jobs=12)]: Done  12 out of  12 | elapsed:    1.1s finished\n"
     ]
    },
    {
     "name": "stdout",
     "output_type": "stream",
     "text": [
      "iteration: 2 of max_iter: 5\n"
     ]
    },
    {
     "name": "stderr",
     "output_type": "stream",
     "text": [
      "[Parallel(n_jobs=12)]: Done   2 out of  12 | elapsed:    1.0s remaining:    5.1s\n",
      "[Parallel(n_jobs=12)]: Done  12 out of  12 | elapsed:    1.1s finished\n"
     ]
    },
    {
     "name": "stdout",
     "output_type": "stream",
     "text": [
      "iteration: 3 of max_iter: 5\n"
     ]
    },
    {
     "name": "stderr",
     "output_type": "stream",
     "text": [
      "[Parallel(n_jobs=12)]: Done   2 out of  12 | elapsed:    1.1s remaining:    5.4s\n",
      "[Parallel(n_jobs=12)]: Done  12 out of  12 | elapsed:    1.2s finished\n"
     ]
    },
    {
     "name": "stdout",
     "output_type": "stream",
     "text": [
      "iteration: 4 of max_iter: 5\n"
     ]
    },
    {
     "name": "stderr",
     "output_type": "stream",
     "text": [
      "[Parallel(n_jobs=12)]: Done   2 out of  12 | elapsed:    1.1s remaining:    5.6s\n",
      "[Parallel(n_jobs=12)]: Done  12 out of  12 | elapsed:    1.3s finished\n"
     ]
    },
    {
     "name": "stdout",
     "output_type": "stream",
     "text": [
      "iteration: 5 of max_iter: 5\n"
     ]
    },
    {
     "name": "stderr",
     "output_type": "stream",
     "text": [
      "[Parallel(n_jobs=12)]: Done   2 out of  12 | elapsed:    0.9s remaining:    4.6s\n",
      "[Parallel(n_jobs=12)]: Done  12 out of  12 | elapsed:    1.1s finished\n",
      "[Parallel(n_jobs=12)]: Done   2 out of  12 | elapsed:    0.4s remaining:    1.9s\n",
      "[Parallel(n_jobs=12)]: Done  12 out of  12 | elapsed:    0.4s finished\n",
      "[Parallel(n_jobs=12)]: Done   2 out of  12 | elapsed:    0.9s remaining:    4.5s\n",
      "[Parallel(n_jobs=12)]: Done  12 out of  12 | elapsed:    1.1s finished\n"
     ]
    },
    {
     "name": "stdout",
     "output_type": "stream",
     "text": [
      "[CV] .............. learning_decay=0.7, n_components=10, total=  10.1s\n",
      "[CV] learning_decay=0.9, n_components=5 ..............................\n"
     ]
    },
    {
     "name": "stderr",
     "output_type": "stream",
     "text": [
      "[Parallel(n_jobs=12)]: Done   2 out of  12 | elapsed:    1.6s remaining:    8.0s\n",
      "[Parallel(n_jobs=12)]: Done  12 out of  12 | elapsed:    1.7s finished\n"
     ]
    },
    {
     "name": "stdout",
     "output_type": "stream",
     "text": [
      "iteration: 1 of max_iter: 5\n"
     ]
    },
    {
     "name": "stderr",
     "output_type": "stream",
     "text": [
      "[Parallel(n_jobs=12)]: Done   2 out of  12 | elapsed:    1.3s remaining:    6.5s\n",
      "[Parallel(n_jobs=12)]: Done  12 out of  12 | elapsed:    1.4s finished\n"
     ]
    },
    {
     "name": "stdout",
     "output_type": "stream",
     "text": [
      "iteration: 2 of max_iter: 5\n"
     ]
    },
    {
     "name": "stderr",
     "output_type": "stream",
     "text": [
      "[Parallel(n_jobs=12)]: Done   2 out of  12 | elapsed:    1.2s remaining:    6.2s\n",
      "[Parallel(n_jobs=12)]: Done  12 out of  12 | elapsed:    1.3s finished\n"
     ]
    },
    {
     "name": "stdout",
     "output_type": "stream",
     "text": [
      "iteration: 3 of max_iter: 5\n"
     ]
    },
    {
     "name": "stderr",
     "output_type": "stream",
     "text": [
      "[Parallel(n_jobs=12)]: Done   2 out of  12 | elapsed:    1.4s remaining:    7.0s\n",
      "[Parallel(n_jobs=12)]: Done  12 out of  12 | elapsed:    1.5s finished\n"
     ]
    },
    {
     "name": "stdout",
     "output_type": "stream",
     "text": [
      "iteration: 4 of max_iter: 5\n"
     ]
    },
    {
     "name": "stderr",
     "output_type": "stream",
     "text": [
      "[Parallel(n_jobs=12)]: Done   2 out of  12 | elapsed:    1.4s remaining:    7.2s\n",
      "[Parallel(n_jobs=12)]: Done  12 out of  12 | elapsed:    1.6s finished\n"
     ]
    },
    {
     "name": "stdout",
     "output_type": "stream",
     "text": [
      "iteration: 5 of max_iter: 5\n"
     ]
    },
    {
     "name": "stderr",
     "output_type": "stream",
     "text": [
      "[Parallel(n_jobs=12)]: Done   2 out of  12 | elapsed:    1.1s remaining:    5.4s\n",
      "[Parallel(n_jobs=12)]: Done  12 out of  12 | elapsed:    1.3s finished\n",
      "[Parallel(n_jobs=12)]: Done   2 out of  12 | elapsed:    0.4s remaining:    1.8s\n",
      "[Parallel(n_jobs=12)]: Done  12 out of  12 | elapsed:    0.4s finished\n",
      "[Parallel(n_jobs=12)]: Done   2 out of  12 | elapsed:    1.0s remaining:    5.0s\n",
      "[Parallel(n_jobs=12)]: Done  12 out of  12 | elapsed:    1.2s finished\n"
     ]
    },
    {
     "name": "stdout",
     "output_type": "stream",
     "text": [
      "[CV] ............... learning_decay=0.9, n_components=5, total=  11.5s\n",
      "[CV] learning_decay=0.9, n_components=5 ..............................\n"
     ]
    },
    {
     "name": "stderr",
     "output_type": "stream",
     "text": [
      "[Parallel(n_jobs=12)]: Done   2 out of  12 | elapsed:    1.6s remaining:    7.9s\n",
      "[Parallel(n_jobs=12)]: Done  12 out of  12 | elapsed:    1.8s finished\n"
     ]
    },
    {
     "name": "stdout",
     "output_type": "stream",
     "text": [
      "iteration: 1 of max_iter: 5\n"
     ]
    },
    {
     "name": "stderr",
     "output_type": "stream",
     "text": [
      "[Parallel(n_jobs=12)]: Done   2 out of  12 | elapsed:    1.4s remaining:    6.8s\n",
      "[Parallel(n_jobs=12)]: Done  12 out of  12 | elapsed:    1.5s finished\n"
     ]
    },
    {
     "name": "stdout",
     "output_type": "stream",
     "text": [
      "iteration: 2 of max_iter: 5\n"
     ]
    },
    {
     "name": "stderr",
     "output_type": "stream",
     "text": [
      "[Parallel(n_jobs=12)]: Done   2 out of  12 | elapsed:    1.2s remaining:    6.0s\n",
      "[Parallel(n_jobs=12)]: Done  12 out of  12 | elapsed:    1.3s finished\n"
     ]
    },
    {
     "name": "stdout",
     "output_type": "stream",
     "text": [
      "iteration: 3 of max_iter: 5\n"
     ]
    },
    {
     "name": "stderr",
     "output_type": "stream",
     "text": [
      "[Parallel(n_jobs=12)]: Done   2 out of  12 | elapsed:    1.2s remaining:    6.1s\n",
      "[Parallel(n_jobs=12)]: Done  12 out of  12 | elapsed:    1.4s finished\n"
     ]
    },
    {
     "name": "stdout",
     "output_type": "stream",
     "text": [
      "iteration: 4 of max_iter: 5\n"
     ]
    },
    {
     "name": "stderr",
     "output_type": "stream",
     "text": [
      "[Parallel(n_jobs=12)]: Done   2 out of  12 | elapsed:    1.2s remaining:    6.2s\n",
      "[Parallel(n_jobs=12)]: Done  12 out of  12 | elapsed:    1.4s finished\n"
     ]
    },
    {
     "name": "stdout",
     "output_type": "stream",
     "text": [
      "iteration: 5 of max_iter: 5\n"
     ]
    },
    {
     "name": "stderr",
     "output_type": "stream",
     "text": [
      "[Parallel(n_jobs=12)]: Done   2 out of  12 | elapsed:    1.2s remaining:    5.8s\n",
      "[Parallel(n_jobs=12)]: Done  12 out of  12 | elapsed:    1.3s finished\n",
      "[Parallel(n_jobs=12)]: Done   2 out of  12 | elapsed:    0.3s remaining:    1.5s\n",
      "[Parallel(n_jobs=12)]: Done  12 out of  12 | elapsed:    0.4s finished\n",
      "[Parallel(n_jobs=12)]: Done   2 out of  12 | elapsed:    1.1s remaining:    5.5s\n",
      "[Parallel(n_jobs=12)]: Done  12 out of  12 | elapsed:    1.2s finished\n"
     ]
    },
    {
     "name": "stdout",
     "output_type": "stream",
     "text": [
      "[CV] ............... learning_decay=0.9, n_components=5, total=  11.1s\n",
      "[CV] learning_decay=0.9, n_components=5 ..............................\n"
     ]
    },
    {
     "name": "stderr",
     "output_type": "stream",
     "text": [
      "[Parallel(n_jobs=12)]: Done   2 out of  12 | elapsed:    1.5s remaining:    7.6s\n",
      "[Parallel(n_jobs=12)]: Done  12 out of  12 | elapsed:    1.6s finished\n"
     ]
    },
    {
     "name": "stdout",
     "output_type": "stream",
     "text": [
      "iteration: 1 of max_iter: 5\n"
     ]
    },
    {
     "name": "stderr",
     "output_type": "stream",
     "text": [
      "[Parallel(n_jobs=12)]: Done   2 out of  12 | elapsed:    1.4s remaining:    6.8s\n",
      "[Parallel(n_jobs=12)]: Done  12 out of  12 | elapsed:    1.4s finished\n"
     ]
    },
    {
     "name": "stdout",
     "output_type": "stream",
     "text": [
      "iteration: 2 of max_iter: 5\n"
     ]
    },
    {
     "name": "stderr",
     "output_type": "stream",
     "text": [
      "[Parallel(n_jobs=12)]: Done   2 out of  12 | elapsed:    1.3s remaining:    6.7s\n",
      "[Parallel(n_jobs=12)]: Done  12 out of  12 | elapsed:    1.4s finished\n"
     ]
    },
    {
     "name": "stdout",
     "output_type": "stream",
     "text": [
      "iteration: 3 of max_iter: 5\n"
     ]
    },
    {
     "name": "stderr",
     "output_type": "stream",
     "text": [
      "[Parallel(n_jobs=12)]: Done   2 out of  12 | elapsed:    1.4s remaining:    6.8s\n",
      "[Parallel(n_jobs=12)]: Done  12 out of  12 | elapsed:    1.5s finished\n"
     ]
    },
    {
     "name": "stdout",
     "output_type": "stream",
     "text": [
      "iteration: 4 of max_iter: 5\n"
     ]
    },
    {
     "name": "stderr",
     "output_type": "stream",
     "text": [
      "[Parallel(n_jobs=12)]: Done   2 out of  12 | elapsed:    1.3s remaining:    6.7s\n",
      "[Parallel(n_jobs=12)]: Done  12 out of  12 | elapsed:    1.5s finished\n"
     ]
    },
    {
     "name": "stdout",
     "output_type": "stream",
     "text": [
      "iteration: 5 of max_iter: 5\n"
     ]
    },
    {
     "name": "stderr",
     "output_type": "stream",
     "text": [
      "[Parallel(n_jobs=12)]: Done   2 out of  12 | elapsed:    1.2s remaining:    5.8s\n",
      "[Parallel(n_jobs=12)]: Done  12 out of  12 | elapsed:    1.4s finished\n",
      "[Parallel(n_jobs=12)]: Done   2 out of  12 | elapsed:    0.4s remaining:    1.8s\n",
      "[Parallel(n_jobs=12)]: Done  12 out of  12 | elapsed:    0.4s finished\n",
      "[Parallel(n_jobs=12)]: Done   2 out of  12 | elapsed:    1.2s remaining:    6.1s\n",
      "[Parallel(n_jobs=12)]: Done  12 out of  12 | elapsed:    1.4s finished\n"
     ]
    },
    {
     "name": "stdout",
     "output_type": "stream",
     "text": [
      "[CV] ............... learning_decay=0.9, n_components=5, total=  11.6s\n",
      "[CV] learning_decay=0.9, n_components=7 ..............................\n"
     ]
    },
    {
     "name": "stderr",
     "output_type": "stream",
     "text": [
      "[Parallel(n_jobs=12)]: Done   2 out of  12 | elapsed:    1.3s remaining:    6.5s\n",
      "[Parallel(n_jobs=12)]: Done  12 out of  12 | elapsed:    1.4s finished\n"
     ]
    },
    {
     "name": "stdout",
     "output_type": "stream",
     "text": [
      "iteration: 1 of max_iter: 5\n"
     ]
    },
    {
     "name": "stderr",
     "output_type": "stream",
     "text": [
      "[Parallel(n_jobs=12)]: Done   2 out of  12 | elapsed:    1.1s remaining:    5.7s\n",
      "[Parallel(n_jobs=12)]: Done  12 out of  12 | elapsed:    1.2s finished\n"
     ]
    },
    {
     "name": "stdout",
     "output_type": "stream",
     "text": [
      "iteration: 2 of max_iter: 5\n"
     ]
    },
    {
     "name": "stderr",
     "output_type": "stream",
     "text": [
      "[Parallel(n_jobs=12)]: Done   2 out of  12 | elapsed:    1.1s remaining:    5.4s\n",
      "[Parallel(n_jobs=12)]: Done  12 out of  12 | elapsed:    1.2s finished\n"
     ]
    },
    {
     "name": "stdout",
     "output_type": "stream",
     "text": [
      "iteration: 3 of max_iter: 5\n"
     ]
    },
    {
     "name": "stderr",
     "output_type": "stream",
     "text": [
      "[Parallel(n_jobs=12)]: Done   2 out of  12 | elapsed:    1.1s remaining:    5.7s\n",
      "[Parallel(n_jobs=12)]: Done  12 out of  12 | elapsed:    1.3s finished\n"
     ]
    },
    {
     "name": "stdout",
     "output_type": "stream",
     "text": [
      "iteration: 4 of max_iter: 5\n"
     ]
    },
    {
     "name": "stderr",
     "output_type": "stream",
     "text": [
      "[Parallel(n_jobs=12)]: Done   2 out of  12 | elapsed:    1.1s remaining:    5.6s\n",
      "[Parallel(n_jobs=12)]: Done  12 out of  12 | elapsed:    1.3s finished\n"
     ]
    },
    {
     "name": "stdout",
     "output_type": "stream",
     "text": [
      "iteration: 5 of max_iter: 5\n"
     ]
    },
    {
     "name": "stderr",
     "output_type": "stream",
     "text": [
      "[Parallel(n_jobs=12)]: Done   2 out of  12 | elapsed:    1.1s remaining:    5.6s\n",
      "[Parallel(n_jobs=12)]: Done  12 out of  12 | elapsed:    1.3s finished\n",
      "[Parallel(n_jobs=12)]: Done   2 out of  12 | elapsed:    0.3s remaining:    1.7s\n",
      "[Parallel(n_jobs=12)]: Done  12 out of  12 | elapsed:    0.4s finished\n",
      "[Parallel(n_jobs=12)]: Done   2 out of  12 | elapsed:    1.0s remaining:    5.0s\n",
      "[Parallel(n_jobs=12)]: Done  12 out of  12 | elapsed:    1.2s finished\n"
     ]
    },
    {
     "name": "stdout",
     "output_type": "stream",
     "text": [
      "[CV] ............... learning_decay=0.9, n_components=7, total=  10.2s\n",
      "[CV] learning_decay=0.9, n_components=7 ..............................\n"
     ]
    },
    {
     "name": "stderr",
     "output_type": "stream",
     "text": [
      "[Parallel(n_jobs=12)]: Done   2 out of  12 | elapsed:    1.3s remaining:    6.4s\n",
      "[Parallel(n_jobs=12)]: Done  12 out of  12 | elapsed:    1.4s finished\n"
     ]
    },
    {
     "name": "stdout",
     "output_type": "stream",
     "text": [
      "iteration: 1 of max_iter: 5\n"
     ]
    },
    {
     "name": "stderr",
     "output_type": "stream",
     "text": [
      "[Parallel(n_jobs=12)]: Done   2 out of  12 | elapsed:    1.3s remaining:    6.3s\n",
      "[Parallel(n_jobs=12)]: Done  12 out of  12 | elapsed:    1.4s finished\n"
     ]
    },
    {
     "name": "stdout",
     "output_type": "stream",
     "text": [
      "iteration: 2 of max_iter: 5\n"
     ]
    },
    {
     "name": "stderr",
     "output_type": "stream",
     "text": [
      "[Parallel(n_jobs=12)]: Done   2 out of  12 | elapsed:    1.2s remaining:    6.0s\n",
      "[Parallel(n_jobs=12)]: Done  12 out of  12 | elapsed:    1.3s finished\n"
     ]
    },
    {
     "name": "stdout",
     "output_type": "stream",
     "text": [
      "iteration: 3 of max_iter: 5\n"
     ]
    },
    {
     "name": "stderr",
     "output_type": "stream",
     "text": [
      "[Parallel(n_jobs=12)]: Done   2 out of  12 | elapsed:    1.3s remaining:    6.4s\n",
      "[Parallel(n_jobs=12)]: Done  12 out of  12 | elapsed:    1.4s finished\n"
     ]
    },
    {
     "name": "stdout",
     "output_type": "stream",
     "text": [
      "iteration: 4 of max_iter: 5\n"
     ]
    },
    {
     "name": "stderr",
     "output_type": "stream",
     "text": [
      "[Parallel(n_jobs=12)]: Done   2 out of  12 | elapsed:    1.2s remaining:    6.0s\n",
      "[Parallel(n_jobs=12)]: Done  12 out of  12 | elapsed:    1.4s finished\n"
     ]
    },
    {
     "name": "stdout",
     "output_type": "stream",
     "text": [
      "iteration: 5 of max_iter: 5\n"
     ]
    },
    {
     "name": "stderr",
     "output_type": "stream",
     "text": [
      "[Parallel(n_jobs=12)]: Done   2 out of  12 | elapsed:    1.0s remaining:    5.2s\n",
      "[Parallel(n_jobs=12)]: Done  12 out of  12 | elapsed:    1.3s finished\n",
      "[Parallel(n_jobs=12)]: Done   2 out of  12 | elapsed:    0.3s remaining:    1.6s\n",
      "[Parallel(n_jobs=12)]: Done  12 out of  12 | elapsed:    0.4s finished\n",
      "[Parallel(n_jobs=12)]: Done   2 out of  12 | elapsed:    1.5s remaining:    7.5s\n",
      "[Parallel(n_jobs=12)]: Done  12 out of  12 | elapsed:    1.7s finished\n"
     ]
    },
    {
     "name": "stdout",
     "output_type": "stream",
     "text": [
      "[CV] ............... learning_decay=0.9, n_components=7, total=  11.6s\n",
      "[CV] learning_decay=0.9, n_components=7 ..............................\n"
     ]
    },
    {
     "name": "stderr",
     "output_type": "stream",
     "text": [
      "[Parallel(n_jobs=12)]: Done   2 out of  12 | elapsed:    1.3s remaining:    6.6s\n",
      "[Parallel(n_jobs=12)]: Done  12 out of  12 | elapsed:    1.4s finished\n"
     ]
    },
    {
     "name": "stdout",
     "output_type": "stream",
     "text": [
      "iteration: 1 of max_iter: 5\n"
     ]
    },
    {
     "name": "stderr",
     "output_type": "stream",
     "text": [
      "[Parallel(n_jobs=12)]: Done   2 out of  12 | elapsed:    1.7s remaining:    8.5s\n",
      "[Parallel(n_jobs=12)]: Done  12 out of  12 | elapsed:    1.8s finished\n"
     ]
    },
    {
     "name": "stdout",
     "output_type": "stream",
     "text": [
      "iteration: 2 of max_iter: 5\n"
     ]
    },
    {
     "name": "stderr",
     "output_type": "stream",
     "text": [
      "[Parallel(n_jobs=12)]: Done   2 out of  12 | elapsed:    1.2s remaining:    6.1s\n",
      "[Parallel(n_jobs=12)]: Done  12 out of  12 | elapsed:    1.4s finished\n"
     ]
    },
    {
     "name": "stdout",
     "output_type": "stream",
     "text": [
      "iteration: 3 of max_iter: 5\n"
     ]
    },
    {
     "name": "stderr",
     "output_type": "stream",
     "text": [
      "[Parallel(n_jobs=12)]: Done   2 out of  12 | elapsed:    1.2s remaining:    5.8s\n",
      "[Parallel(n_jobs=12)]: Done  12 out of  12 | elapsed:    1.3s finished\n"
     ]
    },
    {
     "name": "stdout",
     "output_type": "stream",
     "text": [
      "iteration: 4 of max_iter: 5\n"
     ]
    },
    {
     "name": "stderr",
     "output_type": "stream",
     "text": [
      "[Parallel(n_jobs=12)]: Done   2 out of  12 | elapsed:    1.3s remaining:    6.3s\n",
      "[Parallel(n_jobs=12)]: Done  12 out of  12 | elapsed:    1.4s finished\n"
     ]
    },
    {
     "name": "stdout",
     "output_type": "stream",
     "text": [
      "iteration: 5 of max_iter: 5\n"
     ]
    },
    {
     "name": "stderr",
     "output_type": "stream",
     "text": [
      "[Parallel(n_jobs=12)]: Done   2 out of  12 | elapsed:    1.1s remaining:    5.4s\n",
      "[Parallel(n_jobs=12)]: Done  12 out of  12 | elapsed:    1.2s finished\n",
      "[Parallel(n_jobs=12)]: Done   2 out of  12 | elapsed:    0.3s remaining:    1.7s\n",
      "[Parallel(n_jobs=12)]: Done  12 out of  12 | elapsed:    0.4s finished\n",
      "[Parallel(n_jobs=12)]: Done   2 out of  12 | elapsed:    1.0s remaining:    5.1s\n",
      "[Parallel(n_jobs=12)]: Done  12 out of  12 | elapsed:    1.2s finished\n"
     ]
    },
    {
     "name": "stdout",
     "output_type": "stream",
     "text": [
      "[CV] ............... learning_decay=0.9, n_components=7, total=  11.1s\n",
      "[CV] learning_decay=0.9, n_components=10 .............................\n"
     ]
    },
    {
     "name": "stderr",
     "output_type": "stream",
     "text": [
      "[Parallel(n_jobs=12)]: Done   2 out of  12 | elapsed:    1.5s remaining:    7.7s\n",
      "[Parallel(n_jobs=12)]: Done  12 out of  12 | elapsed:    1.6s finished\n"
     ]
    },
    {
     "name": "stdout",
     "output_type": "stream",
     "text": [
      "iteration: 1 of max_iter: 5\n"
     ]
    },
    {
     "name": "stderr",
     "output_type": "stream",
     "text": [
      "[Parallel(n_jobs=12)]: Done   2 out of  12 | elapsed:    1.0s remaining:    5.1s\n",
      "[Parallel(n_jobs=12)]: Done  12 out of  12 | elapsed:    1.1s finished\n"
     ]
    },
    {
     "name": "stdout",
     "output_type": "stream",
     "text": [
      "iteration: 2 of max_iter: 5\n"
     ]
    },
    {
     "name": "stderr",
     "output_type": "stream",
     "text": [
      "[Parallel(n_jobs=12)]: Done   2 out of  12 | elapsed:    1.0s remaining:    5.0s\n",
      "[Parallel(n_jobs=12)]: Done  12 out of  12 | elapsed:    1.1s finished\n"
     ]
    },
    {
     "name": "stdout",
     "output_type": "stream",
     "text": [
      "iteration: 3 of max_iter: 5\n"
     ]
    },
    {
     "name": "stderr",
     "output_type": "stream",
     "text": [
      "[Parallel(n_jobs=12)]: Done   2 out of  12 | elapsed:    1.1s remaining:    5.5s\n",
      "[Parallel(n_jobs=12)]: Done  12 out of  12 | elapsed:    1.2s finished\n"
     ]
    },
    {
     "name": "stdout",
     "output_type": "stream",
     "text": [
      "iteration: 4 of max_iter: 5\n"
     ]
    },
    {
     "name": "stderr",
     "output_type": "stream",
     "text": [
      "[Parallel(n_jobs=12)]: Done   2 out of  12 | elapsed:    1.2s remaining:    6.0s\n",
      "[Parallel(n_jobs=12)]: Done  12 out of  12 | elapsed:    1.3s finished\n"
     ]
    },
    {
     "name": "stdout",
     "output_type": "stream",
     "text": [
      "iteration: 5 of max_iter: 5\n"
     ]
    },
    {
     "name": "stderr",
     "output_type": "stream",
     "text": [
      "[Parallel(n_jobs=12)]: Done   2 out of  12 | elapsed:    1.0s remaining:    5.2s\n",
      "[Parallel(n_jobs=12)]: Done  12 out of  12 | elapsed:    1.2s finished\n",
      "[Parallel(n_jobs=12)]: Done   2 out of  12 | elapsed:    0.4s remaining:    1.8s\n",
      "[Parallel(n_jobs=12)]: Done  12 out of  12 | elapsed:    0.4s finished\n",
      "[Parallel(n_jobs=12)]: Done   2 out of  12 | elapsed:    1.0s remaining:    5.1s\n",
      "[Parallel(n_jobs=12)]: Done  12 out of  12 | elapsed:    1.2s finished\n"
     ]
    },
    {
     "name": "stdout",
     "output_type": "stream",
     "text": [
      "[CV] .............. learning_decay=0.9, n_components=10, total=  10.2s\n",
      "[CV] learning_decay=0.9, n_components=10 .............................\n"
     ]
    },
    {
     "name": "stderr",
     "output_type": "stream",
     "text": [
      "[Parallel(n_jobs=12)]: Done   2 out of  12 | elapsed:    2.1s remaining:   10.7s\n",
      "[Parallel(n_jobs=12)]: Done  12 out of  12 | elapsed:    2.3s finished\n"
     ]
    },
    {
     "name": "stdout",
     "output_type": "stream",
     "text": [
      "iteration: 1 of max_iter: 5\n"
     ]
    },
    {
     "name": "stderr",
     "output_type": "stream",
     "text": [
      "[Parallel(n_jobs=12)]: Done   2 out of  12 | elapsed:    1.7s remaining:    8.3s\n",
      "[Parallel(n_jobs=12)]: Done  12 out of  12 | elapsed:    1.9s finished\n"
     ]
    },
    {
     "name": "stdout",
     "output_type": "stream",
     "text": [
      "iteration: 2 of max_iter: 5\n"
     ]
    },
    {
     "name": "stderr",
     "output_type": "stream",
     "text": [
      "[Parallel(n_jobs=12)]: Done   2 out of  12 | elapsed:    2.3s remaining:   11.5s\n",
      "[Parallel(n_jobs=12)]: Done  12 out of  12 | elapsed:    2.4s finished\n"
     ]
    },
    {
     "name": "stdout",
     "output_type": "stream",
     "text": [
      "iteration: 3 of max_iter: 5\n"
     ]
    },
    {
     "name": "stderr",
     "output_type": "stream",
     "text": [
      "[Parallel(n_jobs=12)]: Done   2 out of  12 | elapsed:    1.8s remaining:    8.9s\n",
      "[Parallel(n_jobs=12)]: Done  12 out of  12 | elapsed:    2.1s finished\n"
     ]
    },
    {
     "name": "stdout",
     "output_type": "stream",
     "text": [
      "iteration: 4 of max_iter: 5\n",
      "iteration: 5 of max_iter: 5\n"
     ]
    },
    {
     "name": "stderr",
     "output_type": "stream",
     "text": [
      "[Parallel(n_jobs=12)]: Done   2 out of  12 | elapsed:    1.6s remaining:    7.8s\n",
      "[Parallel(n_jobs=12)]: Done  12 out of  12 | elapsed:    1.6s finished\n",
      "[Parallel(n_jobs=12)]: Done   2 out of  12 | elapsed:    1.1s remaining:    5.5s\n",
      "[Parallel(n_jobs=12)]: Done  12 out of  12 | elapsed:    1.3s finished\n",
      "[Parallel(n_jobs=12)]: Done   2 out of  12 | elapsed:    0.4s remaining:    2.2s\n",
      "[Parallel(n_jobs=12)]: Done  12 out of  12 | elapsed:    0.5s finished\n",
      "[Parallel(n_jobs=12)]: Done   2 out of  12 | elapsed:    1.3s remaining:    6.7s\n",
      "[Parallel(n_jobs=12)]: Done  12 out of  12 | elapsed:    1.5s finished\n"
     ]
    },
    {
     "name": "stdout",
     "output_type": "stream",
     "text": [
      "[CV] .............. learning_decay=0.9, n_components=10, total=  14.9s\n",
      "[CV] learning_decay=0.9, n_components=10 .............................\n"
     ]
    },
    {
     "name": "stderr",
     "output_type": "stream",
     "text": [
      "[Parallel(n_jobs=12)]: Done   2 out of  12 | elapsed:    1.1s remaining:    5.5s\n",
      "[Parallel(n_jobs=12)]: Done  12 out of  12 | elapsed:    1.2s finished\n"
     ]
    },
    {
     "name": "stdout",
     "output_type": "stream",
     "text": [
      "iteration: 1 of max_iter: 5\n"
     ]
    },
    {
     "name": "stderr",
     "output_type": "stream",
     "text": [
      "[Parallel(n_jobs=12)]: Done   2 out of  12 | elapsed:    1.0s remaining:    5.0s\n",
      "[Parallel(n_jobs=12)]: Done  12 out of  12 | elapsed:    1.1s finished\n"
     ]
    },
    {
     "name": "stdout",
     "output_type": "stream",
     "text": [
      "iteration: 2 of max_iter: 5\n"
     ]
    },
    {
     "name": "stderr",
     "output_type": "stream",
     "text": [
      "[Parallel(n_jobs=12)]: Done   2 out of  12 | elapsed:    1.0s remaining:    4.9s\n",
      "[Parallel(n_jobs=12)]: Done  12 out of  12 | elapsed:    1.1s finished\n"
     ]
    },
    {
     "name": "stdout",
     "output_type": "stream",
     "text": [
      "iteration: 3 of max_iter: 5\n"
     ]
    },
    {
     "name": "stderr",
     "output_type": "stream",
     "text": [
      "[Parallel(n_jobs=12)]: Done   2 out of  12 | elapsed:    1.0s remaining:    4.9s\n",
      "[Parallel(n_jobs=12)]: Done  12 out of  12 | elapsed:    1.2s finished\n"
     ]
    },
    {
     "name": "stdout",
     "output_type": "stream",
     "text": [
      "iteration: 4 of max_iter: 5\n"
     ]
    },
    {
     "name": "stderr",
     "output_type": "stream",
     "text": [
      "[Parallel(n_jobs=12)]: Done   2 out of  12 | elapsed:    1.3s remaining:    6.4s\n",
      "[Parallel(n_jobs=12)]: Done  12 out of  12 | elapsed:    1.4s finished\n"
     ]
    },
    {
     "name": "stdout",
     "output_type": "stream",
     "text": [
      "iteration: 5 of max_iter: 5\n"
     ]
    },
    {
     "name": "stderr",
     "output_type": "stream",
     "text": [
      "[Parallel(n_jobs=12)]: Done   2 out of  12 | elapsed:    0.9s remaining:    4.7s\n",
      "[Parallel(n_jobs=12)]: Done  12 out of  12 | elapsed:    1.1s finished\n",
      "[Parallel(n_jobs=12)]: Done   2 out of  12 | elapsed:    0.3s remaining:    1.5s\n",
      "[Parallel(n_jobs=12)]: Done  12 out of  12 | elapsed:    0.4s finished\n",
      "[Parallel(n_jobs=12)]: Done   2 out of  12 | elapsed:    0.9s remaining:    4.6s\n",
      "[Parallel(n_jobs=12)]: Done  12 out of  12 | elapsed:    1.2s finished\n"
     ]
    },
    {
     "name": "stdout",
     "output_type": "stream",
     "text": [
      "[CV] .............. learning_decay=0.9, n_components=10, total=   9.8s\n"
     ]
    },
    {
     "name": "stderr",
     "output_type": "stream",
     "text": [
      "[Parallel(n_jobs=1)]: Done  36 out of  36 | elapsed:  8.2min finished\n",
      "[Parallel(n_jobs=12)]: Done   2 out of  12 | elapsed:    2.5s remaining:   12.7s\n",
      "[Parallel(n_jobs=12)]: Done  12 out of  12 | elapsed:    2.7s finished\n"
     ]
    },
    {
     "name": "stdout",
     "output_type": "stream",
     "text": [
      "iteration: 1 of max_iter: 5\n"
     ]
    },
    {
     "name": "stderr",
     "output_type": "stream",
     "text": [
      "[Parallel(n_jobs=12)]: Done   2 out of  12 | elapsed:    2.4s remaining:   11.9s\n",
      "[Parallel(n_jobs=12)]: Done  12 out of  12 | elapsed:    2.6s finished\n"
     ]
    },
    {
     "name": "stdout",
     "output_type": "stream",
     "text": [
      "iteration: 2 of max_iter: 5\n"
     ]
    },
    {
     "name": "stderr",
     "output_type": "stream",
     "text": [
      "[Parallel(n_jobs=12)]: Done   2 out of  12 | elapsed:    2.1s remaining:   10.5s\n",
      "[Parallel(n_jobs=12)]: Done  12 out of  12 | elapsed:    2.2s finished\n"
     ]
    },
    {
     "name": "stdout",
     "output_type": "stream",
     "text": [
      "iteration: 3 of max_iter: 5\n"
     ]
    },
    {
     "name": "stderr",
     "output_type": "stream",
     "text": [
      "[Parallel(n_jobs=12)]: Done   2 out of  12 | elapsed:    2.3s remaining:   11.7s\n",
      "[Parallel(n_jobs=12)]: Done  12 out of  12 | elapsed:    2.6s finished\n"
     ]
    },
    {
     "name": "stdout",
     "output_type": "stream",
     "text": [
      "iteration: 4 of max_iter: 5\n"
     ]
    },
    {
     "name": "stderr",
     "output_type": "stream",
     "text": [
      "[Parallel(n_jobs=12)]: Done   2 out of  12 | elapsed:    2.0s remaining:   10.0s\n"
     ]
    },
    {
     "name": "stdout",
     "output_type": "stream",
     "text": [
      "iteration: 5 of max_iter: 5\n"
     ]
    },
    {
     "name": "stderr",
     "output_type": "stream",
     "text": [
      "[Parallel(n_jobs=12)]: Done  12 out of  12 | elapsed:    2.2s finished\n",
      "[Parallel(n_jobs=12)]: Done   2 out of  12 | elapsed:    1.8s remaining:    8.9s\n",
      "[Parallel(n_jobs=12)]: Done  12 out of  12 | elapsed:    2.0s finished\n"
     ]
    },
    {
     "data": {
      "text/plain": [
       "GridSearchCV(cv=None, error_score='raise',\n",
       "       estimator=LatentDirichletAllocation(batch_size=128, doc_topic_prior=None,\n",
       "             evaluate_every=-1, learning_decay=0.7,\n",
       "             learning_method='batch', learning_offset=50.0,\n",
       "             max_doc_update_iter=100, max_iter=5, mean_change_tol=0.001,\n",
       "             n_components=3, n_jobs=-1, n_topics=None, perp_tol=0.1,\n",
       "             random_state=0, topic_word_prior=None,\n",
       "             total_samples=1000000.0, verbose=2),\n",
       "       fit_params=None, iid=True, n_jobs=1,\n",
       "       param_grid={'n_components': [5, 7, 10], 'learning_decay': [0.1, 0.5, 0.7, 0.9]},\n",
       "       pre_dispatch='2*n_jobs', refit=True, return_train_score='warn',\n",
       "       scoring=None, verbose=2)"
      ]
     },
     "execution_count": 16,
     "metadata": {},
     "output_type": "execute_result"
    }
   ],
   "source": [
    "grid_search.fit(X)"
   ]
  },
  {
   "cell_type": "code",
   "execution_count": 17,
   "metadata": {},
   "outputs": [
    {
     "name": "stdout",
     "output_type": "stream",
     "text": [
      "Best Params:  {'learning_decay': 0.1, 'n_components': 5}\n",
      "Best Log Likelihood Score:  -524513.1526681972\n"
     ]
    },
    {
     "name": "stderr",
     "output_type": "stream",
     "text": [
      "[Parallel(n_jobs=12)]: Done   2 out of  12 | elapsed:    1.9s remaining:    9.4s\n",
      "[Parallel(n_jobs=12)]: Done  12 out of  12 | elapsed:    2.2s finished\n"
     ]
    },
    {
     "name": "stdout",
     "output_type": "stream",
     "text": [
      "Model Perplexity:  1033.8902764362479\n"
     ]
    }
   ],
   "source": [
    "# Best Model\n",
    "best_lda_model = grid_search.best_estimator_\n",
    "print(\"Best Params: \", grid_search.best_params_)\n",
    "print(\"Best Log Likelihood:\", grid_search.best_score_)\n",
    "print(\"Model Perplexity: \", best_lda_model.perplexity(X))"
   ]
  },
  {
   "cell_type": "code",
   "execution_count": 18,
   "metadata": {},
   "outputs": [
    {
     "name": "stderr",
     "output_type": "stream",
     "text": [
      "[Parallel(n_jobs=12)]: Done   2 out of  12 | elapsed:    1.8s remaining:    9.1s\n",
      "[Parallel(n_jobs=12)]: Done  12 out of  12 | elapsed:    2.0s finished\n",
      "/Users/karim/anaconda3/lib/python3.7/site-packages/pyLDAvis/_prepare.py:257: FutureWarning: Sorting because non-concatenation axis is not aligned. A future version\n",
      "of pandas will change to not sort by default.\n",
      "\n",
      "To accept the future behavior, pass 'sort=False'.\n",
      "\n",
      "To retain the current behavior and silence the warning, pass 'sort=True'.\n",
      "\n",
      "  return pd.concat([default_term_info] + list(topic_dfs))\n"
     ]
    },
    {
     "data": {
      "text/html": [
       "\n",
       "<link rel=\"stylesheet\" type=\"text/css\" href=\"https://cdn.rawgit.com/bmabey/pyLDAvis/files/ldavis.v1.0.0.css\">\n",
       "\n",
       "\n",
       "<div id=\"ldavis_el109181123210343041247354771\"></div>\n",
       "<script type=\"text/javascript\">\n",
       "\n",
       "var ldavis_el109181123210343041247354771_data = {\"mdsDat\": {\"x\": [-0.038660777526149145, 0.06174880138296907, -0.005819258563216841, -0.04121025724074899, 0.023941491947145843], \"y\": [0.011393842383821648, -0.028234883356546173, -0.010032009016755187, -0.022750045305055356, 0.049623095294535076], \"topics\": [1, 2, 3, 4, 5], \"cluster\": [1, 1, 1, 1, 1], \"Freq\": [27.528279480281398, 22.630233634134203, 21.521174255928432, 20.56743519717148, 7.752877432484481]}, \"tinfo\": {\"Category\": [\"Default\", \"Default\", \"Default\", \"Default\", \"Default\", \"Default\", \"Default\", \"Default\", \"Default\", \"Default\", \"Default\", \"Default\", \"Default\", \"Default\", \"Default\", \"Default\", \"Default\", \"Default\", \"Default\", \"Default\", \"Default\", \"Default\", \"Default\", \"Default\", \"Default\", \"Default\", \"Default\", \"Default\", \"Default\", \"Default\", \"Topic1\", \"Topic1\", \"Topic1\", \"Topic1\", \"Topic1\", \"Topic1\", \"Topic1\", \"Topic1\", \"Topic1\", \"Topic1\", \"Topic1\", \"Topic1\", \"Topic1\", \"Topic1\", \"Topic1\", \"Topic1\", \"Topic1\", \"Topic1\", \"Topic1\", \"Topic1\", \"Topic1\", \"Topic1\", \"Topic1\", \"Topic1\", \"Topic1\", \"Topic1\", \"Topic1\", \"Topic1\", \"Topic1\", \"Topic1\", \"Topic1\", \"Topic1\", \"Topic1\", \"Topic1\", \"Topic1\", \"Topic1\", \"Topic1\", \"Topic1\", \"Topic1\", \"Topic1\", \"Topic1\", \"Topic1\", \"Topic1\", \"Topic1\", \"Topic1\", \"Topic1\", \"Topic1\", \"Topic1\", \"Topic1\", \"Topic1\", \"Topic1\", \"Topic1\", \"Topic1\", \"Topic1\", \"Topic1\", \"Topic1\", \"Topic1\", \"Topic1\", \"Topic1\", \"Topic1\", \"Topic1\", \"Topic1\", \"Topic1\", \"Topic1\", \"Topic1\", \"Topic1\", \"Topic2\", \"Topic2\", \"Topic2\", \"Topic2\", \"Topic2\", \"Topic2\", \"Topic2\", \"Topic2\", \"Topic2\", \"Topic2\", \"Topic2\", \"Topic2\", \"Topic2\", \"Topic2\", \"Topic2\", \"Topic2\", \"Topic2\", \"Topic2\", \"Topic2\", \"Topic2\", \"Topic2\", \"Topic2\", \"Topic2\", \"Topic2\", \"Topic2\", \"Topic2\", \"Topic2\", \"Topic2\", \"Topic2\", \"Topic2\", \"Topic2\", \"Topic2\", \"Topic2\", \"Topic2\", \"Topic2\", \"Topic2\", \"Topic2\", \"Topic2\", \"Topic2\", \"Topic2\", \"Topic2\", \"Topic2\", \"Topic2\", \"Topic2\", \"Topic2\", \"Topic2\", \"Topic2\", \"Topic2\", \"Topic2\", \"Topic2\", \"Topic2\", \"Topic2\", \"Topic2\", \"Topic2\", \"Topic2\", \"Topic2\", \"Topic2\", \"Topic2\", \"Topic2\", \"Topic2\", \"Topic3\", \"Topic3\", \"Topic3\", \"Topic3\", \"Topic3\", \"Topic3\", \"Topic3\", \"Topic3\", \"Topic3\", \"Topic3\", \"Topic3\", \"Topic3\", \"Topic3\", \"Topic3\", \"Topic3\", \"Topic3\", \"Topic3\", \"Topic3\", \"Topic3\", \"Topic3\", \"Topic3\", \"Topic3\", \"Topic3\", \"Topic3\", \"Topic3\", \"Topic3\", \"Topic3\", \"Topic3\", \"Topic3\", \"Topic3\", \"Topic3\", \"Topic3\", \"Topic3\", \"Topic3\", \"Topic3\", \"Topic3\", \"Topic3\", \"Topic3\", \"Topic3\", \"Topic3\", \"Topic3\", \"Topic3\", \"Topic3\", \"Topic3\", \"Topic3\", \"Topic3\", \"Topic3\", \"Topic3\", \"Topic3\", \"Topic3\", \"Topic3\", \"Topic3\", \"Topic3\", \"Topic3\", \"Topic3\", \"Topic3\", \"Topic3\", \"Topic3\", \"Topic3\", \"Topic3\", \"Topic3\", \"Topic3\", \"Topic3\", \"Topic3\", \"Topic3\", \"Topic3\", \"Topic3\", \"Topic3\", \"Topic4\", \"Topic4\", \"Topic4\", \"Topic4\", \"Topic4\", \"Topic4\", \"Topic4\", \"Topic4\", \"Topic4\", \"Topic4\", \"Topic4\", \"Topic4\", \"Topic4\", \"Topic4\", \"Topic4\", \"Topic4\", \"Topic4\", \"Topic4\", \"Topic4\", \"Topic4\", \"Topic4\", \"Topic4\", \"Topic4\", \"Topic4\", \"Topic4\", \"Topic4\", \"Topic4\", \"Topic4\", \"Topic4\", \"Topic4\", \"Topic4\", \"Topic4\", \"Topic4\", \"Topic4\", \"Topic4\", \"Topic4\", \"Topic4\", \"Topic4\", \"Topic4\", \"Topic4\", \"Topic4\", \"Topic4\", \"Topic4\", \"Topic4\", \"Topic4\", \"Topic4\", \"Topic4\", \"Topic4\", \"Topic4\", \"Topic4\", \"Topic4\", \"Topic4\", \"Topic4\", \"Topic4\", \"Topic4\", \"Topic4\", \"Topic4\", \"Topic4\", \"Topic4\", \"Topic4\", \"Topic4\", \"Topic4\", \"Topic5\", \"Topic5\", \"Topic5\", \"Topic5\", \"Topic5\", \"Topic5\", \"Topic5\", \"Topic5\", \"Topic5\", \"Topic5\", \"Topic5\", \"Topic5\", \"Topic5\", \"Topic5\", \"Topic5\", \"Topic5\", \"Topic5\", \"Topic5\", \"Topic5\", \"Topic5\", \"Topic5\", \"Topic5\", \"Topic5\", \"Topic5\", \"Topic5\", \"Topic5\", \"Topic5\", \"Topic5\", \"Topic5\", \"Topic5\", \"Topic5\", \"Topic5\", \"Topic5\", \"Topic5\", \"Topic5\", \"Topic5\", \"Topic5\", \"Topic5\", \"Topic5\", \"Topic5\", \"Topic5\", \"Topic5\", \"Topic5\", \"Topic5\", \"Topic5\", \"Topic5\", \"Topic5\", \"Topic5\", \"Topic5\", \"Topic5\", \"Topic5\", \"Topic5\", \"Topic5\", \"Topic5\", \"Topic5\", \"Topic5\", \"Topic5\", \"Topic5\", \"Topic5\", \"Topic5\"], \"Freq\": [850.0, 478.0, 310.0, 1070.0, 1080.0, 1007.0, 410.0, 861.0, 153.0, 512.0, 1054.0, 226.0, 342.0, 524.0, 596.0, 1099.0, 102.0, 129.0, 626.0, 226.0, 191.0, 1010.0, 396.0, 939.0, 428.0, 298.0, 639.0, 263.0, 140.0, 1236.0, 75.97765494580575, 143.8079551098314, 86.06908743464254, 59.65884006121004, 60.48873929335065, 90.50915582956442, 87.35481840295391, 68.84477703283673, 86.86221210677714, 79.32824786555878, 124.41632921838908, 118.39039407947493, 61.951737396270545, 103.05066494734612, 56.10413069530701, 84.16227601492648, 81.25911065185461, 74.15524351783115, 52.28420202547243, 96.10207291597918, 99.94380638792909, 60.91432248865062, 202.1529327364686, 119.43696185579581, 94.75478963237894, 173.83674410446528, 72.1652552660249, 650.3243278293376, 140.8604887037189, 45.385689596808824, 84.899876181324, 116.13333832020975, 524.9277498482934, 311.8733266110089, 353.9168471454263, 401.2845073171032, 253.74082879464774, 346.9784224439637, 471.86685652353435, 237.652824992334, 171.1754918305451, 258.92582594646495, 201.3415041206498, 507.1381969514143, 308.9070998430892, 373.71273266112894, 204.87706881760016, 240.55733515997474, 443.6550642704403, 408.41894364447, 396.1657749738147, 279.11908839586965, 208.25412559714152, 334.66611136725146, 351.73031664892784, 319.53116687393816, 306.6538453258176, 358.0040143749989, 321.1147391373383, 304.92402496205506, 318.15783786345344, 345.2812879273169, 266.8905229900978, 253.30416853742406, 289.61633527441427, 251.1586385271124, 93.49921914321388, 74.21065298371362, 123.18647474877574, 61.30513524645416, 135.6644105536015, 813.6651538514488, 134.27921885752497, 94.0357511180838, 114.02298429817286, 124.50026173488607, 106.27439496792847, 78.5304371715854, 72.37043665150301, 103.66523362764634, 137.75777546280275, 82.27307019739136, 71.46506262011964, 281.38696631177027, 82.89533331697386, 105.9195115788629, 110.99320886531818, 148.31341834470547, 53.40591011499691, 100.03689851686218, 369.67715362846883, 61.76777658082735, 45.48688560544253, 104.2756401075195, 569.4902424670983, 111.59893919628854, 380.85663382112637, 328.3562268687041, 100.80690363887386, 332.9829149511238, 266.6701322738349, 437.0787656226484, 324.8339977914698, 160.77208188370872, 344.70009989213065, 179.58907474118652, 166.20210104904794, 201.65918431805034, 288.64580214835524, 278.07258882528635, 296.7086605289434, 302.49488113039666, 309.80963741071344, 271.0497619757169, 209.36951484972744, 274.9752063301833, 270.4731659225833, 205.6736213229326, 230.29111187790795, 225.39207765748503, 226.15600730537508, 224.4380959890134, 222.51827959538517, 210.76631077618129, 202.31377371761943, 203.36544134198692, 105.20162130995574, 107.03967260413955, 134.3901483055046, 141.00593789453194, 46.643928015833836, 338.1249656565058, 57.978708556139935, 140.12815873904842, 44.926904363638265, 80.88858272145562, 233.70232884126418, 44.132423899323854, 51.54870362584056, 32.51669780759231, 72.19090623621032, 41.584203413414656, 38.10420864909176, 58.46238636516386, 39.62713259875455, 60.023745480686934, 103.49579272691301, 37.87619377214089, 73.07542378652205, 59.999036127195296, 35.04627038139001, 48.94718016441311, 67.66015315603329, 87.27614221656245, 64.25403436405453, 73.5576370831, 91.15329053197625, 122.57410230715837, 162.69969590930367, 270.05602156337693, 144.48485927583346, 170.91799532884608, 185.3026497839057, 215.1459790970361, 267.7128125586181, 367.2012640025167, 201.97109775467644, 287.99590938732354, 329.14621480233853, 130.9491546146639, 310.1206952740609, 309.64228546661536, 253.70956027792062, 222.6125836071969, 289.58110187894954, 230.6992200180885, 264.5044800851391, 212.17229008814996, 313.293632990041, 186.0144032269719, 318.7620893547858, 186.6526729576588, 211.41144917811383, 193.80817144155125, 220.7597326172834, 236.8811468487833, 217.73497250330814, 203.87449449332658, 205.87579846642316, 217.31473076913653, 208.0003715905304, 198.9359402101802, 198.64053354782283, 198.20549622202282, 57.76508488700636, 336.6828571481713, 62.39409209964425, 66.5543695472667, 109.01190482847414, 81.27679236877088, 60.57352795456681, 123.93713203909967, 58.85673561117553, 67.34770116544142, 186.65958700524635, 71.15594360709359, 68.71937547491575, 126.66157646927458, 49.84544917306914, 171.84143654990336, 80.79795226246489, 86.92524311827607, 40.2166655851335, 124.4357216324096, 106.21360548442553, 168.26040246473974, 45.813502325872214, 38.83951963632791, 66.67220820975798, 74.78829921220964, 205.03789868194633, 45.66811333881396, 43.58547667147298, 52.584735864769335, 142.24892977068717, 531.2092509705693, 98.27836800314378, 94.24675388662371, 425.0078844126739, 157.72200872913842, 335.5220095200618, 335.36894497422566, 169.9892586755916, 283.42783388922516, 222.2718918510076, 251.4982326745511, 273.1530947704531, 148.23439977509716, 160.5961789910039, 226.725910062687, 258.4999200983661, 268.18989318808076, 243.11762704646281, 131.21511046430868, 166.2171502278177, 170.11276155120328, 242.6392872008105, 197.16870751737574, 204.09272964213227, 189.4471799037415, 188.48530226564344, 172.99955820431882, 171.5266806913704, 192.1750516428747, 182.83981534228664, 182.77662931467881, 94.30745397029266, 132.4877160382692, 62.357972497467365, 54.42027419231669, 56.61373479348695, 44.37969391797291, 54.79163849839019, 83.22385701987196, 58.549850877349996, 47.58000161750004, 167.10589016481663, 50.04875009518018, 38.56794823001135, 98.12791614035868, 37.970235008763005, 52.79065344022822, 51.901587558931055, 39.69795921197245, 36.82840696733063, 36.27968953006106, 27.37039556082554, 172.34921559403654, 34.70939915636714, 36.12148242417494, 25.832358802769715, 48.042670971779025, 28.68988663847341, 59.019909346183574, 36.827272986235634, 27.125569742719254, 63.578699970897084, 62.97891089833138, 60.58669066322904, 66.5334770284875, 185.66788041004168, 79.82740066544964, 49.05503324112761, 71.96522846436986, 118.43445908812498, 98.09401701883593, 99.15212347822988, 102.75955801835885, 111.69859595998932, 80.32990350309971, 100.04407545140747, 103.57382252852895, 89.63715922628002, 87.81035686366656, 93.48860925544592, 94.43319529324474, 86.24103602261287, 74.65329349307119, 85.37000387498897, 86.00130845801004, 81.72968417544375, 76.00865278746349, 77.69174707049578, 77.42985274598867, 69.9372124428361, 71.18145582646216], \"Term\": [\"rye\", \"bad\", \"average\", \"peat\", \"sherry\", \"good\", \"laphroaig\", \"bourbon\", \"flaw\", \"proof\", \"smoke\", \"excellent\", \"corn\", \"whiskey\", \"barrel\", \"cask\", \"disgust\", \"incredible\", \"scotch\", \"macallan\", \"glenfarclas\", \"malt\", \"islay\", \"fruit\", \"rating\", \"ardbeg\", \"flavor\", \"favorite\", \"turkey\", \"whisky\", \"benrinnes\", \"glendronach\", \"butt\", \"marzipan\", \"sulphur\", \"arrival\", \"clynelish\", \"wax\", \"juicy\", \"non\", \"raisins\", \"oloroso\", \"prune\", \"arran\", \"waxy\", \"hogshead\", \"signatory\", \"fig\", \"marmalade\", \"aberlour\", \"refill\", \"chillfiltered\", \"raisin\", \"glenfarclas\", \"natural\", \"mature\", \"hi\", \"sherry\", \"plum\", \"hazelnut\", \"px\", \"sherried\", \"cask\", \"chocolate\", \"dry\", \"fruit\", \"medium\", \"honey\", \"oak\", \"lemon\", \"ginger\", \"orange\", \"wine\", \"finish\", \"apple\", \"malt\", \"toffee\", \"dark\", \"nose\", \"note\", \"sweet\", \"pepper\", \"red\", \"year\", \"vanilla\", \"palate\", \"spice\", \"whisky\", \"smoke\", \"bit\", \"peat\", \"taste\", \"light\", \"color\", \"bottle\", \"old\", \"stagg\", \"booker\", \"weller\", \"jr\", \"turkey\", \"rye\", \"mashbill\", \"creek\", \"kentucky\", \"beam\", \"dill\", \"hill\", \"heaven\", \"buffalo\", \"rose\", \"west\", \"maker\", \"corn\", \"mash\", \"rbourbon\", \"wild\", \"four\", \"taylor\", \"trace\", \"proof\", \"jim\", \"eh\", \"straight\", \"bourbon\", \"canadian\", \"barrel\", \"whiskey\", \"product\", \"caramel\", \"cinnamon\", \"oak\", \"spice\", \"mint\", \"vanilla\", \"high\", \"batch\", \"cherry\", \"bottle\", \"like\", \"taste\", \"nose\", \"finish\", \"review\", \"flavor\", \"note\", \"sweet\", \"age\", \"get\", \"bit\", \"good\", \"year\", \"one\", \"really\", \"old\", \"score\", \"johnnie\", \"walker\", \"glenfiddich\", \"glenlivet\", \"jura\", \"scotch\", \"aftertaste\", \"pay\", \"compass\", \"friend\", \"blend\", \"gift\", \"usd\", \"god\", \"pale\", \"scent\", \"plastic\", \"drinker\", \"sale\", \"edit\", \"label\", \"smokiness\", \"cheap\", \"box\", \"appreciate\", \"liquor\", \"final\", \"balvenie\", \"smokey\", \"decide\", \"tongue\", \"grain\", \"alcohol\", \"would\", \"smooth\", \"drink\", \"buy\", \"first\", \"light\", \"taste\", \"dram\", \"malt\", \"whisky\", \"short\", \"bottle\", \"review\", \"get\", \"color\", \"like\", \"honey\", \"smoke\", \"apple\", \"nose\", \"price\", \"finish\", \"try\", \"im\", \"go\", \"one\", \"sweet\", \"bit\", \"score\", \"palate\", \"note\", \"peat\", \"good\", \"vanilla\", \"oak\", \"shall\", \"laphroaig\", \"quarter\", \"lcbo\", \"kilchoman\", \"seaweed\", \"longrow\", \"iodine\", \"bacon\", \"octomore\", \"ardbeg\", \"bbq\", \"amrut\", \"talisker\", \"website\", \"peated\", \"meat\", \"lagavulin\", \"ontario\", \"ash\", \"medicinal\", \"brine\", \"aspect\", \"yeah\", \"element\", \"rubber\", \"islay\", \"okay\", \"uigeadail\", \"ashy\", \"however\", \"peat\", \"earth\", \"park\", \"smoke\", \"flavour\", \"cask\", \"whisky\", \"salt\", \"like\", \"im\", \"one\", \"review\", \"colour\", \"lemon\", \"malt\", \"taste\", \"finish\", \"note\", \"port\", \"make\", \"dram\", \"nose\", \"really\", \"year\", \"well\", \"get\", \"go\", \"time\", \"bottle\", \"good\", \"sweet\", \"disgust\", \"flaw\", \"exceptional\", \"consume\", \"multiple\", \"nikka\", \"awful\", \"incredible\", \"poor\", \"mildly\", \"average\", \"scale\", \"possible\", \"excellent\", \"possibly\", \"daily\", \"choice\", \"highly\", \"seriously\", \"rate\", \"category\", \"bad\", \"japanese\", \"unpleasant\", \"dalmore\", \"cut\", \"terrible\", \"drinkable\", \"couldnt\", \"abunadh\", \"macallan\", \"wouldnt\", \"solid\", \"favorite\", \"good\", \"rating\", \"glenfarclas\", \"thing\", \"sweet\", \"well\", \"fruit\", \"sherry\", \"finish\", \"flavor\", \"note\", \"nose\", \"really\", \"score\", \"review\", \"whisky\", \"palate\", \"great\", \"vanilla\", \"like\", \"bottle\", \"little\", \"malt\", \"taste\", \"id\", \"cask\"], \"Total\": [850.0, 478.0, 310.0, 1070.0, 1080.0, 1007.0, 410.0, 861.0, 153.0, 512.0, 1054.0, 226.0, 342.0, 524.0, 596.0, 1099.0, 102.0, 129.0, 626.0, 226.0, 191.0, 1010.0, 396.0, 939.0, 428.0, 298.0, 639.0, 263.0, 140.0, 1236.0, 93.84625509222934, 181.7309306123777, 114.2766820525155, 80.73712061482631, 82.04075574324678, 124.22839033164668, 120.43494353105346, 97.54470485125174, 123.97814565453115, 113.57518446495574, 178.53961957723715, 170.29965881855335, 89.67511733938693, 149.80905473262075, 81.70324707526194, 123.64131168020822, 123.62149303323746, 114.70594025987164, 81.08817274123477, 150.1669297158225, 156.47282701663096, 96.9370827774792, 323.3005393488721, 191.3119189933402, 154.8447398172907, 287.3082365253176, 119.62664342923722, 1080.5510804657642, 236.4079231509486, 76.4952305920816, 143.4401361628053, 200.7389628919554, 1099.9635308753204, 620.4036690137706, 746.7381245860115, 939.8453552936408, 556.4810650527575, 848.114200149093, 1306.785107929949, 524.3312091928601, 338.16395820494074, 594.1884450516426, 422.4833807180893, 1515.5984128649834, 766.9011472652421, 1010.758638391873, 434.8076086376544, 552.9617568724964, 1405.6566881202175, 1243.8705832416601, 1204.731176147985, 713.2819827088605, 458.88529669917455, 985.7098861798635, 1113.991876988669, 952.7937608124479, 928.0621088206718, 1236.3127895991302, 1054.8594095838735, 962.943975517695, 1070.3110259197763, 1345.1209853031319, 883.8630188817557, 774.8143274530119, 1162.2875685151487, 779.7242688503993, 95.27998973191401, 76.24287466306305, 126.73651668484774, 63.49865529960495, 140.80729694174343, 850.4427679663477, 142.59101126368893, 100.06136602872627, 121.39155003351922, 135.96003159147222, 117.26652647957211, 86.76914487675712, 81.29300579676871, 117.44291201355361, 159.0543146139125, 96.6929161038081, 84.79370441674203, 342.654475619348, 101.38807989079046, 129.8949053247464, 138.7635502174761, 193.2112367955672, 70.55798362756757, 137.24005942531107, 512.7087682771611, 86.37542413960766, 65.11582780081456, 156.62282371581736, 861.817794637291, 171.06478979379452, 596.6804160047601, 524.9112748920943, 161.88448956047839, 804.5326607439594, 622.0186124136953, 1306.785107929949, 928.0621088206718, 310.2708605207686, 1113.991876988669, 390.18901369970393, 346.0579252850173, 522.0625262371256, 1162.2875685151487, 1165.9540482121317, 1345.1209853031319, 1405.6566881202175, 1515.5984128649834, 1181.937255201387, 639.6041932482651, 1243.8705832416601, 1204.731176147985, 623.8594887433243, 909.961816926471, 962.943975517695, 1007.4396011320152, 985.7098861798635, 991.3960099683418, 900.0675826017025, 779.7242688503993, 837.9610623062084, 115.03089547118537, 122.12163102411067, 184.38126752291328, 196.55396391138018, 82.50335276747164, 626.794395658793, 113.01261593078183, 283.3220078094219, 91.03792529907788, 166.44943627793245, 481.98516907256567, 92.3215335338169, 108.06604343687425, 68.9128552987877, 155.81811263339108, 90.97275120421789, 83.50447557049478, 128.80270943207933, 87.44948265951831, 132.72784996567984, 229.8256021221043, 84.87976626661873, 167.30154606973525, 141.01802375555164, 82.73106879161355, 116.09624652624989, 160.64264622742454, 208.83095102763684, 153.91263981883642, 177.9012370993818, 226.40101535217107, 315.03908743713356, 430.99311070043905, 773.9449701031973, 385.5453126158902, 477.10750523260026, 546.1680780234067, 661.4599372876944, 883.8630188817557, 1345.1209853031319, 636.72760708144, 1010.758638391873, 1236.3127895991302, 368.2773324572247, 1162.2875685151487, 1181.937255201387, 909.961816926471, 774.8143274530119, 1165.9540482121317, 848.114200149093, 1054.8594095838735, 766.9011472652421, 1405.6566881202175, 632.4114799215333, 1515.5984128649834, 637.5082688879658, 798.9818595953831, 685.1614461671788, 991.3960099683418, 1204.731176147985, 962.943975517695, 837.9610623062084, 952.7937608124479, 1243.8705832416601, 1070.3110259197763, 1007.4396011320152, 1113.991876988669, 1306.785107929949, 70.03195918356104, 410.26431896271816, 80.70296433552213, 92.59852468154465, 153.89824924299782, 119.98195548040795, 93.9631386020053, 192.52839741511826, 92.57015069393417, 107.16244098782241, 298.5570224777082, 113.9308387823497, 111.88487478667334, 207.60921386601805, 83.18823468989832, 291.2121090395098, 140.24659629151606, 151.38642963487308, 70.48705577075577, 221.26117567139525, 190.0873474133181, 306.6823692561594, 83.68809603910933, 72.42010075559662, 127.68335928604418, 143.76856353918333, 396.6685485996564, 88.44612985261622, 84.45040953131145, 103.23187830868618, 279.4727063942721, 1070.3110259197763, 192.98762616930944, 193.960008554735, 1054.8594095838735, 350.41368928517176, 1099.9635308753204, 1236.3127895991302, 485.9211516950106, 1165.9540482121317, 798.9818595953831, 991.3960099683418, 1181.937255201387, 422.7076239080233, 524.3312091928601, 1010.758638391873, 1345.1209853031319, 1515.5984128649834, 1243.8705832416601, 361.58208861698535, 601.009524421781, 636.72760708144, 1405.6566881202175, 900.0675826017025, 985.7098861798635, 829.795771693081, 909.961816926471, 685.1614461671788, 686.285185728244, 1162.2875685151487, 1007.4396011320152, 1204.731176147985, 102.18112346136917, 153.67670358475584, 85.94276341812315, 79.90426156204204, 85.67239476277364, 67.66276195999555, 85.55720554405684, 129.97207520109876, 94.79458159328523, 85.65989431980869, 310.4032499023873, 98.08665205826291, 80.46964278756992, 226.43336416462296, 88.4464018950529, 126.25372686195183, 128.00264407101417, 97.98778751240877, 92.47152060763256, 92.73047592788087, 74.78139680701082, 478.23659198105844, 97.53835549320479, 110.89073979379695, 81.46817058137034, 151.6373621813435, 92.27511392723068, 200.49435923182307, 129.51363287280864, 96.04398217131244, 226.185400642656, 224.7150000964701, 224.6998693003219, 263.0445978772555, 1007.4396011320152, 428.6234699999489, 191.3119189933402, 414.0799268666086, 1204.731176147985, 829.795771693081, 939.8453552936408, 1080.5510804657642, 1515.5984128649834, 639.6041932482651, 1243.8705832416601, 1405.6566881202175, 900.0675826017025, 837.9610623062084, 1181.937255201387, 1236.3127895991302, 952.7937608124479, 525.5155514523018, 1113.991876988669, 1165.9540482121317, 1162.2875685151487, 765.327264158375, 1010.758638391873, 1345.1209853031319, 472.72717685426466, 1099.9635308753204], \"loglift\": [30.0, 29.0, 28.0, 27.0, 26.0, 25.0, 24.0, 23.0, 22.0, 21.0, 20.0, 19.0, 18.0, 17.0, 16.0, 15.0, 14.0, 13.0, 12.0, 11.0, 10.0, 9.0, 8.0, 7.0, 6.0, 5.0, 4.0, 3.0, 2.0, 1.0, 1.0787, 1.0559, 1.0065, 0.9874, 0.9852, 0.9733, 0.9688, 0.9415, 0.9342, 0.9311, 0.9288, 0.9264, 0.9201, 0.9158, 0.9141, 0.9053, 0.8704, 0.8537, 0.8511, 0.8436, 0.8417, 0.8254, 0.8204, 0.8188, 0.7988, 0.7875, 0.7845, 0.7822, 0.7722, 0.7679, 0.7655, 0.7427, 0.5502, 0.6022, 0.5433, 0.4389, 0.5046, 0.3962, 0.2713, 0.4986, 0.6091, 0.4593, 0.5488, 0.1952, 0.3806, 0.295, 0.5375, 0.4576, 0.1367, 0.1763, 0.1778, 0.3517, 0.4999, 0.2097, 0.1371, 0.1974, 0.1826, 0.0506, 0.1006, 0.14, 0.0768, -0.0699, 0.0925, 0.1719, -0.0996, 0.1571, 1.467, 1.4589, 1.4575, 1.4507, 1.4487, 1.4417, 1.4258, 1.4238, 1.4233, 1.3978, 1.3875, 1.3861, 1.3696, 1.3611, 1.3421, 1.3244, 1.3149, 1.2889, 1.2845, 1.2818, 1.2626, 1.2214, 1.2074, 1.1697, 1.1588, 1.1506, 1.1271, 1.0791, 1.0716, 1.0588, 1.0369, 1.0168, 1.0122, 0.6037, 0.6389, 0.3907, 0.4361, 0.8284, 0.3129, 0.7099, 0.7525, 0.5347, 0.0929, 0.0525, -0.0256, -0.0503, -0.1017, 0.0133, 0.3691, -0.0234, -0.008, 0.3762, 0.1118, 0.0337, -0.0081, 0.0061, -0.0082, 0.0342, 0.1368, 0.0699, 1.4468, 1.4043, 1.2199, 1.204, 0.9658, 0.9189, 0.8687, 0.8321, 0.8299, 0.8145, 0.8123, 0.7981, 0.7959, 0.785, 0.7668, 0.7533, 0.7516, 0.7462, 0.7446, 0.7426, 0.7383, 0.7292, 0.7078, 0.6816, 0.6772, 0.6725, 0.6714, 0.6637, 0.6626, 0.653, 0.6264, 0.5922, 0.5619, 0.4833, 0.5546, 0.5096, 0.4552, 0.413, 0.3417, 0.2378, 0.3879, 0.2806, 0.2127, 0.5021, 0.2149, 0.1966, 0.2589, 0.2889, 0.1433, 0.2342, 0.1528, 0.2512, 0.035, 0.3124, -0.023, 0.3078, 0.2066, 0.2733, 0.0341, -0.0903, 0.0494, 0.1227, 0.004, -0.2085, -0.102, -0.0861, -0.1881, -0.3499, 1.3889, 1.3838, 1.3242, 1.2512, 1.2366, 1.192, 1.1424, 1.141, 1.1286, 1.117, 1.1118, 1.1107, 1.094, 1.0873, 1.0693, 1.054, 1.03, 1.0267, 1.0203, 1.0059, 0.9994, 0.9812, 0.9789, 0.9584, 0.9317, 0.9279, 0.9216, 0.9205, 0.92, 0.9069, 0.9061, 0.8809, 0.9066, 0.8597, 0.6724, 0.7832, 0.3941, 0.2768, 0.5312, 0.1671, 0.302, 0.2098, 0.1166, 0.5336, 0.3982, 0.0867, -0.0679, -0.1504, -0.051, 0.5678, 0.2961, 0.2616, -0.1752, 0.0631, 0.0067, 0.1044, 0.0071, 0.2051, 0.1949, -0.2183, -0.1251, -0.3043, 2.4769, 2.4087, 2.2363, 2.173, 2.1428, 2.1354, 2.1115, 2.1113, 2.0753, 1.9691, 1.9379, 1.8843, 1.8216, 1.7209, 1.7115, 1.6851, 1.6544, 1.6536, 1.6365, 1.6187, 1.552, 1.5365, 1.5239, 1.4354, 1.4085, 1.4077, 1.3889, 1.3342, 1.2996, 1.2928, 1.288, 1.2851, 1.2464, 1.1825, 0.8659, 0.8764, 1.1961, 0.8072, 0.2375, 0.4219, 0.308, 0.2043, -0.0507, 0.4824, 0.0367, -0.0509, 0.2504, 0.3013, 0.02, -0.0149, 0.1549, 0.6056, -0.0116, -0.0498, -0.0976, 0.2476, -0.0086, -0.2978, 0.6462, -0.1807], \"logprob\": [30.0, 29.0, 28.0, 27.0, 26.0, 25.0, 24.0, 23.0, 22.0, 21.0, 20.0, 19.0, 18.0, 17.0, 16.0, 15.0, 14.0, 13.0, 12.0, 11.0, 10.0, 9.0, 8.0, 7.0, 6.0, 5.0, 4.0, 3.0, 2.0, 1.0, -6.6918, -6.0537, -6.567, -6.9336, -6.9197, -6.5167, -6.5522, -6.7903, -6.5579, -6.6486, -6.1986, -6.2482, -6.8958, -6.387, -6.995, -6.5895, -6.6246, -6.716, -7.0655, -6.4568, -6.4176, -6.9127, -5.7132, -6.2394, -6.4709, -5.8641, -6.7432, -4.5447, -6.0744, -7.207, -6.5807, -6.2675, -4.7589, -5.2796, -5.1531, -5.0275, -5.4859, -5.1729, -4.8655, -5.5514, -5.8795, -5.4657, -5.7172, -4.7934, -5.2892, -5.0987, -5.6998, -5.5392, -4.9272, -5.0099, -5.0404, -5.3906, -5.6834, -5.2091, -5.1593, -5.2553, -5.2965, -5.1417, -5.2504, -5.3021, -5.2597, -5.1778, -5.4354, -5.4876, -5.3536, -5.4961, -6.2883, -6.5194, -6.0126, -6.7104, -5.9161, -4.1247, -5.9264, -6.2826, -6.0899, -6.002, -6.1602, -6.4628, -6.5445, -6.1851, -5.9008, -6.4162, -6.5571, -5.1865, -6.4087, -6.1636, -6.1168, -5.8269, -6.8484, -6.2207, -4.9136, -6.7029, -7.0088, -6.1792, -4.4815, -6.1114, -4.8838, -5.0322, -6.2131, -5.0182, -5.2403, -4.7462, -5.043, -5.7463, -4.9836, -5.6356, -5.7131, -5.5197, -5.1611, -5.1984, -5.1335, -5.1142, -5.0903, -5.224, -5.4822, -5.2096, -5.2261, -5.5, -5.3869, -5.4084, -5.405, -5.4127, -5.4213, -5.4755, -5.5165, -5.5113, -6.1201, -6.1028, -5.8753, -5.8272, -6.9335, -4.9526, -6.7159, -5.8335, -6.971, -6.3829, -5.322, -6.9888, -6.8335, -7.2943, -6.4967, -7.0483, -7.1357, -6.7076, -7.0965, -6.6813, -6.1365, -7.1417, -6.4845, -6.6817, -7.2194, -6.8853, -6.5615, -6.3069, -6.6132, -6.478, -6.2635, -5.9673, -5.6841, -5.1774, -5.8028, -5.6348, -5.554, -5.4047, -5.1861, -4.8701, -5.4679, -5.1131, -4.9795, -5.9012, -5.0391, -5.0406, -5.2398, -5.3706, -5.1076, -5.3349, -5.1982, -5.4186, -5.0289, -5.5502, -5.0116, -5.5468, -5.4222, -5.5092, -5.3789, -5.3085, -5.3927, -5.4585, -5.4487, -5.3947, -5.4385, -5.483, -5.4845, -5.4867, -6.6743, -4.9116, -6.5972, -6.5327, -6.0392, -6.3328, -6.6268, -5.9109, -6.6556, -6.5208, -5.5014, -6.4658, -6.5007, -5.8892, -6.8218, -5.5841, -6.3387, -6.2656, -7.0364, -5.9069, -6.0652, -5.6052, -6.9061, -7.0713, -6.5309, -6.416, -5.4075, -6.9093, -6.956, -6.7683, -5.7731, -4.4555, -6.1429, -6.1848, -4.6786, -5.6699, -4.915, -4.9155, -5.595, -5.0837, -5.3268, -5.2033, -5.1207, -5.7319, -5.6518, -5.307, -5.1758, -5.139, -5.2371, -5.8539, -5.6174, -5.5942, -5.2391, -5.4466, -5.4121, -5.4866, -5.4917, -5.5774, -5.586, -5.4723, -5.5221, -5.5224, -5.2085, -4.8686, -5.6222, -5.7583, -5.7188, -5.9623, -5.7515, -5.3335, -5.6852, -5.8926, -4.6364, -5.8421, -6.1026, -5.1688, -6.1182, -5.7887, -5.8057, -6.0737, -6.1488, -6.1638, -6.4456, -4.6055, -6.208, -6.1682, -6.5034, -5.883, -6.3985, -5.6772, -6.1488, -6.4546, -5.6028, -5.6122, -5.651, -5.5573, -4.5311, -5.3752, -5.8621, -5.4789, -4.9807, -5.1691, -5.1584, -5.1227, -5.0392, -5.3689, -5.1494, -5.1148, -5.2593, -5.2799, -5.2172, -5.2072, -5.2979, -5.4422, -5.3081, -5.3007, -5.3516, -5.4242, -5.4023, -5.4057, -5.5075, -5.4898]}, \"token.table\": {\"Topic\": [1, 3, 4, 5, 1, 3, 4, 5, 1, 2, 3, 4, 5, 1, 2, 3, 4, 5, 1, 2, 3, 4, 5, 1, 3, 4, 5, 1, 2, 3, 4, 5, 1, 2, 3, 4, 5, 1, 2, 3, 4, 5, 1, 3, 4, 5, 1, 2, 3, 4, 5, 1, 2, 3, 4, 5, 1, 2, 3, 4, 5, 1, 2, 3, 4, 5, 1, 2, 3, 4, 5, 1, 2, 3, 4, 5, 1, 2, 3, 4, 1, 2, 3, 4, 5, 1, 2, 3, 4, 5, 1, 2, 3, 4, 5, 1, 2, 3, 4, 5, 1, 2, 3, 4, 5, 2, 3, 4, 5, 1, 3, 4, 5, 1, 2, 3, 4, 5, 1, 2, 3, 4, 5, 2, 3, 5, 1, 2, 3, 4, 5, 1, 2, 3, 4, 5, 1, 2, 3, 4, 5, 1, 2, 3, 4, 5, 1, 2, 3, 4, 5, 1, 2, 3, 4, 5, 1, 2, 3, 4, 5, 1, 2, 3, 4, 5, 1, 2, 3, 4, 5, 1, 2, 3, 4, 5, 1, 2, 3, 4, 5, 1, 2, 3, 4, 5, 1, 2, 3, 4, 5, 1, 2, 3, 4, 5, 1, 2, 3, 4, 5, 1, 2, 3, 4, 5, 1, 2, 3, 4, 5, 1, 3, 4, 5, 1, 2, 3, 4, 5, 1, 2, 3, 4, 5, 1, 3, 4, 5, 1, 2, 3, 4, 5, 1, 2, 3, 4, 5, 1, 2, 3, 4, 5, 2, 3, 4, 5, 1, 2, 3, 4, 5, 1, 2, 3, 4, 5, 1, 3, 4, 5, 1, 2, 3, 4, 5, 1, 2, 3, 4, 5, 1, 2, 3, 4, 5, 2, 3, 5, 1, 2, 3, 4, 5, 1, 2, 3, 4, 5, 1, 2, 3, 4, 5, 1, 2, 3, 4, 5, 1, 2, 3, 4, 5, 1, 2, 3, 4, 5, 1, 2, 3, 4, 5, 1, 2, 3, 4, 5, 1, 2, 3, 4, 5, 1, 2, 3, 4, 5, 1, 2, 3, 4, 5, 1, 2, 3, 4, 5, 1, 2, 3, 4, 5, 1, 2, 3, 4, 5, 1, 2, 3, 4, 5, 1, 2, 3, 4, 5, 1, 2, 3, 4, 5, 1, 2, 3, 4, 5, 1, 2, 3, 4, 5, 1, 2, 3, 4, 5, 1, 2, 3, 4, 5, 1, 2, 3, 4, 5, 1, 2, 3, 4, 5, 1, 2, 3, 4, 5, 1, 2, 3, 4, 5, 1, 3, 4, 5, 1, 3, 4, 5, 1, 3, 4, 5, 1, 2, 3, 4, 5, 1, 2, 3, 4, 5, 1, 2, 3, 4, 5, 1, 2, 3, 4, 5, 1, 2, 3, 4, 5, 1, 2, 3, 4, 5, 1, 2, 3, 4, 5, 1, 2, 3, 4, 5, 1, 2, 3, 4, 5, 1, 2, 3, 4, 5, 1, 2, 3, 4, 5, 1, 2, 3, 4, 5, 1, 3, 4, 5, 1, 2, 3, 4, 5, 1, 2, 3, 4, 5, 1, 2, 3, 4, 5, 1, 2, 3, 4, 5, 1, 2, 3, 4, 5, 1, 3, 4, 5, 1, 2, 3, 4, 5, 1, 2, 3, 4, 5, 1, 2, 3, 4, 5, 1, 2, 3, 4, 5, 2, 3, 4, 5, 1, 2, 3, 4, 5, 1, 3, 4, 2, 3, 4, 5, 1, 3, 4, 5, 1, 2, 3, 4, 5, 1, 3, 4, 5, 1, 3, 4, 5, 1, 2, 3, 4, 1, 2, 3, 4, 5, 1, 2, 3, 4, 5, 1, 2, 3, 4, 5, 1, 2, 3, 4, 5, 1, 2, 3, 4, 5, 1, 2, 3, 4, 5, 1, 2, 3, 4, 5, 1, 2, 3, 4, 5, 1, 2, 3, 4, 5, 1, 2, 3, 4, 5, 1, 2, 3, 4, 5, 1, 2, 3, 4, 5, 1, 2, 3, 4, 5, 1, 2, 4, 5, 1, 2, 3, 4, 5, 1, 2, 3, 4, 5, 1, 2, 3, 4, 5, 1, 2, 3, 4, 5, 1, 2, 3, 4, 5, 1, 2, 3, 4, 5, 1, 2, 3, 4, 5, 1, 2, 3, 4, 5, 1, 2, 3, 4, 5, 1, 2, 3, 4, 5, 1, 2, 3, 4, 5, 1, 2, 3, 4, 5, 1, 2, 3, 4, 5, 1, 3, 4, 5, 1, 2, 3, 4, 5, 1, 2, 3, 4, 5, 1, 2, 3, 4, 5, 1, 2, 3, 4, 5, 1, 2, 3, 4, 5, 1, 2, 3, 4, 5, 1, 2, 3, 4, 5, 1, 2, 3, 4, 5, 1, 2, 3, 4, 5, 1, 2, 3, 4, 5, 1, 2, 3, 4, 5, 1, 2, 3, 4, 5, 1, 2, 3, 4, 5, 1, 2, 3, 4, 5, 1, 2, 3, 4, 5, 1, 2, 3, 4, 5, 1, 2, 3, 4, 5, 1, 2, 3, 4, 5, 1, 2, 3, 4, 5, 1, 2, 3, 4, 5, 1, 2, 3, 4, 5, 1, 2, 3, 4, 5, 1, 2, 3, 4, 5, 1, 3, 4, 5, 1, 2, 3, 4, 5, 1, 2, 3, 4, 5, 1, 2, 3, 4, 5, 1, 2, 3, 4, 5, 1, 2, 3, 4, 5, 1, 2, 3, 4, 5, 1, 2, 3, 4, 5, 1, 2, 3, 4, 5, 1, 2, 3, 4, 5, 1, 2, 3, 4, 5, 1, 2, 3, 4, 5, 1, 2, 3, 4, 5, 1, 2, 3, 4, 5, 1, 2, 3, 4, 5, 1, 2, 3, 4, 5, 1, 2, 3, 4, 5, 1, 2, 3, 4, 5, 1, 2, 3, 4, 5, 1, 2, 3, 4, 5, 1, 3, 4, 5, 1, 2, 3, 4, 5, 1, 2, 3, 4, 5, 1, 2, 3, 4, 5, 1, 2, 3, 4, 5, 1, 2, 3, 4, 5, 1, 3, 4, 5, 1, 2, 3, 4, 5, 1, 2, 3, 4, 5, 1, 2, 3, 4, 5, 1, 2, 3, 4, 5, 1, 2, 3, 4, 5, 1, 2, 3, 4, 5, 1, 2, 5, 1, 2, 3, 4, 5, 1, 3, 4, 5, 1, 2, 3, 4, 5, 1, 3, 4, 5, 1, 2, 3, 4, 5, 1, 2, 3, 4, 5, 1, 2, 3, 4, 5, 1, 2, 3, 4, 5, 1, 2, 3, 4, 5, 1, 2, 3, 4, 5, 1, 2, 3, 4, 5, 1, 2, 3, 4, 5, 1, 2, 3, 4, 5, 2, 3, 4, 5, 1, 3, 4, 5, 1, 2, 3, 4, 5, 1, 2, 3, 4, 5, 1, 2, 3, 4, 5, 1, 2, 3, 4, 5, 1, 2, 3, 4, 5, 1, 2, 3, 4, 5, 1, 2, 3, 4, 5, 1, 2, 3, 4, 5, 2, 3, 5, 1, 2, 3, 4, 5, 1, 2, 3, 4, 5, 1, 2, 3, 4, 5, 1, 2, 3, 4, 5, 1, 2, 3, 4, 5, 1, 2, 3, 4, 5, 1, 2, 3, 4, 5, 1, 2, 3, 4, 5, 1, 2, 3, 4, 5], \"Freq\": [0.6392885582842469, 0.139844372124679, 0.019977767446382716, 0.19977767446382716, 0.583066202941414, 0.10411896481096677, 0.020823792962193357, 0.2811212049896103, 0.11503140505978786, 0.23891137973955942, 0.5132170379590535, 0.0973342658198205, 0.04424284809991841, 0.27890895809006305, 0.33020255957789074, 0.12502815362657999, 0.1987627057653323, 0.06732285195277385, 0.1600953664615728, 0.27146605617397124, 0.37819630048168645, 0.11833135781942337, 0.07424712647493231, 0.23238172317369277, 0.017875517167207134, 0.6167053422686462, 0.14300413733765707, 0.4029202474163578, 0.1316988510972561, 0.27643719240216136, 0.11605146284807716, 0.07171719614207016, 0.1329609318562928, 0.20548507650517975, 0.42305751045184065, 0.18131036162221742, 0.060436787207405814, 0.19761719054659063, 0.0033494439075693327, 0.17082163928603597, 0.6263460107154653, 0.0033494439075693327, 0.6875418857947835, 0.08677713121681734, 0.18022942637338984, 0.046726147578286255, 0.7325217670217057, 0.07244720772742144, 0.0804968974749127, 0.10464596671738652, 0.01609937949498254, 0.3389659291668314, 0.013558637166673255, 0.0723127315555907, 0.5604236695558279, 0.013558637166673255, 0.3196686967307007, 0.019373860407921252, 0.09686930203960627, 0.5134073008099133, 0.05812158122376376, 0.16728783020057578, 0.14338956874335068, 0.11949130728612556, 0.5496600135161775, 0.011949130728612556, 0.04510262055697738, 0.13530786167093214, 0.21906987127674726, 0.06443231508139625, 0.5380098309296587, 0.023376172553580186, 0.04675234510716037, 0.25713789808938203, 0.03506425883037028, 0.6428447452234551, 0.2376576016683701, 0.03240785477295956, 0.0864209460612255, 0.637354477201538, 0.10664177700986117, 0.17355426454546036, 0.2174655844906973, 0.14428005124863572, 0.35965462050384556, 0.4788562208231572, 0.004788562208231572, 0.4166049121161468, 0.06225130870701044, 0.033519935457621004, 0.13742700078721176, 0.6385327719503375, 0.05865786618966355, 0.10223228107341362, 0.06368568329163471, 0.27163082574277275, 0.47968847950319443, 0.05490410307566683, 0.12714634396470215, 0.06646286161791248, 0.20187686008297157, 0.04388627393108078, 0.10532705743459386, 0.623185089821347, 0.026331764358648466, 0.9193878416827342, 0.02206530820038562, 0.014710205466923747, 0.04413061640077124, 0.8098351918817585, 0.05327863104485253, 0.11721298829867556, 0.010655726208970507, 0.316737014566218, 0.23365845336852145, 0.226389079263723, 0.15784926627562337, 0.06542436694318601, 0.1431579318773845, 0.14938218978509685, 0.4854921168015648, 0.15560644769280924, 0.06639208434893193, 0.970582501342258, 0.013115979747868352, 0.013115979747868352, 0.24950795986786836, 0.24864758759246192, 0.2667154053759972, 0.16519147687803698, 0.07055052658332829, 0.14504225925458888, 0.6602323641268887, 0.06962028444220267, 0.07658231288642293, 0.047573861035505156, 0.24110393192672633, 0.09218679750139537, 0.42547752692951707, 0.2056474713492666, 0.035456460577459756, 0.2804204239343399, 0.006521405207775347, 0.14673161717494532, 0.5477980374531292, 0.019564215623326043, 0.00851477524573466, 0.8855366255564047, 0.00851477524573466, 0.03405910098293864, 0.06811820196587728, 0.7525594763110025, 0.008750691585011657, 0.026252074755034972, 0.16626314011522147, 0.04375345792505828, 0.19591038785575893, 0.23436009014520692, 0.3387235677879944, 0.17210819120038634, 0.05859002253630173, 0.04092016836683904, 0.6547226938694246, 0.09937755174803767, 0.19290936515795545, 0.011691476676239725, 0.22497532894764954, 0.41390488695893535, 0.1541267446934174, 0.13423942279749254, 0.07333449949122278, 0.4772885511778919, 0.05636550509148437, 0.09727595233530367, 0.3054646727538508, 0.06454759454024823, 0.10697847782444728, 0.2540738848330623, 0.22732926537695047, 0.04011692918416773, 0.36105236265750956, 0.11356739041778101, 0.23908924298480214, 0.4363378684472639, 0.11954462149240107, 0.0896584661193008, 0.3696875188324428, 0.38692683318214216, 0.07470369551536409, 0.08619657174849701, 0.08236561300411938, 0.6292741462008568, 0.020631939219700222, 0.15473954414775165, 0.14442357453790156, 0.05157984804925055, 0.5028983798499663, 0.1611853781570405, 0.11121791092835795, 0.15473796303075887, 0.07092156638909781, 0.15624677244092133, 0.12499741795273707, 0.17968378830705953, 0.1406220951968292, 0.40624160834639544, 0.31349544227192416, 0.42924760557232694, 0.11414449436567495, 0.08199111567111862, 0.06109141951965702, 0.7223817062492959, 0.08303238002865469, 0.1328518080458475, 0.05812266602005829, 0.3265298420999359, 0.2000479269782216, 0.28781088849124786, 0.12390065154780176, 0.06065969398694462, 0.34775809965515464, 0.04494832580576828, 0.24366723989442807, 0.35012380101335294, 0.014194208149189985, 0.25264196129734257, 0.4942994894948007, 0.20870422889780474, 0.032953299299653384, 0.025029954108856767, 0.162694701707569, 0.10011981643542707, 0.03754493116328515, 0.6758087609391328, 0.04377587647990735, 0.8200680860569309, 0.040857484714580186, 0.04961266001056166, 0.040857484714580186, 0.10809672842509924, 0.1930298721876772, 0.2547994312877339, 0.16214509263764884, 0.28568421083776224, 0.9394235130970915, 0.019987734321214715, 0.009993867160607357, 0.019987734321214715, 0.1978404238140395, 0.1648670198450329, 0.1582723390512316, 0.1582723390512316, 0.3165446781024632, 0.0396027913335746, 0.19801395666787297, 0.2851400976017371, 0.06336446613371935, 0.4197895881358907, 0.29459357966101396, 0.2700441146892628, 0.12274732485875582, 0.31914304463276516, 0.43583484211109835, 0.24233140598708372, 0.13382480629137458, 0.11393192968049458, 0.07414617645873457, 0.1292852167585063, 0.21360166247057563, 0.415961132179542, 0.21360166247057563, 0.03372657828482773, 0.017055165357425343, 0.9039237639435432, 0.008527582678712672, 0.05116549607227603, 0.017055165357425343, 0.04893271702860374, 0.029359630217162244, 0.9199350801377503, 0.24343219655650156, 0.08323810591931988, 0.31724712067363425, 0.26699015106196944, 0.08952022712077799, 0.13623763886990437, 0.24522774996582786, 0.35840978841159454, 0.16767709399372843, 0.09222240169655065, 0.10972877284074779, 0.18454384523216674, 0.34913700449328844, 0.06483972940589643, 0.29427261807291455, 0.06211049468814619, 0.24844197875258475, 0.45030108648905987, 0.07763811836018274, 0.1475124248843472, 0.47406177392677806, 0.17409048195051172, 0.15400311864852959, 0.1473073308812022, 0.04954882947822256, 0.3678992348333835, 0.04145343491080378, 0.07254351109390661, 0.5078045776573462, 0.010363358727700944, 0.17328691759828277, 0.2109579866413877, 0.45205282851725936, 0.1356158485551778, 0.03013685523448396, 0.09214349571587484, 0.6910762178690613, 0.0767862464298957, 0.10750074500185398, 0.03071449857195828, 0.21146060184329052, 0.14880560870453777, 0.10181436385047321, 0.5247355675370543, 0.015663748284688188, 0.20756658442715084, 0.12365668859489837, 0.14573824012970166, 0.09274251644617378, 0.43279841008214426, 0.09308520789678265, 0.09308520789678265, 0.05817825493548916, 0.034906952961293494, 0.7214103612000655, 0.14066055831819557, 0.2661145697911808, 0.23570147610076014, 0.10264419120516974, 0.25470965965727305, 0.6451278794485235, 0.06974355453497551, 0.08717944316871938, 0.07846149885184744, 0.12205122043620713, 0.13072493819773076, 0.23654988816732234, 0.4232997998783663, 0.13694993525476556, 0.06847496762738278, 0.33452133209984164, 0.20453967051469607, 0.21047791901350982, 0.17682784418689854, 0.07389820354079342, 0.2116530300747581, 0.19955857121334336, 0.3250385819005214, 0.21014122271708127, 0.05442506487636637, 0.18292562999909218, 0.32676458692145527, 0.26578937692175786, 0.09849841615335733, 0.12507735384553312, 0.2511317413983342, 0.10273571239022765, 0.1740799571056635, 0.4508956266015547, 0.022830158308939478, 0.026028668670615505, 0.07157883884419264, 0.026028668670615505, 0.01952150150296163, 0.8589460661303117, 0.04140545929253915, 0.7660009969119742, 0.04658114170410654, 0.05693250652724133, 0.0828109185850783, 0.1201566100025991, 0.19825840650428853, 0.4866342705105264, 0.16221142350350878, 0.03604698300077973, 0.42666593790285157, 0.11065650259824579, 0.19045686504890383, 0.16704875873004413, 0.1053364784348686, 0.20110733944651574, 0.2527578583207575, 0.27913259136292345, 0.20660207549696696, 0.06044209655496374, 0.10831709155196227, 0.3032878563454943, 0.476595202828634, 0.07582196408637358, 0.0433268366207849, 0.5056718667113757, 0.09758579883903741, 0.10941438051649649, 0.2365716335491816, 0.050271472129201085, 0.7923802487268623, 0.04402112492927013, 0.05502640616158766, 0.10455017170701655, 0.6220208371029017, 0.0940871854441364, 0.02613532929003789, 0.2561262270423713, 0.2060946890674656, 0.7267549561852733, 0.032541266694862986, 0.027117722245719154, 0.19333113025964194, 0.005087661322622156, 0.717360246489724, 0.030525967935732937, 0.050876613226221556, 0.1809792432041544, 0.23060258408271286, 0.28314494501295123, 0.2524952344703122, 0.052542360930238376, 0.20315512888415008, 0.07255540317291073, 0.47886566094121086, 0.21766620951873222, 0.043533241903746446, 0.21241968229116434, 0.22433106634487449, 0.19753045222402665, 0.1816486068190798, 0.1846264528325073, 0.13649099973532872, 0.2952014645438505, 0.3904277434289636, 0.10474890677362438, 0.07618102310809045, 0.2625992696479231, 0.22454140448155743, 0.19790089886510145, 0.17316328650696378, 0.14271699437387125, 0.5882719700521849, 0.06536355222802054, 0.1568725253472493, 0.09150897311922876, 0.07843626267362465, 0.04920472506576937, 0.8856850511838487, 0.012301181266442342, 0.036903543799327025, 0.012301181266442342, 0.6018726091114491, 0.058515392552502, 0.16718683586429142, 0.15882749407107685, 0.008359341793214571, 0.17940023307235703, 0.46131488504320384, 0.1486459074028101, 0.15120876787527235, 0.0589457908666316, 0.1632856543268091, 0.1632856543268091, 0.18369636111766025, 0.08164282716340455, 0.40821413581702276, 0.03457450231025166, 0.9104618941699604, 0.011524834103417219, 0.03457450231025166, 0.011524834103417219, 0.6793845750946221, 0.032351646433077245, 0.25072525985634864, 0.032351646433077245, 0.4091430139231246, 0.12380408202284748, 0.2723689804502645, 0.12498316851830318, 0.07074518972734142, 0.12523584306877897, 0.15743934557217926, 0.18248651418593506, 0.5080997061647603, 0.02504716861375579, 0.16711541850777625, 0.21365388948462535, 0.25596159037266997, 0.21576927452902758, 0.1480769531081562, 0.1664618519215859, 0.22278353114317512, 0.2640860959056739, 0.27785361749317344, 0.06758601506590706, 0.15387920804569044, 0.09232752482741427, 0.05385772281599165, 0.05385772281599165, 0.6385987133896154, 0.15062713027975777, 0.19737348105623434, 0.6440608329203437, 0.005194038975164061, 0.22688967985418435, 0.0025209964428242705, 0.24957864783960276, 0.5168042707789754, 0.0025209964428242705, 0.19479516446556938, 0.030757131231405693, 0.28706655815978643, 0.133280902002758, 0.3588331976997331, 0.0694642030388443, 0.7177967647347244, 0.0694642030388443, 0.0694642030388443, 0.08104157021198502, 0.02607994997962512, 0.00869331665987504, 0.9127982492868791, 0.03477326663950016, 0.00869331665987504, 0.9606502643588974, 0.015748364989490123, 0.015748364989490123, 0.015748364989490123, 0.7017365805940358, 0.06452750166381938, 0.0725934393717968, 0.09679125249572906, 0.0725934393717968, 0.2666558298788783, 0.5696738183776037, 0.15756935401933717, 0.9391098471724083, 0.008237805676950951, 0.024713417030852853, 0.024713417030852853, 0.24691638915267877, 0.02599119885817671, 0.7082601688853154, 0.019493399143632534, 0.09137363203270489, 0.30022764810745894, 0.4481659094937431, 0.11312925870715844, 0.0478623786837978, 0.12550662596261664, 0.29725253517461836, 0.5746882346709289, 0.006605611892769297, 0.05849887228964931, 0.1145602915672299, 0.8214216650671591, 0.004874906024137443, 0.06479584875282392, 0.1187923893801772, 0.08639446500376523, 0.7235536444065338, 0.453911565490008, 0.047679786290967224, 0.14876093322781775, 0.30705782371382895, 0.041958211936051155, 0.30208300867458243, 0.1663153643264555, 0.3032144057108168, 0.16065837914528353, 0.06901521921029785, 0.19640568198304856, 0.23843135192701964, 0.24872335272962479, 0.24271968559477178, 0.07375933908533701, 0.0689083432011832, 0.3617688018062118, 0.4220636021072471, 0.086135429001479, 0.0689083432011832, 0.25348633073112903, 0.24042002502333887, 0.22866034988632775, 0.17900838819672515, 0.09930392337920518, 0.29798919466279344, 0.01064247123795691, 0.02128494247591382, 0.6491907455153715, 0.03192741371387073, 0.3669556026347138, 0.004421151838972455, 0.30063832505012694, 0.04421151838972455, 0.2829537176942371, 0.1913447213846389, 0.24791620422879299, 0.2329413999465169, 0.27620194565087003, 0.05157988141672874, 0.011793328371234077, 0.8373263143576194, 0.03537998511370223, 0.07075997022740446, 0.03537998511370223, 0.37001909832305535, 0.04452101450411094, 0.28493449282631, 0.22458378427629297, 0.07716975847379229, 0.6412772447831603, 0.07399352824421081, 0.09865803765894775, 0.13565480178105316, 0.036996764122105404, 0.743152586357926, 0.08670113507509138, 0.04954350575719507, 0.09908701151439014, 0.024771752878597536, 0.05917855438689501, 0.8186366690187143, 0.029589277193447505, 0.03945236959126334, 0.04931546198907918, 0.021039194360240543, 0.9397506814240777, 0.0070130647867468485, 0.021039194360240543, 0.605621342793168, 0.03480582429845794, 0.08005339588645326, 0.24364077008920554, 0.03828640672830373, 0.2994725084999493, 0.014260595642854729, 0.0998241694999831, 0.5775541235356165, 0.007130297821427364, 0.15256144290836776, 0.07365035174886721, 0.1999080976040681, 0.5576383775271374, 0.015782218231900114, 0.45643960945179585, 0.23900184274444428, 0.1311814625589807, 0.12219643087685872, 0.0521131837563074, 0.12841482104719654, 0.10506667176588808, 0.14008889568785077, 0.07004444784392538, 0.5603555827514031, 0.25461624036302943, 0.5189014518790853, 0.04189887499644788, 0.13214260575802794, 0.051567846149474315, 0.04668948511449898, 0.09337897022899797, 0.03501711383587423, 0.17508556917937118, 0.6653251628816105, 0.6135177734296651, 0.03229040912787711, 0.12916163651150844, 0.19374245476726268, 0.03229040912787711, 0.04433753386794495, 0.01477917795598165, 0.1477917795598165, 0.1477917795598165, 0.6502838300631926, 0.6955744810995741, 0.06163318186958252, 0.08804740267083216, 0.13207110400624825, 0.017609480534166434, 0.3158666008225383, 0.21484620146037517, 0.22267172535462726, 0.1728729369366595, 0.07398677136383781, 0.3280084001477937, 0.22108409323687075, 0.17445544811782165, 0.19535794420567126, 0.08039421572249845, 0.3611917499945231, 0.33440846344831904, 0.15151687817566858, 0.09948077860018645, 0.05280133633394511, 0.3172753409365101, 0.027994883023809716, 0.625219054198417, 0.027994883023809716, 0.07914422046125222, 0.18090107534000507, 0.18090107534000507, 0.5200905916025146, 0.04522526883500127, 0.32190866698309445, 0.2590659391656776, 0.17185562301089505, 0.205200743893606, 0.042322653428056245, 0.6928962795264535, 0.0117440047377365, 0.06459202605755075, 0.17028806869717925, 0.06459202605755075, 0.24208287867495443, 0.2249353414354785, 0.2229179841131872, 0.2531783439475565, 0.057494683685301674, 0.09930901388144255, 0.127683017847569, 0.14187001983063222, 0.5674800793225289, 0.05674800793225288, 0.4358886514151072, 0.1969072286315349, 0.13632038905260108, 0.15483303447949753, 0.07573354947366727, 0.33585442428499507, 0.20466128979866888, 0.21620628563346558, 0.15323358108002902, 0.09026087652659243, 0.2502918264178903, 0.04492417397244185, 0.46207721800225904, 0.21820313072328898, 0.03208869569460132, 0.19591667521130524, 0.015467105937734623, 0.2629408009414886, 0.4846359860490182, 0.041245615833959, 0.10941613833561535, 0.24353914661798257, 0.49413739893503705, 0.0847092683888635, 0.0670615041411836, 0.297109898243574, 0.0009343078561118678, 0.1943360340712685, 0.4961174715954018, 0.011211694273342414, 0.25067638925033786, 0.006867846280831175, 0.12705515619537674, 0.5906347801514811, 0.02403746198290911, 0.3911496529611335, 0.22291324308537716, 0.12617730740681726, 0.2159033926738873, 0.04346107255123705, 0.13172946629326185, 0.13172946629326185, 0.45506542901308644, 0.21555730847988305, 0.07185243615996101, 0.5964267107493273, 0.07190960342367775, 0.08459953343962089, 0.16496909020726072, 0.08036955676763984, 0.031647378463797185, 0.17933514462818403, 0.09494213539139155, 0.07384388308219343, 0.6223984431213446, 0.4037810627136845, 0.0940312063853786, 0.08296871151651052, 0.36229670695542926, 0.058078098061557365, 0.06213523294988885, 0.14912455907973324, 0.14912455907973324, 0.161551605669711, 0.484654817009133, 0.15828795406071874, 0.14698167162781026, 0.15828795406071874, 0.10175654189617633, 0.42963873245052225, 0.1676123906118086, 0.27039357353414406, 0.294112308054683, 0.17868113338806013, 0.08696869324197616, 0.04324070835325377, 0.6239016490969472, 0.14207661316069095, 0.11736763695883165, 0.07412692860557789, 0.06631445004197825, 0.721657250456822, 0.07996742505062082, 0.04876062503086636, 0.08191785005185548, 0.6913846542888044, 0.07805955774228436, 0.05575682695877455, 0.07805955774228436, 0.08921092313403928, 0.5925817018433709, 0.020914648300354267, 0.3067481750718626, 0.07668704376796565, 0.06195559284802139, 0.024782237139208557, 0.12391118569604279, 0.7682493513154652, 0.012391118569604278, 0.6248056387620892, 0.06186194443189002, 0.13609627775015803, 0.11135149997740204, 0.06186194443189002, 0.6945237157647072, 0.05040897937001907, 0.15122693811005722, 0.056009977077798964, 0.04480798166223917, 0.07548758841099984, 0.1833270004267139, 0.21567882403142813, 0.14019123562042826, 0.3882218832565706, 0.19830925264080881, 0.2986304039767474, 0.19597620260974047, 0.12131860161555362, 0.18664400248546711, 0.007698531343472862, 0.8160443224081233, 0.030794125373891448, 0.03849265671736431, 0.10777943880862006, 0.241093007008149, 0.2344268409157578, 0.20665114886412772, 0.21887245336684497, 0.09999249138586826, 0.4532723133562413, 0.1503643731806762, 0.1460059855522508, 0.16561872988016507, 0.08498855875429524, 0.6390886002805545, 0.006390886002805544, 0.03195443001402772, 0.2620263261150273, 0.06390886002805544, 0.1988261212393707, 0.22928459087604025, 0.2622812663157656, 0.23097672807807745, 0.07868437989472968, 0.018861481420873003, 0.8676281453601581, 0.012574320947248668, 0.012574320947248668, 0.08802024663074068, 0.2851805637525597, 0.02782249402463997, 0.13215684661703986, 0.5216717629619995, 0.02782249402463997, 0.005879290398290331, 0.9571484768416659, 0.011758580796580662, 0.012934438876238729, 0.012934438876238729, 0.08004621396394385, 0.30874968243235484, 0.457406936936822, 0.1143517342342055, 0.0457406936936822, 0.43422682726195583, 0.03910099392406237, 0.1502301345503449, 0.3498509982679265, 0.02469536458361834, 0.07136546974650577, 0.1631210737062989, 0.13253587238636785, 0.12234080527972419, 0.5097533553321841, 0.16488453741854667, 0.26381525986967463, 0.4616767047719307, 0.08793841995655823, 0.03297690748370933, 0.27686250642899485, 0.2422546931253705, 0.24344806599790927, 0.1324643888518036, 0.10501681278341185, 0.15475569129498684, 0.039885487447161555, 0.5392517902856242, 0.2026182762315807, 0.06222136041757203, 0.23336842517600212, 0.08334586613428648, 0.6751015156877205, 0.008334586613428648, 0.11895554358486525, 0.11895554358486525, 0.10814140325896841, 0.24872522749562734, 0.40012319205818314, 0.028558389959615325, 0.07139597489903832, 0.05711677991923065, 0.8281933088288445, 0.014279194979807662, 0.5778648964248918, 0.009963187869394687, 0.12453984836743358, 0.09465028475924951, 0.18930056951849902, 0.6015449077333964, 0.008329083337847027, 0.14899804637704128, 0.1462216852644256, 0.09532173153313821, 0.2280889769661742, 0.23623501185782328, 0.3557101902686764, 0.11675983344697012, 0.06516827913319262, 0.6552258673839343, 0.05662445767515481, 0.24267624717923492, 0.040446041196539155, 0.30430595497709956, 0.01611589169660652, 0.2512183117412192, 0.4028972924151629, 0.025595827988728, 0.1949157654323364, 0.03898315308646728, 0.4158202995889843, 0.31836241687281613, 0.032485960905389404, 0.24740878684840134, 0.05890685401152413, 0.4476920904875834, 0.23562741604609652, 0.023562741604609652, 0.20749830793482407, 0.2619666137677154, 0.3734969542826833, 0.09337423857067083, 0.06224949238044722, 0.16466409221870873, 0.26257247137577877, 0.21361828179724374, 0.08455723654474231, 0.27147323311733057, 0.33079682607677846, 0.3501920797229739, 0.1508519728037426, 0.09374372595661148, 0.0754259864018713, 0.01049538316296701, 0.976070634155932, 0.01049538316296701, 0.08300195138601073, 0.6640156110880858, 0.13408007531586347, 0.08938671687724231, 0.03192382745615797, 0.7313438236451025, 0.06094531863709188, 0.13407970100160213, 0.07313438236451025, 0.3287040360872646, 0.22411638824131677, 0.19672438523404473, 0.15190110758578138, 0.09794716226842733, 0.11078506378258914, 0.2697375466010866, 0.6117262217560357, 0.009633483807181665, 0.2564825051199777, 0.22079798266850256, 0.2728379112435705, 0.19180430817667898, 0.057243921432574736, 0.12755466550044137, 0.7511552523914881, 0.028345481222320307, 0.04251822183348046, 0.04251822183348046, 0.07586010682707245, 0.1408830555359917, 0.41181200848982186, 0.06502294870891924, 0.314277585426443, 0.1690494888986728, 0.19802940128130242, 0.2076893720755123, 0.2511592406494567, 0.17387947429577774, 0.20108258617525426, 0.21565378807201183, 0.2520817928139057, 0.25062467262422994, 0.08159873062184231, 0.47147289037169565, 0.15869087529583903, 0.190889023906589, 0.11269352013762482, 0.06669616497941061, 0.20317930080148328, 0.2385148313756543, 0.40194166028119516, 0.12367435700959852, 0.026501647930628255, 0.05829201789550206, 0.7286502236937759, 0.07286502236937759, 0.05100551565856431, 0.0874380268432531, 0.23215385152284068, 0.19921310232027545, 0.29332952861331896, 0.2196049946837682, 0.05490124867094205, 0.9658590353898181, 0.007101904671983957, 0.007101904671983957, 0.014203809343967914, 0.2131428385001045, 0.26050791372234994, 0.5210158274446999, 0.01184126880556136, 0.10821462659834523, 0.17133982544737994, 0.3246438797950357, 0.07214308439889683, 0.3246438797950357, 0.10178960615344028, 0.2868616173415135, 0.4811872290889904, 0.09253600559403662, 0.04626800279701831, 0.31598076006758924, 0.3096970517707906, 0.17863685015184733, 0.12028813025300272, 0.07630217217541217, 0.03275423007747312, 0.03275423007747312, 0.8761756545724059, 0.0409427875968414, 0.01637711503873656, 0.7073679714877374, 0.09226538758535706, 0.061510258390238035, 0.09226538758535706, 0.051258548658531695, 0.6854072757771171, 0.04895766255550837, 0.11015474074989383, 0.07343649383326255, 0.07343649383326255, 0.07212558389255722, 0.20435582102891212, 0.10818837583883582, 0.6010465324379768, 0.012020930648759537, 0.24343339275861525, 0.2084850343922794, 0.2024594553636008, 0.2277668872840509, 0.11810134896210046, 0.9705174421501639, 0.007890385708537917, 0.015780771417075835, 0.010342019253265819, 0.8480455787677972, 0.051710096266329095, 0.07239413477286073, 0.020684038506531638, 0.02857625796489805, 0.624867507499104, 0.156216876874776, 0.10477961253795952, 0.08763385775902069, 0.28957073243259107, 0.09625395854602888, 0.2661138853919622, 0.2709670261589889, 0.07603253868341778, 0.06485853083100583, 0.799921880249072, 0.04323902055400389, 0.057652027405338514, 0.028826013702669257, 0.47575835920069337, 0.0828434953832053, 0.17988873283210297, 0.19882438891969273, 0.06390783929561553, 0.19252014775692958, 0.22611426749974953, 0.34886201271389927, 0.17055476177123963, 0.06201991337135987, 0.1112520303017934, 0.17800324848286944, 0.2981554412088063, 0.1335024363621521, 0.28035511636051935, 0.12427488923790928, 0.151891531290778, 0.16569985231721238, 0.5385245200309402, 0.013808321026434364, 0.3398565893442528, 0.22724739108391828, 0.17449353243943724, 0.20695744545142558, 0.05072486408123176], \"Term\": [\"aberlour\", \"aberlour\", \"aberlour\", \"aberlour\", \"abunadh\", \"abunadh\", \"abunadh\", \"abunadh\", \"aftertaste\", \"aftertaste\", \"aftertaste\", \"aftertaste\", \"aftertaste\", \"age\", \"age\", \"age\", \"age\", \"age\", \"alcohol\", \"alcohol\", \"alcohol\", \"alcohol\", \"alcohol\", \"amrut\", \"amrut\", \"amrut\", \"amrut\", \"apple\", \"apple\", \"apple\", \"apple\", \"apple\", \"appreciate\", \"appreciate\", \"appreciate\", \"appreciate\", \"appreciate\", \"ardbeg\", \"ardbeg\", \"ardbeg\", \"ardbeg\", \"ardbeg\", \"arran\", \"arran\", \"arran\", \"arran\", \"arrival\", \"arrival\", \"arrival\", \"arrival\", \"arrival\", \"ash\", \"ash\", \"ash\", \"ash\", \"ash\", \"ashy\", \"ashy\", \"ashy\", \"ashy\", \"ashy\", \"aspect\", \"aspect\", \"aspect\", \"aspect\", \"aspect\", \"average\", \"average\", \"average\", \"average\", \"average\", \"awful\", \"awful\", \"awful\", \"awful\", \"awful\", \"bacon\", \"bacon\", \"bacon\", \"bacon\", \"bad\", \"bad\", \"bad\", \"bad\", \"bad\", \"balvenie\", \"balvenie\", \"balvenie\", \"balvenie\", \"balvenie\", \"barrel\", \"barrel\", \"barrel\", \"barrel\", \"barrel\", \"batch\", \"batch\", \"batch\", \"batch\", \"batch\", \"bbq\", \"bbq\", \"bbq\", \"bbq\", \"bbq\", \"beam\", \"beam\", \"beam\", \"beam\", \"benrinnes\", \"benrinnes\", \"benrinnes\", \"benrinnes\", \"bit\", \"bit\", \"bit\", \"bit\", \"bit\", \"blend\", \"blend\", \"blend\", \"blend\", \"blend\", \"booker\", \"booker\", \"booker\", \"bottle\", \"bottle\", \"bottle\", \"bottle\", \"bottle\", \"bourbon\", \"bourbon\", \"bourbon\", \"bourbon\", \"bourbon\", \"box\", \"box\", \"box\", \"box\", \"box\", \"brine\", \"brine\", \"brine\", \"brine\", \"brine\", \"buffalo\", \"buffalo\", \"buffalo\", \"buffalo\", \"buffalo\", \"butt\", \"butt\", \"butt\", \"butt\", \"butt\", \"buy\", \"buy\", \"buy\", \"buy\", \"buy\", \"canadian\", \"canadian\", \"canadian\", \"canadian\", \"canadian\", \"caramel\", \"caramel\", \"caramel\", \"caramel\", \"caramel\", \"cask\", \"cask\", \"cask\", \"cask\", \"cask\", \"category\", \"category\", \"category\", \"category\", \"category\", \"cheap\", \"cheap\", \"cheap\", \"cheap\", \"cheap\", \"cherry\", \"cherry\", \"cherry\", \"cherry\", \"cherry\", \"chillfiltered\", \"chillfiltered\", \"chillfiltered\", \"chillfiltered\", \"chillfiltered\", \"chocolate\", \"chocolate\", \"chocolate\", \"chocolate\", \"chocolate\", \"choice\", \"choice\", \"choice\", \"choice\", \"choice\", \"cinnamon\", \"cinnamon\", \"cinnamon\", \"cinnamon\", \"cinnamon\", \"clynelish\", \"clynelish\", \"clynelish\", \"clynelish\", \"color\", \"color\", \"color\", \"color\", \"color\", \"colour\", \"colour\", \"colour\", \"colour\", \"colour\", \"compass\", \"compass\", \"compass\", \"compass\", \"consume\", \"consume\", \"consume\", \"consume\", \"consume\", \"corn\", \"corn\", \"corn\", \"corn\", \"corn\", \"couldnt\", \"couldnt\", \"couldnt\", \"couldnt\", \"couldnt\", \"creek\", \"creek\", \"creek\", \"creek\", \"cut\", \"cut\", \"cut\", \"cut\", \"cut\", \"daily\", \"daily\", \"daily\", \"daily\", \"daily\", \"dalmore\", \"dalmore\", \"dalmore\", \"dalmore\", \"dark\", \"dark\", \"dark\", \"dark\", \"dark\", \"decide\", \"decide\", \"decide\", \"decide\", \"decide\", \"dill\", \"dill\", \"dill\", \"dill\", \"dill\", \"disgust\", \"disgust\", \"disgust\", \"dram\", \"dram\", \"dram\", \"dram\", \"dram\", \"drink\", \"drink\", \"drink\", \"drink\", \"drink\", \"drinkable\", \"drinkable\", \"drinkable\", \"drinkable\", \"drinkable\", \"drinker\", \"drinker\", \"drinker\", \"drinker\", \"drinker\", \"dry\", \"dry\", \"dry\", \"dry\", \"dry\", \"earth\", \"earth\", \"earth\", \"earth\", \"earth\", \"edit\", \"edit\", \"edit\", \"edit\", \"edit\", \"eh\", \"eh\", \"eh\", \"eh\", \"eh\", \"element\", \"element\", \"element\", \"element\", \"element\", \"excellent\", \"excellent\", \"excellent\", \"excellent\", \"excellent\", \"exceptional\", \"exceptional\", \"exceptional\", \"exceptional\", \"exceptional\", \"favorite\", \"favorite\", \"favorite\", \"favorite\", \"favorite\", \"fig\", \"fig\", \"fig\", \"fig\", \"fig\", \"final\", \"final\", \"final\", \"final\", \"final\", \"finish\", \"finish\", \"finish\", \"finish\", \"finish\", \"first\", \"first\", \"first\", \"first\", \"first\", \"flavor\", \"flavor\", \"flavor\", \"flavor\", \"flavor\", \"flavour\", \"flavour\", \"flavour\", \"flavour\", \"flavour\", \"flaw\", \"flaw\", \"flaw\", \"flaw\", \"flaw\", \"four\", \"four\", \"four\", \"four\", \"four\", \"friend\", \"friend\", \"friend\", \"friend\", \"friend\", \"fruit\", \"fruit\", \"fruit\", \"fruit\", \"fruit\", \"get\", \"get\", \"get\", \"get\", \"get\", \"gift\", \"gift\", \"gift\", \"gift\", \"gift\", \"ginger\", \"ginger\", \"ginger\", \"ginger\", \"ginger\", \"glendronach\", \"glendronach\", \"glendronach\", \"glendronach\", \"glenfarclas\", \"glenfarclas\", \"glenfarclas\", \"glenfarclas\", \"glenfiddich\", \"glenfiddich\", \"glenfiddich\", \"glenfiddich\", \"glenlivet\", \"glenlivet\", \"glenlivet\", \"glenlivet\", \"glenlivet\", \"go\", \"go\", \"go\", \"go\", \"go\", \"god\", \"god\", \"god\", \"god\", \"god\", \"good\", \"good\", \"good\", \"good\", \"good\", \"grain\", \"grain\", \"grain\", \"grain\", \"grain\", \"great\", \"great\", \"great\", \"great\", \"great\", \"hazelnut\", \"hazelnut\", \"hazelnut\", \"hazelnut\", \"hazelnut\", \"heaven\", \"heaven\", \"heaven\", \"heaven\", \"heaven\", \"hi\", \"hi\", \"hi\", \"hi\", \"hi\", \"high\", \"high\", \"high\", \"high\", \"high\", \"highly\", \"highly\", \"highly\", \"highly\", \"highly\", \"hill\", \"hill\", \"hill\", \"hill\", \"hill\", \"hogshead\", \"hogshead\", \"hogshead\", \"hogshead\", \"honey\", \"honey\", \"honey\", \"honey\", \"honey\", \"however\", \"however\", \"however\", \"however\", \"however\", \"id\", \"id\", \"id\", \"id\", \"id\", \"im\", \"im\", \"im\", \"im\", \"im\", \"incredible\", \"incredible\", \"incredible\", \"incredible\", \"incredible\", \"iodine\", \"iodine\", \"iodine\", \"iodine\", \"islay\", \"islay\", \"islay\", \"islay\", \"islay\", \"japanese\", \"japanese\", \"japanese\", \"japanese\", \"japanese\", \"jim\", \"jim\", \"jim\", \"jim\", \"jim\", \"johnnie\", \"johnnie\", \"johnnie\", \"johnnie\", \"johnnie\", \"jr\", \"jr\", \"jr\", \"jr\", \"juicy\", \"juicy\", \"juicy\", \"juicy\", \"juicy\", \"jura\", \"jura\", \"jura\", \"kentucky\", \"kentucky\", \"kentucky\", \"kentucky\", \"kilchoman\", \"kilchoman\", \"kilchoman\", \"kilchoman\", \"label\", \"label\", \"label\", \"label\", \"label\", \"lagavulin\", \"lagavulin\", \"lagavulin\", \"lagavulin\", \"laphroaig\", \"laphroaig\", \"laphroaig\", \"laphroaig\", \"lcbo\", \"lcbo\", \"lcbo\", \"lcbo\", \"lemon\", \"lemon\", \"lemon\", \"lemon\", \"lemon\", \"light\", \"light\", \"light\", \"light\", \"light\", \"like\", \"like\", \"like\", \"like\", \"like\", \"liquor\", \"liquor\", \"liquor\", \"liquor\", \"liquor\", \"little\", \"little\", \"little\", \"little\", \"little\", \"longrow\", \"longrow\", \"longrow\", \"longrow\", \"longrow\", \"macallan\", \"macallan\", \"macallan\", \"macallan\", \"macallan\", \"make\", \"make\", \"make\", \"make\", \"make\", \"maker\", \"maker\", \"maker\", \"maker\", \"maker\", \"malt\", \"malt\", \"malt\", \"malt\", \"malt\", \"marmalade\", \"marmalade\", \"marmalade\", \"marmalade\", \"marmalade\", \"marzipan\", \"marzipan\", \"marzipan\", \"marzipan\", \"marzipan\", \"mash\", \"mash\", \"mash\", \"mash\", \"mash\", \"mashbill\", \"mashbill\", \"mashbill\", \"mashbill\", \"mature\", \"mature\", \"mature\", \"mature\", \"mature\", \"meat\", \"meat\", \"meat\", \"meat\", \"meat\", \"medicinal\", \"medicinal\", \"medicinal\", \"medicinal\", \"medicinal\", \"medium\", \"medium\", \"medium\", \"medium\", \"medium\", \"mildly\", \"mildly\", \"mildly\", \"mildly\", \"mildly\", \"mint\", \"mint\", \"mint\", \"mint\", \"mint\", \"multiple\", \"multiple\", \"multiple\", \"multiple\", \"multiple\", \"natural\", \"natural\", \"natural\", \"natural\", \"natural\", \"nikka\", \"nikka\", \"nikka\", \"nikka\", \"nikka\", \"non\", \"non\", \"non\", \"non\", \"non\", \"nose\", \"nose\", \"nose\", \"nose\", \"nose\", \"note\", \"note\", \"note\", \"note\", \"note\", \"oak\", \"oak\", \"oak\", \"oak\", \"oak\", \"octomore\", \"octomore\", \"octomore\", \"octomore\", \"okay\", \"okay\", \"okay\", \"okay\", \"okay\", \"old\", \"old\", \"old\", \"old\", \"old\", \"oloroso\", \"oloroso\", \"oloroso\", \"oloroso\", \"oloroso\", \"one\", \"one\", \"one\", \"one\", \"one\", \"ontario\", \"ontario\", \"ontario\", \"ontario\", \"ontario\", \"orange\", \"orange\", \"orange\", \"orange\", \"orange\", \"palate\", \"palate\", \"palate\", \"palate\", \"palate\", \"pale\", \"pale\", \"pale\", \"pale\", \"pale\", \"park\", \"park\", \"park\", \"park\", \"park\", \"pay\", \"pay\", \"pay\", \"pay\", \"pay\", \"peat\", \"peat\", \"peat\", \"peat\", \"peat\", \"peated\", \"peated\", \"peated\", \"peated\", \"peated\", \"pepper\", \"pepper\", \"pepper\", \"pepper\", \"pepper\", \"plastic\", \"plastic\", \"plastic\", \"plastic\", \"plastic\", \"plum\", \"plum\", \"plum\", \"plum\", \"plum\", \"poor\", \"poor\", \"poor\", \"poor\", \"poor\", \"port\", \"port\", \"port\", \"port\", \"port\", \"possible\", \"possible\", \"possible\", \"possible\", \"possible\", \"possibly\", \"possibly\", \"possibly\", \"possibly\", \"possibly\", \"price\", \"price\", \"price\", \"price\", \"price\", \"product\", \"product\", \"product\", \"product\", \"product\", \"proof\", \"proof\", \"proof\", \"proof\", \"proof\", \"prune\", \"prune\", \"prune\", \"prune\", \"prune\", \"px\", \"px\", \"px\", \"px\", \"quarter\", \"quarter\", \"quarter\", \"quarter\", \"quarter\", \"raisin\", \"raisin\", \"raisin\", \"raisin\", \"raisin\", \"raisins\", \"raisins\", \"raisins\", \"raisins\", \"raisins\", \"rate\", \"rate\", \"rate\", \"rate\", \"rate\", \"rating\", \"rating\", \"rating\", \"rating\", \"rating\", \"rbourbon\", \"rbourbon\", \"rbourbon\", \"rbourbon\", \"rbourbon\", \"really\", \"really\", \"really\", \"really\", \"really\", \"red\", \"red\", \"red\", \"red\", \"red\", \"refill\", \"refill\", \"refill\", \"refill\", \"refill\", \"review\", \"review\", \"review\", \"review\", \"review\", \"rose\", \"rose\", \"rose\", \"rose\", \"rose\", \"rubber\", \"rubber\", \"rubber\", \"rubber\", \"rubber\", \"rye\", \"rye\", \"rye\", \"rye\", \"rye\", \"sale\", \"sale\", \"sale\", \"sale\", \"sale\", \"salt\", \"salt\", \"salt\", \"salt\", \"salt\", \"scale\", \"scale\", \"scale\", \"scale\", \"scale\", \"scent\", \"scent\", \"scent\", \"scent\", \"scent\", \"score\", \"score\", \"score\", \"score\", \"score\", \"scotch\", \"scotch\", \"scotch\", \"scotch\", \"scotch\", \"seaweed\", \"seaweed\", \"seaweed\", \"seaweed\", \"seriously\", \"seriously\", \"seriously\", \"seriously\", \"seriously\", \"shall\", \"shall\", \"shall\", \"shall\", \"shall\", \"sherried\", \"sherried\", \"sherried\", \"sherried\", \"sherried\", \"sherry\", \"sherry\", \"sherry\", \"sherry\", \"sherry\", \"short\", \"short\", \"short\", \"short\", \"short\", \"signatory\", \"signatory\", \"signatory\", \"signatory\", \"smoke\", \"smoke\", \"smoke\", \"smoke\", \"smoke\", \"smokey\", \"smokey\", \"smokey\", \"smokey\", \"smokey\", \"smokiness\", \"smokiness\", \"smokiness\", \"smokiness\", \"smokiness\", \"smooth\", \"smooth\", \"smooth\", \"smooth\", \"smooth\", \"solid\", \"solid\", \"solid\", \"solid\", \"solid\", \"spice\", \"spice\", \"spice\", \"spice\", \"spice\", \"stagg\", \"stagg\", \"stagg\", \"straight\", \"straight\", \"straight\", \"straight\", \"straight\", \"sulphur\", \"sulphur\", \"sulphur\", \"sulphur\", \"sweet\", \"sweet\", \"sweet\", \"sweet\", \"sweet\", \"talisker\", \"talisker\", \"talisker\", \"talisker\", \"taste\", \"taste\", \"taste\", \"taste\", \"taste\", \"taylor\", \"taylor\", \"taylor\", \"taylor\", \"taylor\", \"terrible\", \"terrible\", \"terrible\", \"terrible\", \"terrible\", \"thing\", \"thing\", \"thing\", \"thing\", \"thing\", \"time\", \"time\", \"time\", \"time\", \"time\", \"toffee\", \"toffee\", \"toffee\", \"toffee\", \"toffee\", \"tongue\", \"tongue\", \"tongue\", \"tongue\", \"tongue\", \"trace\", \"trace\", \"trace\", \"trace\", \"trace\", \"try\", \"try\", \"try\", \"try\", \"try\", \"turkey\", \"turkey\", \"turkey\", \"turkey\", \"uigeadail\", \"uigeadail\", \"uigeadail\", \"uigeadail\", \"unpleasant\", \"unpleasant\", \"unpleasant\", \"unpleasant\", \"unpleasant\", \"usd\", \"usd\", \"usd\", \"usd\", \"usd\", \"vanilla\", \"vanilla\", \"vanilla\", \"vanilla\", \"vanilla\", \"walker\", \"walker\", \"walker\", \"walker\", \"walker\", \"wax\", \"wax\", \"wax\", \"wax\", \"wax\", \"waxy\", \"waxy\", \"waxy\", \"waxy\", \"waxy\", \"website\", \"website\", \"website\", \"website\", \"website\", \"well\", \"well\", \"well\", \"well\", \"well\", \"weller\", \"weller\", \"weller\", \"west\", \"west\", \"west\", \"west\", \"west\", \"whiskey\", \"whiskey\", \"whiskey\", \"whiskey\", \"whiskey\", \"whisky\", \"whisky\", \"whisky\", \"whisky\", \"whisky\", \"wild\", \"wild\", \"wild\", \"wild\", \"wild\", \"wine\", \"wine\", \"wine\", \"wine\", \"wine\", \"would\", \"would\", \"would\", \"would\", \"would\", \"wouldnt\", \"wouldnt\", \"wouldnt\", \"wouldnt\", \"wouldnt\", \"yeah\", \"yeah\", \"yeah\", \"yeah\", \"yeah\", \"year\", \"year\", \"year\", \"year\", \"year\"]}, \"R\": 30, \"lambda.step\": 0.01, \"plot.opts\": {\"xlab\": \"PC1\", \"ylab\": \"PC2\"}, \"topic.order\": [1, 2, 5, 3, 4]};\n",
       "\n",
       "function LDAvis_load_lib(url, callback){\n",
       "  var s = document.createElement('script');\n",
       "  s.src = url;\n",
       "  s.async = true;\n",
       "  s.onreadystatechange = s.onload = callback;\n",
       "  s.onerror = function(){console.warn(\"failed to load library \" + url);};\n",
       "  document.getElementsByTagName(\"head\")[0].appendChild(s);\n",
       "}\n",
       "\n",
       "if(typeof(LDAvis) !== \"undefined\"){\n",
       "   // already loaded: just create the visualization\n",
       "   !function(LDAvis){\n",
       "       new LDAvis(\"#\" + \"ldavis_el109181123210343041247354771\", ldavis_el109181123210343041247354771_data);\n",
       "   }(LDAvis);\n",
       "}else if(typeof define === \"function\" && define.amd){\n",
       "   // require.js is available: use it to load d3/LDAvis\n",
       "   require.config({paths: {d3: \"https://cdnjs.cloudflare.com/ajax/libs/d3/3.5.5/d3.min\"}});\n",
       "   require([\"d3\"], function(d3){\n",
       "      window.d3 = d3;\n",
       "      LDAvis_load_lib(\"https://cdn.rawgit.com/bmabey/pyLDAvis/files/ldavis.v1.0.0.js\", function(){\n",
       "        new LDAvis(\"#\" + \"ldavis_el109181123210343041247354771\", ldavis_el109181123210343041247354771_data);\n",
       "      });\n",
       "    });\n",
       "}else{\n",
       "    // require.js not available: dynamically load d3 & LDAvis\n",
       "    LDAvis_load_lib(\"https://cdnjs.cloudflare.com/ajax/libs/d3/3.5.5/d3.min.js\", function(){\n",
       "         LDAvis_load_lib(\"https://cdn.rawgit.com/bmabey/pyLDAvis/files/ldavis.v1.0.0.js\", function(){\n",
       "                 new LDAvis(\"#\" + \"ldavis_el109181123210343041247354771\", ldavis_el109181123210343041247354771_data);\n",
       "            })\n",
       "         });\n",
       "}\n",
       "</script>"
      ],
      "text/plain": [
       "PreparedData(topic_coordinates=              x         y  topics  cluster       Freq\n",
       "topic                                                \n",
       "0     -0.038661  0.011394       1        1  27.528279\n",
       "1      0.061749 -0.028235       2        1  22.630234\n",
       "4     -0.005819 -0.010032       3        1  21.521174\n",
       "2     -0.041210 -0.022750       4        1  20.567435\n",
       "3      0.023941  0.049623       5        1   7.752877, topic_info=     Category         Freq         Term        Total  loglift  logprob\n",
       "term                                                                  \n",
       "751   Default   850.000000          rye   850.000000  30.0000  30.0000\n",
       "61    Default   478.000000          bad   478.000000  29.0000  29.0000\n",
       "53    Default   310.000000      average   310.000000  28.0000  28.0000\n",
       "640   Default  1070.000000         peat  1070.000000  27.0000  27.0000\n",
       "785   Default  1080.000000       sherry  1080.000000  26.0000  26.0000\n",
       "361   Default  1007.000000         good  1007.000000  25.0000  25.0000\n",
       "463   Default   410.000000    laphroaig   410.000000  24.0000  24.0000\n",
       "103   Default   861.000000      bourbon   861.000000  23.0000  23.0000\n",
       "320   Default   153.000000         flaw   153.000000  22.0000  22.0000\n",
       "687   Default   512.000000        proof   512.000000  21.0000  21.0000\n",
       "803   Default  1054.000000        smoke  1054.000000  20.0000  20.0000\n",
       "281   Default   226.000000    excellent   226.000000  19.0000  19.0000\n",
       "195   Default   342.000000         corn   342.000000  18.0000  18.0000\n",
       "968   Default   524.000000      whiskey   524.000000  17.0000  17.0000\n",
       "69    Default   596.000000       barrel   596.000000  16.0000  16.0000\n",
       "136   Default  1099.000000         cask  1099.000000  15.0000  15.0000\n",
       "235   Default   102.000000      disgust   102.000000  14.0000  14.0000\n",
       "426   Default   129.000000   incredible   129.000000  13.0000  13.0000\n",
       "764   Default   626.000000       scotch   626.000000  12.0000  12.0000\n",
       "511   Default   226.000000     macallan   226.000000  11.0000  11.0000\n",
       "353   Default   191.000000  glenfarclas   191.000000  10.0000  10.0000\n",
       "515   Default  1010.000000         malt  1010.000000   9.0000   9.0000\n",
       "440   Default   396.000000        islay   396.000000   8.0000   8.0000\n",
       "331   Default   939.000000        fruit   939.000000   7.0000   7.0000\n",
       "709   Default   428.000000       rating   428.000000   6.0000   6.0000\n",
       "39    Default   298.000000       ardbeg   298.000000   5.0000   5.0000\n",
       "318   Default   639.000000       flavor   639.000000   4.0000   4.0000\n",
       "302   Default   263.000000     favorite   263.000000   3.0000   3.0000\n",
       "923   Default   140.000000       turkey   140.000000   2.0000   2.0000\n",
       "969   Default  1236.000000       whisky  1236.000000   1.0000   1.0000\n",
       "...       ...          ...          ...          ...      ...      ...\n",
       "511    Topic5    63.578700     macallan   226.185401   1.2880  -5.6028\n",
       "987    Topic5    62.978911      wouldnt   224.715000   1.2851  -5.6122\n",
       "810    Topic5    60.586691        solid   224.699869   1.2464  -5.6510\n",
       "302    Topic5    66.533477     favorite   263.044598   1.1825  -5.5573\n",
       "361    Topic5   185.667880         good  1007.439601   0.8659  -4.5311\n",
       "709    Topic5    79.827401       rating   428.623470   0.8764  -5.3752\n",
       "353    Topic5    49.055033  glenfarclas   191.311919   1.1961  -5.8621\n",
       "895    Topic5    71.965228        thing   414.079927   0.8072  -5.4789\n",
       "866    Topic5   118.434459        sweet  1204.731176   0.2375  -4.9807\n",
       "961    Topic5    98.094017         well   829.795772   0.4219  -5.1691\n",
       "331    Topic5    99.152123        fruit   939.845355   0.3080  -5.1584\n",
       "785    Topic5   102.759558       sherry  1080.551080   0.2043  -5.1227\n",
       "315    Topic5   111.698596       finish  1515.598413  -0.0507  -5.0392\n",
       "318    Topic5    80.329904       flavor   639.604193   0.4824  -5.3689\n",
       "593    Topic5   100.044075         note  1243.870583   0.0367  -5.1494\n",
       "592    Topic5   103.573823         nose  1405.656688  -0.0509  -5.1148\n",
       "714    Topic5    89.637159       really   900.067583   0.2504  -5.2593\n",
       "763    Topic5    87.810357        score   837.961062   0.3013  -5.2799\n",
       "735    Topic5    93.488609       review  1181.937255   0.0200  -5.2172\n",
       "969    Topic5    94.433195       whisky  1236.312790  -0.0149  -5.2072\n",
       "629    Topic5    86.241036       palate   952.793761   0.1549  -5.2979\n",
       "369    Topic5    74.653293        great   525.515551   0.6056  -5.4422\n",
       "939    Topic5    85.370004      vanilla  1113.991877  -0.0116  -5.3081\n",
       "485    Topic5    86.001308         like  1165.954048  -0.0498  -5.3007\n",
       "99     Topic5    81.729684       bottle  1162.287569  -0.0976  -5.3516\n",
       "497    Topic5    76.008653       little   765.327264   0.2476  -5.4242\n",
       "515    Topic5    77.691747         malt  1010.758638  -0.0086  -5.4023\n",
       "879    Topic5    77.429853        taste  1345.120985  -0.2978  -5.4057\n",
       "417    Topic5    69.937212           id   472.727177   0.6462  -5.5075\n",
       "136    Topic5    71.181456         cask  1099.963531  -0.1807  -5.4898\n",
       "\n",
       "[346 rows x 6 columns], token_table=      Topic      Freq        Term\n",
       "term                             \n",
       "0         1  0.639289    aberlour\n",
       "0         3  0.139844    aberlour\n",
       "0         4  0.019978    aberlour\n",
       "0         5  0.199778    aberlour\n",
       "3         1  0.583066     abunadh\n",
       "3         3  0.104119     abunadh\n",
       "3         4  0.020824     abunadh\n",
       "3         5  0.281121     abunadh\n",
       "9         1  0.115031  aftertaste\n",
       "9         2  0.238911  aftertaste\n",
       "9         3  0.513217  aftertaste\n",
       "9         4  0.097334  aftertaste\n",
       "9         5  0.044243  aftertaste\n",
       "10        1  0.278909         age\n",
       "10        2  0.330203         age\n",
       "10        3  0.125028         age\n",
       "10        4  0.198763         age\n",
       "10        5  0.067323         age\n",
       "13        1  0.160095     alcohol\n",
       "13        2  0.271466     alcohol\n",
       "13        3  0.378196     alcohol\n",
       "13        4  0.118331     alcohol\n",
       "13        5  0.074247     alcohol\n",
       "27        1  0.232382       amrut\n",
       "27        3  0.017876       amrut\n",
       "27        4  0.616705       amrut\n",
       "27        5  0.143004       amrut\n",
       "36        1  0.402920       apple\n",
       "36        2  0.131699       apple\n",
       "36        3  0.276437       apple\n",
       "...     ...       ...         ...\n",
       "973       1  0.064859        wild\n",
       "973       2  0.799922        wild\n",
       "973       3  0.043239        wild\n",
       "973       4  0.057652        wild\n",
       "973       5  0.028826        wild\n",
       "974       1  0.475758        wine\n",
       "974       2  0.082843        wine\n",
       "974       3  0.179889        wine\n",
       "974       4  0.198824        wine\n",
       "974       5  0.063908        wine\n",
       "986       1  0.192520       would\n",
       "986       2  0.226114       would\n",
       "986       3  0.348862       would\n",
       "986       4  0.170555       would\n",
       "986       5  0.062020       would\n",
       "987       1  0.111252     wouldnt\n",
       "987       2  0.178003     wouldnt\n",
       "987       3  0.298155     wouldnt\n",
       "987       4  0.133502     wouldnt\n",
       "987       5  0.280355     wouldnt\n",
       "991       1  0.124275        yeah\n",
       "991       2  0.151892        yeah\n",
       "991       3  0.165700        yeah\n",
       "991       4  0.538525        yeah\n",
       "991       5  0.013808        yeah\n",
       "992       1  0.339857        year\n",
       "992       2  0.227247        year\n",
       "992       3  0.174494        year\n",
       "992       4  0.206957        year\n",
       "992       5  0.050725        year\n",
       "\n",
       "[1144 rows x 3 columns], R=30, lambda_step=0.01, plot_opts={'xlab': 'PC1', 'ylab': 'PC2'}, topic_order=[1, 2, 5, 3, 4])"
      ]
     },
     "execution_count": 18,
     "metadata": {},
     "output_type": "execute_result"
    }
   ],
   "source": [
    "pyLDAvis.sklearn.prepare(best_lda_model, X, tf)\n"
   ]
  },
  {
   "cell_type": "code",
   "execution_count": null,
   "metadata": {},
   "outputs": [],
   "source": []
  }
 ],
 "metadata": {
  "kernelspec": {
   "display_name": "Python 3",
   "language": "python",
   "name": "python3"
  },
  "language_info": {
   "codemirror_mode": {
    "name": "ipython",
    "version": 3
   },
   "file_extension": ".py",
   "mimetype": "text/x-python",
   "name": "python",
   "nbconvert_exporter": "python",
   "pygments_lexer": "ipython3",
   "version": "3.7.0"
  }
 },
 "nbformat": 4,
 "nbformat_minor": 2
}
