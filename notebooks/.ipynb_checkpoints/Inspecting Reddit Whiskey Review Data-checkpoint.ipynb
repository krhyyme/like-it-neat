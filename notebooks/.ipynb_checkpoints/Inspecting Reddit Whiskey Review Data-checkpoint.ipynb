{
 "cells": [
  {
   "cell_type": "code",
   "execution_count": 1,
   "metadata": {},
   "outputs": [],
   "source": [
    "%matplotlib inline\n",
    "import pandas as pd\n",
    "import numpy as np\n",
    "import matplotlib.pyplot as plt\n",
    "import seaborn as sns\n",
    "from urllib.parse import urlparse\n",
    "import os"
   ]
  },
  {
   "cell_type": "code",
   "execution_count": 2,
   "metadata": {},
   "outputs": [],
   "source": [
    "sns.set_style('darkgrid')"
   ]
  },
  {
   "cell_type": "markdown",
   "metadata": {},
   "source": [
    "Let's load the data and take a peek. This is a quick exploratory look at the dataset with narrow purpose of seeing if my recommendation engine idea is viable."
   ]
  },
  {
   "cell_type": "code",
   "execution_count": 3,
   "metadata": {},
   "outputs": [],
   "source": [
    "os.chdir('../data/raw_data/')"
   ]
  },
  {
   "cell_type": "code",
   "execution_count": 4,
   "metadata": {},
   "outputs": [],
   "source": [
    "whiskey_archive = pd.read_csv('reddit_whisky_network_review_archive.csv', dtype = str)"
   ]
  },
  {
   "cell_type": "markdown",
   "metadata": {},
   "source": [
    "Taking a look at the first 5 rows tells me a few things:\n",
    "\n",
    "* Full Bottle Price Paid isn't always reported by a user. It's worth it to see if Whiskies have price recorded by any of the users.\n",
    "* Full Bottle Price Paid may vary with time and region. Alcohol taxes, etc. \n",
    "* Timestamps include time of day. Interesting to see how ratings vary with time.\n",
    "* We all ready have region or style of whiskey included."
   ]
  },
  {
   "cell_type": "code",
   "execution_count": 5,
   "metadata": {},
   "outputs": [
    {
     "data": {
      "text/html": [
       "<div>\n",
       "<style scoped>\n",
       "    .dataframe tbody tr th:only-of-type {\n",
       "        vertical-align: middle;\n",
       "    }\n",
       "\n",
       "    .dataframe tbody tr th {\n",
       "        vertical-align: top;\n",
       "    }\n",
       "\n",
       "    .dataframe thead th {\n",
       "        text-align: right;\n",
       "    }\n",
       "</style>\n",
       "<table border=\"1\" class=\"dataframe\">\n",
       "  <thead>\n",
       "    <tr style=\"text-align: right;\">\n",
       "      <th></th>\n",
       "      <th>Timestamp</th>\n",
       "      <th>Whisky Name</th>\n",
       "      <th>Reviewer's Reddit Username</th>\n",
       "      <th>Link To Reddit Review</th>\n",
       "      <th>Reviewer Rating</th>\n",
       "      <th>Whisky Region or Style</th>\n",
       "      <th>Full Bottle Price Paid</th>\n",
       "      <th>Date of Review</th>\n",
       "    </tr>\n",
       "  </thead>\n",
       "  <tbody>\n",
       "    <tr>\n",
       "      <th>0</th>\n",
       "      <td>2018-09-21 09:08:26.326000</td>\n",
       "      <td>Littlemill 24 1988 Berry Bros &amp; Rudd</td>\n",
       "      <td>devoz</td>\n",
       "      <td>https://www.reddit.com/r/Scotch/comments/9hq8s...</td>\n",
       "      <td>87</td>\n",
       "      <td>Lowland</td>\n",
       "      <td>NaN</td>\n",
       "      <td>9/21/18</td>\n",
       "    </tr>\n",
       "    <tr>\n",
       "      <th>1</th>\n",
       "      <td>2012-12-14 10:03:18</td>\n",
       "      <td>100 Pipers</td>\n",
       "      <td>merlinblack</td>\n",
       "      <td>http://www.reddit.com/r/Scotch/comments/14uder...</td>\n",
       "      <td>68</td>\n",
       "      <td>Blend</td>\n",
       "      <td>NaN</td>\n",
       "      <td>12/14/12</td>\n",
       "    </tr>\n",
       "    <tr>\n",
       "      <th>2</th>\n",
       "      <td>2017-11-17 08:15:21.922000</td>\n",
       "      <td>1792 225th Anniversary</td>\n",
       "      <td>WildOscar66</td>\n",
       "      <td>https://www.reddit.com/r/bourbon/comments/7445...</td>\n",
       "      <td>80</td>\n",
       "      <td>Bourbon</td>\n",
       "      <td>NaN</td>\n",
       "      <td>10/17/17</td>\n",
       "    </tr>\n",
       "    <tr>\n",
       "      <th>3</th>\n",
       "      <td>2016-10-31 16:14:04.778000</td>\n",
       "      <td>1792 Full Proof</td>\n",
       "      <td>dmsn7d</td>\n",
       "      <td>https://www.reddit.com/r/bourbon/comments/5aez...</td>\n",
       "      <td>85</td>\n",
       "      <td>Bourbon</td>\n",
       "      <td>NaN</td>\n",
       "      <td>10/31/16</td>\n",
       "    </tr>\n",
       "    <tr>\n",
       "      <th>4</th>\n",
       "      <td>2017-06-29 15:44:31.555000</td>\n",
       "      <td>1792 Full Proof</td>\n",
       "      <td>FuzzyWildcat</td>\n",
       "      <td>https://www.reddit.com/r/bourbon/comments/6epe...</td>\n",
       "      <td>69</td>\n",
       "      <td>Bourbon</td>\n",
       "      <td>34</td>\n",
       "      <td>06/01/17</td>\n",
       "    </tr>\n",
       "  </tbody>\n",
       "</table>\n",
       "</div>"
      ],
      "text/plain": [
       "                    Timestamp                           Whisky Name  \\\n",
       "0  2018-09-21 09:08:26.326000  Littlemill 24 1988 Berry Bros & Rudd   \n",
       "1         2012-12-14 10:03:18                            100 Pipers   \n",
       "2  2017-11-17 08:15:21.922000               1792 225th Anniversary    \n",
       "3  2016-10-31 16:14:04.778000                       1792 Full Proof   \n",
       "4  2017-06-29 15:44:31.555000                       1792 Full Proof   \n",
       "\n",
       "  Reviewer's Reddit Username  \\\n",
       "0                      devoz   \n",
       "1                merlinblack   \n",
       "2                WildOscar66   \n",
       "3                     dmsn7d   \n",
       "4               FuzzyWildcat   \n",
       "\n",
       "                               Link To Reddit Review Reviewer Rating  \\\n",
       "0  https://www.reddit.com/r/Scotch/comments/9hq8s...              87   \n",
       "1  http://www.reddit.com/r/Scotch/comments/14uder...              68   \n",
       "2  https://www.reddit.com/r/bourbon/comments/7445...              80   \n",
       "3  https://www.reddit.com/r/bourbon/comments/5aez...              85   \n",
       "4  https://www.reddit.com/r/bourbon/comments/6epe...              69   \n",
       "\n",
       "  Whisky Region or Style Full Bottle Price Paid Date of Review  \n",
       "0                Lowland                    NaN        9/21/18  \n",
       "1                  Blend                    NaN       12/14/12  \n",
       "2                Bourbon                    NaN       10/17/17  \n",
       "3                Bourbon                    NaN       10/31/16  \n",
       "4                Bourbon                     34       06/01/17  "
      ]
     },
     "execution_count": 5,
     "metadata": {},
     "output_type": "execute_result"
    }
   ],
   "source": [
    "whiskey_archive.head()\n"
   ]
  },
  {
   "cell_type": "markdown",
   "metadata": {},
   "source": [
    "Let's look at the timestamps in more detail. \n",
    "\n",
    "* What is the observation period for this dataset\n",
    "* Are reviews equally disperesed through out the year\n",
    "* Do some years have more reviews than others"
   ]
  },
  {
   "attachments": {
    "Screen%20Shot%202018-12-12%20at%209.27.51%20PM.png": {
     "image/png": "[encoded data removed]"
    }
   },
   "cell_type": "markdown",
   "metadata": {},
   "source": [
    "Looks Timestamp conversion errors out\n",
    "\n",
    "\n",
    "`whiskey_archive['Timestamp'] = pd.to_datetime(whiskey_archive['Timestamp'])`\n",
    "\n",
    "![Screen%20Shot%202018-12-12%20at%209.27.51%20PM.png](attachment:Screen%20Shot%202018-12-12%20at%209.27.51%20PM.png)\n",
    "\n",
    "\n",
    "We should check for values that are not timestamps. Let's do a simple check and see what values in the Timestamp column have characters."
   ]
  },
  {
   "cell_type": "code",
   "execution_count": 6,
   "metadata": {},
   "outputs": [
    {
     "data": {
      "text/html": [
       "<div>\n",
       "<style scoped>\n",
       "    .dataframe tbody tr th:only-of-type {\n",
       "        vertical-align: middle;\n",
       "    }\n",
       "\n",
       "    .dataframe tbody tr th {\n",
       "        vertical-align: top;\n",
       "    }\n",
       "\n",
       "    .dataframe thead th {\n",
       "        text-align: right;\n",
       "    }\n",
       "</style>\n",
       "<table border=\"1\" class=\"dataframe\">\n",
       "  <thead>\n",
       "    <tr style=\"text-align: right;\">\n",
       "      <th></th>\n",
       "      <th>Timestamp</th>\n",
       "      <th>Whisky Name</th>\n",
       "      <th>Reviewer's Reddit Username</th>\n",
       "      <th>Link To Reddit Review</th>\n",
       "      <th>Reviewer Rating</th>\n",
       "      <th>Whisky Region or Style</th>\n",
       "      <th>Full Bottle Price Paid</th>\n",
       "      <th>Date of Review</th>\n",
       "    </tr>\n",
       "  </thead>\n",
       "  <tbody>\n",
       "    <tr>\n",
       "      <th>7464</th>\n",
       "      <td>Bunnahabhain 25</td>\n",
       "      <td>Bunnahabhain 25</td>\n",
       "      <td>reddbdb</td>\n",
       "      <td>http://www.reddit.com/r/Scotch/comments/2t1y1h...</td>\n",
       "      <td>83</td>\n",
       "      <td>Islay</td>\n",
       "      <td>350</td>\n",
       "      <td>01/19/15</td>\n",
       "    </tr>\n",
       "  </tbody>\n",
       "</table>\n",
       "</div>"
      ],
      "text/plain": [
       "            Timestamp      Whisky Name Reviewer's Reddit Username  \\\n",
       "7464  Bunnahabhain 25  Bunnahabhain 25                    reddbdb   \n",
       "\n",
       "                                  Link To Reddit Review Reviewer Rating  \\\n",
       "7464  http://www.reddit.com/r/Scotch/comments/2t1y1h...              83   \n",
       "\n",
       "     Whisky Region or Style Full Bottle Price Paid Date of Review  \n",
       "7464                  Islay                    350       01/19/15  "
      ]
     },
     "execution_count": 6,
     "metadata": {},
     "output_type": "execute_result"
    }
   ],
   "source": [
    "# Uses regex to find values with at least on alphavetical character\n",
    "# consider nan values as not having an alphabetical character\n",
    "whiskey_archive[whiskey_archive['Timestamp'].str.contains('(?=.*[a-zA-Z])').replace(np.nan, False)]"
   ]
  },
  {
   "cell_type": "markdown",
   "metadata": {},
   "source": [
    "Looks there is only one record with a string in a non-Timestamp format. Let's replace the value with an np.nan and move on"
   ]
  },
  {
   "cell_type": "code",
   "execution_count": 7,
   "metadata": {},
   "outputs": [],
   "source": [
    "whiskey_archive['Timestamp']  = whiskey_archive['Timestamp'].replace({'Bunnahabhain 25': np.nan})"
   ]
  },
  {
   "cell_type": "code",
   "execution_count": 8,
   "metadata": {},
   "outputs": [],
   "source": [
    "whiskey_archive['Timestamp'] = pd.to_datetime(whiskey_archive['Timestamp'])"
   ]
  },
  {
   "cell_type": "markdown",
   "metadata": {},
   "source": [
    "Let's look at the reviews per year and make a simple chart"
   ]
  },
  {
   "cell_type": "code",
   "execution_count": 9,
   "metadata": {},
   "outputs": [
    {
     "data": {
      "text/plain": [
       "Text(0.5,1,'Number of Whiskey reviews per Year')"
      ]
     },
     "execution_count": 9,
     "metadata": {},
     "output_type": "execute_result"
    },
    {
     "data": {
      "image/png": "[encoded data removed]",
      "text/plain": [
       "<Figure size 432x288 with 1 Axes>"
      ]
     },
     "metadata": {},
     "output_type": "display_data"
    }
   ],
   "source": [
    "whiskey_archive['Year'] = whiskey_archive['Timestamp'].dt.year\n",
    "reviews_per_year = whiskey_archive['Year'].value_counts().reset_index()\n",
    "reviews_per_year.columns = ['Year', 'Number of Reviews']\n",
    "reviews_per_year['Year'] = reviews_per_year['Year'].astype(int)\n",
    "sns.lineplot(x = 'Year', y='Number of Reviews', data=reviews_per_year)\n",
    "plt.title(\"Number of Whiskey reviews per Year\")"
   ]
  },
  {
   "cell_type": "markdown",
   "metadata": {},
   "source": [
    "Ok let's see how this differs by different whisky styles. \n",
    "\n",
    "* It seems that some names there is some string cleaning to do. The Whisky style \"Speyside\" or region \"Islay\" appears twice for year 2018. They have the same characters so there maybe a stray space or tab character. Let's inspect and fix.\n",
    "* Region \"Islay\" appears as \"islay.\" Case is not the same for all reports. Same issue with speyside.\n"
   ]
  },
  {
   "cell_type": "code",
   "execution_count": 10,
   "metadata": {},
   "outputs": [
    {
     "data": {
      "text/html": [
       "<div>\n",
       "<style scoped>\n",
       "    .dataframe tbody tr th:only-of-type {\n",
       "        vertical-align: middle;\n",
       "    }\n",
       "\n",
       "    .dataframe tbody tr th {\n",
       "        vertical-align: top;\n",
       "    }\n",
       "\n",
       "    .dataframe thead th {\n",
       "        text-align: right;\n",
       "    }\n",
       "</style>\n",
       "<table border=\"1\" class=\"dataframe\">\n",
       "  <thead>\n",
       "    <tr style=\"text-align: right;\">\n",
       "      <th></th>\n",
       "      <th>Year</th>\n",
       "      <th>Whisky Region or Style</th>\n",
       "      <th>Timestamp</th>\n",
       "    </tr>\n",
       "  </thead>\n",
       "  <tbody>\n",
       "    <tr>\n",
       "      <th>0</th>\n",
       "      <td>2011.0</td>\n",
       "      <td>Blend</td>\n",
       "      <td>9</td>\n",
       "    </tr>\n",
       "    <tr>\n",
       "      <th>1</th>\n",
       "      <td>2011.0</td>\n",
       "      <td>Campbeltown</td>\n",
       "      <td>8</td>\n",
       "    </tr>\n",
       "    <tr>\n",
       "      <th>2</th>\n",
       "      <td>2011.0</td>\n",
       "      <td>Canada</td>\n",
       "      <td>2</td>\n",
       "    </tr>\n",
       "    <tr>\n",
       "      <th>3</th>\n",
       "      <td>2011.0</td>\n",
       "      <td>Highland</td>\n",
       "      <td>17</td>\n",
       "    </tr>\n",
       "    <tr>\n",
       "      <th>4</th>\n",
       "      <td>2011.0</td>\n",
       "      <td>India</td>\n",
       "      <td>3</td>\n",
       "    </tr>\n",
       "  </tbody>\n",
       "</table>\n",
       "</div>"
      ],
      "text/plain": [
       "     Year Whisky Region or Style  Timestamp\n",
       "0  2011.0                  Blend          9\n",
       "1  2011.0            Campbeltown          8\n",
       "2  2011.0                 Canada          2\n",
       "3  2011.0               Highland         17\n",
       "4  2011.0                  India          3"
      ]
     },
     "execution_count": 10,
     "metadata": {},
     "output_type": "execute_result"
    }
   ],
   "source": [
    "whiskey_archive.groupby(['Year', 'Whisky Region or Style'])['Timestamp'].count().reset_index().head()"
   ]
  },
  {
   "cell_type": "code",
   "execution_count": 11,
   "metadata": {},
   "outputs": [
    {
     "data": {
      "text/plain": [
       "array(['Lowland', 'Blend', 'Bourbon', 'bourbon', 'Wheat', 'Rye', 'Canada',\n",
       "       'Highland', 'Speyside', 'Island', 'America', 'Islay', 'Japan',\n",
       "       'Ireland', 'India', 'islay', 'White', 'France', 'Germany',\n",
       "       'South Africa', 'Australia', 'highland', 'Corn', 'Belgium',\n",
       "       'speyside', 'Sweden', 'Campbeltown', 'Grain', 'Switzerland',\n",
       "       'Argentina', 'England', 'blend', 'Liqueur', 'New Zealand',\n",
       "       'Iceland', 'canada', 'Bourbon ', 'Netherlands', 'campbeltown',\n",
       "       'Highland ', 'Speyside ', 'Israel', 'Burma', 'Czech Republic',\n",
       "       'Campbeltown ', 'Egypt', 'Poland', 'Taiwan', 'Taiwan ', 'China',\n",
       "       'Argentina ', 'Islay ', 'Home', 'Dominican Republic', 'rye',\n",
       "       'Spain', 'Finland', 'Canada ', 'Wales', 'Russia', 'Italy',\n",
       "       'Jamaica', 'Islands', 'Blended Speyside Scotch', 'Lowland / Grain',\n",
       "       'Borubon', 'Highlands', 'Cambletown', 'Bourbon/America', 'Scotch',\n",
       "       'Skye'], dtype=object)"
      ]
     },
     "execution_count": 11,
     "metadata": {},
     "output_type": "execute_result"
    }
   ],
   "source": [
    "whiskey_archive['Whisky Region or Style'].unique()"
   ]
  },
  {
   "cell_type": "code",
   "execution_count": 12,
   "metadata": {},
   "outputs": [
    {
     "data": {
      "text/plain": [
       "array(['lowland', 'blend', 'bourbon', 'wheat', 'rye', 'canada',\n",
       "       'highland', 'speyside', 'island', 'america', 'islay', 'japan',\n",
       "       'ireland', 'india', 'white', 'france', 'germany', 'south africa',\n",
       "       'australia', 'corn', 'belgium', 'sweden', 'campbeltown', 'grain',\n",
       "       'switzerland', 'argentina', 'england', 'liqueur', 'new zealand',\n",
       "       'iceland', 'netherlands', 'israel', 'burma', 'czech republic',\n",
       "       'egypt', 'poland', 'taiwan', 'china', 'home', 'dominican republic',\n",
       "       'spain', 'finland', 'wales', 'russia', 'italy', 'jamaica',\n",
       "       'islands', 'blended speyside scotch', 'lowland / grain', 'borubon',\n",
       "       'highlands', 'cambletown', 'bourbon/america', 'scotch', 'skye'],\n",
       "      dtype=object)"
      ]
     },
     "execution_count": 12,
     "metadata": {},
     "output_type": "execute_result"
    }
   ],
   "source": [
    "whiskey_archive['Whisky Region or Style'] = whiskey_archive['Whisky Region or Style'].str.strip()\n",
    "whiskey_archive['Whisky Region or Style'] = whiskey_archive['Whisky Region or Style'].str.lower()\n",
    "whiskey_archive['Whisky Region or Style'].unique()"
   ]
  },
  {
   "cell_type": "markdown",
   "metadata": {},
   "source": [
    "There are some typos / discrepancies typical with human inputed data:\n",
    "* a mispelling bourbon\n",
    "* Some users inputyed both location and style. In some situations this is synonomous (e.g. lowland whisky)\n",
    "* I'm not an SME in scotch. So I'll be using my best judgement. I'm sure some of my scotch loving friends will have a more clear take on how styles should be labeled. If I were working I'd get than input of a subject matter expert.\n"
   ]
  },
  {
   "cell_type": "code",
   "execution_count": 13,
   "metadata": {},
   "outputs": [],
   "source": [
    "replace_dict = {'bourbon/america': 'bourbon',\n",
    "                'blended speyside scotch': 'speyside',\n",
    "                'lowland / grain': 'lowland',\n",
    "                'borubon': 'bourbon',\n",
    "                'highlands': 'highland'}\n",
    "whiskey_archive['Whisky Region or Style'] = whiskey_archive['Whisky Region or Style'].replace(replace_dict) "
   ]
  },
  {
   "cell_type": "markdown",
   "metadata": {},
   "source": [
    "Here, I'm looking at the percent of reviews covered by each whisky style. I'll do a cumulative sum and use the whiskey ratings that cover the top 98% of ratings then filter out the result. This also translates to styles that have more than 100 reviews. "
   ]
  },
  {
   "cell_type": "code",
   "execution_count": 14,
   "metadata": {},
   "outputs": [],
   "source": [
    "style_percent_coverge = whiskey_archive['Whisky Region or Style'].value_counts() \n",
    "style_percent_coverge = style_percent_coverge.reset_index()"
   ]
  },
  {
   "cell_type": "code",
   "execution_count": 15,
   "metadata": {},
   "outputs": [],
   "source": [
    "style_percent_coverge.columns = ['Whisky Region or Style', 'count']"
   ]
  },
  {
   "cell_type": "code",
   "execution_count": 16,
   "metadata": {},
   "outputs": [],
   "source": [
    "style_percent_coverge['percentage'] = style_percent_coverge['count'] / whiskey_archive.shape[0]\n",
    "style_percent_coverge['cumulative_percentage'] = np.round(style_percent_coverge['percentage'].cumsum(), 2)"
   ]
  },
  {
   "cell_type": "code",
   "execution_count": 17,
   "metadata": {},
   "outputs": [],
   "source": [
    "style_percent_coverge = style_percent_coverge[style_percent_coverge['cumulative_percentage'] < 0.99]"
   ]
  },
  {
   "cell_type": "code",
   "execution_count": 18,
   "metadata": {},
   "outputs": [
    {
     "data": {
      "text/html": [
       "<div>\n",
       "<style scoped>\n",
       "    .dataframe tbody tr th:only-of-type {\n",
       "        vertical-align: middle;\n",
       "    }\n",
       "\n",
       "    .dataframe tbody tr th {\n",
       "        vertical-align: top;\n",
       "    }\n",
       "\n",
       "    .dataframe thead th {\n",
       "        text-align: right;\n",
       "    }\n",
       "</style>\n",
       "<table border=\"1\" class=\"dataframe\">\n",
       "  <thead>\n",
       "    <tr style=\"text-align: right;\">\n",
       "      <th></th>\n",
       "      <th>Whisky Region or Style</th>\n",
       "      <th>count</th>\n",
       "      <th>percentage</th>\n",
       "      <th>cumulative_percentage</th>\n",
       "    </tr>\n",
       "  </thead>\n",
       "  <tbody>\n",
       "    <tr>\n",
       "      <th>0</th>\n",
       "      <td>speyside</td>\n",
       "      <td>6080</td>\n",
       "      <td>0.202653</td>\n",
       "      <td>0.20</td>\n",
       "    </tr>\n",
       "    <tr>\n",
       "      <th>1</th>\n",
       "      <td>islay</td>\n",
       "      <td>5537</td>\n",
       "      <td>0.184554</td>\n",
       "      <td>0.39</td>\n",
       "    </tr>\n",
       "    <tr>\n",
       "      <th>2</th>\n",
       "      <td>bourbon</td>\n",
       "      <td>5411</td>\n",
       "      <td>0.180355</td>\n",
       "      <td>0.57</td>\n",
       "    </tr>\n",
       "    <tr>\n",
       "      <th>3</th>\n",
       "      <td>highland</td>\n",
       "      <td>3227</td>\n",
       "      <td>0.107559</td>\n",
       "      <td>0.68</td>\n",
       "    </tr>\n",
       "    <tr>\n",
       "      <th>4</th>\n",
       "      <td>island</td>\n",
       "      <td>1956</td>\n",
       "      <td>0.065196</td>\n",
       "      <td>0.74</td>\n",
       "    </tr>\n",
       "    <tr>\n",
       "      <th>5</th>\n",
       "      <td>blend</td>\n",
       "      <td>1696</td>\n",
       "      <td>0.056530</td>\n",
       "      <td>0.80</td>\n",
       "    </tr>\n",
       "    <tr>\n",
       "      <th>6</th>\n",
       "      <td>rye</td>\n",
       "      <td>1272</td>\n",
       "      <td>0.042397</td>\n",
       "      <td>0.84</td>\n",
       "    </tr>\n",
       "    <tr>\n",
       "      <th>7</th>\n",
       "      <td>campbeltown</td>\n",
       "      <td>901</td>\n",
       "      <td>0.030031</td>\n",
       "      <td>0.87</td>\n",
       "    </tr>\n",
       "    <tr>\n",
       "      <th>8</th>\n",
       "      <td>canada</td>\n",
       "      <td>689</td>\n",
       "      <td>0.022965</td>\n",
       "      <td>0.89</td>\n",
       "    </tr>\n",
       "    <tr>\n",
       "      <th>9</th>\n",
       "      <td>ireland</td>\n",
       "      <td>585</td>\n",
       "      <td>0.019499</td>\n",
       "      <td>0.91</td>\n",
       "    </tr>\n",
       "    <tr>\n",
       "      <th>10</th>\n",
       "      <td>japan</td>\n",
       "      <td>534</td>\n",
       "      <td>0.017799</td>\n",
       "      <td>0.93</td>\n",
       "    </tr>\n",
       "    <tr>\n",
       "      <th>11</th>\n",
       "      <td>america</td>\n",
       "      <td>534</td>\n",
       "      <td>0.017799</td>\n",
       "      <td>0.95</td>\n",
       "    </tr>\n",
       "    <tr>\n",
       "      <th>12</th>\n",
       "      <td>lowland</td>\n",
       "      <td>444</td>\n",
       "      <td>0.014799</td>\n",
       "      <td>0.96</td>\n",
       "    </tr>\n",
       "    <tr>\n",
       "      <th>13</th>\n",
       "      <td>india</td>\n",
       "      <td>295</td>\n",
       "      <td>0.009833</td>\n",
       "      <td>0.97</td>\n",
       "    </tr>\n",
       "    <tr>\n",
       "      <th>14</th>\n",
       "      <td>australia</td>\n",
       "      <td>172</td>\n",
       "      <td>0.005733</td>\n",
       "      <td>0.98</td>\n",
       "    </tr>\n",
       "    <tr>\n",
       "      <th>15</th>\n",
       "      <td>taiwan</td>\n",
       "      <td>163</td>\n",
       "      <td>0.005433</td>\n",
       "      <td>0.98</td>\n",
       "    </tr>\n",
       "  </tbody>\n",
       "</table>\n",
       "</div>"
      ],
      "text/plain": [
       "   Whisky Region or Style  count  percentage  cumulative_percentage\n",
       "0                speyside   6080    0.202653                   0.20\n",
       "1                   islay   5537    0.184554                   0.39\n",
       "2                 bourbon   5411    0.180355                   0.57\n",
       "3                highland   3227    0.107559                   0.68\n",
       "4                  island   1956    0.065196                   0.74\n",
       "5                   blend   1696    0.056530                   0.80\n",
       "6                     rye   1272    0.042397                   0.84\n",
       "7             campbeltown    901    0.030031                   0.87\n",
       "8                  canada    689    0.022965                   0.89\n",
       "9                 ireland    585    0.019499                   0.91\n",
       "10                  japan    534    0.017799                   0.93\n",
       "11                america    534    0.017799                   0.95\n",
       "12                lowland    444    0.014799                   0.96\n",
       "13                  india    295    0.009833                   0.97\n",
       "14              australia    172    0.005733                   0.98\n",
       "15                 taiwan    163    0.005433                   0.98"
      ]
     },
     "execution_count": 18,
     "metadata": {},
     "output_type": "execute_result"
    }
   ],
   "source": [
    "style_percent_coverge"
   ]
  },
  {
   "cell_type": "code",
   "execution_count": 19,
   "metadata": {},
   "outputs": [],
   "source": [
    "keep_styles = style_percent_coverge['Whisky Region or Style']"
   ]
  },
  {
   "cell_type": "code",
   "execution_count": 20,
   "metadata": {},
   "outputs": [],
   "source": [
    "whiskey_archive = whiskey_archive[whiskey_archive['Whisky Region or Style'].isin(keep_styles)]"
   ]
  },
  {
   "cell_type": "markdown",
   "metadata": {},
   "source": [
    "Let's plot yearly counts but by the standardized whiskey styles instead."
   ]
  },
  {
   "cell_type": "code",
   "execution_count": 21,
   "metadata": {},
   "outputs": [],
   "source": [
    "yearly_counts_by_style = whiskey_archive.groupby(['Year', 'Whisky Region or Style'])['Timestamp'].count().reset_index()"
   ]
  },
  {
   "cell_type": "code",
   "execution_count": 22,
   "metadata": {},
   "outputs": [],
   "source": [
    "yearly_counts_by_style.head()\n",
    "yearly_counts_by_style.columns = ['Year', 'Location or Style', 'Number of Reviews']"
   ]
  },
  {
   "cell_type": "markdown",
   "metadata": {},
   "source": [
    "To make sure the plot isn't too cluttered. Let's look at top 5 most popular whisky styles in this data set."
   ]
  },
  {
   "cell_type": "code",
   "execution_count": 23,
   "metadata": {},
   "outputs": [],
   "source": [
    "top5styles = style_percent_coverge.iloc[:5]['Whisky Region or Style']"
   ]
  },
  {
   "cell_type": "markdown",
   "metadata": {},
   "source": [
    "Interesting to see bourbon make it this far up on the list. But its expected to see the scottish regional styles this far up. It is called scotch after all. "
   ]
  },
  {
   "cell_type": "code",
   "execution_count": 24,
   "metadata": {},
   "outputs": [
    {
     "data": {
      "text/plain": [
       "<matplotlib.legend.Legend at 0x1a20c2b9e8>"
      ]
     },
     "execution_count": 24,
     "metadata": {},
     "output_type": "execute_result"
    },
    {
     "data": {
      "image/png": "[encoded data removed]",
      "text/plain": [
       "<Figure size 432x288 with 1 Axes>"
      ]
     },
     "metadata": {},
     "output_type": "display_data"
    }
   ],
   "source": [
    "yearly_counts_by_style = yearly_counts_by_style[yearly_counts_by_style['Location or Style'].isin(top5styles)]\n",
    "sns.lineplot(x = 'Year', y='Number of Reviews', hue = 'Location or Style', \n",
    "             data=yearly_counts_by_style, legend='full')\n",
    "# plt.legend() \n",
    "plt.title(\"Number of Whiskey reviews per Year by Style or Location\")\n",
    "plt.legend(bbox_to_anchor=(1.05, 1), loc=2, borderaxespad=0.)\n",
    "\n"
   ]
  },
  {
   "cell_type": "markdown",
   "metadata": {},
   "source": [
    "Let's look at whisky names. We'll go through the same excercise as before. Report counts and cumulative sum to pull the most frequent whisky's. "
   ]
  },
  {
   "cell_type": "code",
   "execution_count": 25,
   "metadata": {},
   "outputs": [],
   "source": [
    "whiskey_archive['Whisky Name'] = whiskey_archive['Whisky Name'].str.strip()\n",
    "whiskey_archive['Whisky Name'] = whiskey_archive['Whisky Name'].str.lower()"
   ]
  },
  {
   "cell_type": "markdown",
   "metadata": {},
   "source": [
    "Let's build table comparing counts, percent coverage, and cumulative percentage for each whisky name. "
   ]
  },
  {
   "cell_type": "code",
   "execution_count": 26,
   "metadata": {},
   "outputs": [],
   "source": [
    "names_percent_coverage = whiskey_archive['Whisky Name'].value_counts().reset_index()\n",
    "names_percent_coverage.columns = ['Whisky Name', 'counts']"
   ]
  },
  {
   "cell_type": "code",
   "execution_count": 27,
   "metadata": {},
   "outputs": [],
   "source": [
    "names_percent_coverage['percent_coverage'] = names_percent_coverage['counts'] / whiskey_archive.shape[0]\n",
    "names_percent_coverage['cumulative_percentage'] = np.round(names_percent_coverage['percent_coverage'].cumsum(), 2)"
   ]
  },
  {
   "cell_type": "code",
   "execution_count": 28,
   "metadata": {},
   "outputs": [],
   "source": [
    "names_percent_coverage = names_percent_coverage[names_percent_coverage['counts'] >= 10]\n",
    "keep_names = names_percent_coverage['Whisky Name'].unique()"
   ]
  },
  {
   "cell_type": "markdown",
   "metadata": {},
   "source": [
    "Let's keep Whisky's with more than ten reviews. There is a lot more standardization that can be done here (correcting some misspelling, converting numbers written as words to its numerical representation (ten -> 10), etc. But the time investment is steep for gaining a few extra reviews. a case of diminishing means."
   ]
  },
  {
   "cell_type": "code",
   "execution_count": 29,
   "metadata": {},
   "outputs": [],
   "source": [
    "whiskey_archive = whiskey_archive[whiskey_archive['Whisky Name'].isin(keep_names)]"
   ]
  },
  {
   "cell_type": "markdown",
   "metadata": {},
   "source": [
    "Let's take a quick look at ratings. I plan to use the reviews to identify similar whiskeys. But the rating are still something worth looking at. "
   ]
  },
  {
   "cell_type": "code",
   "execution_count": 30,
   "metadata": {},
   "outputs": [],
   "source": [
    "whiskey_archive['Reviewer Rating'] = whiskey_archive['Reviewer Rating'].str.strip()\n",
    "whiskey_archive['Reviewer Rating'] = whiskey_archive['Reviewer Rating'].replace('', np.nan)"
   ]
  },
  {
   "cell_type": "markdown",
   "metadata": {},
   "source": [
    "Ohh boy - these ratings are all over the place. And I'm not sure all are on the same scale. "
   ]
  },
  {
   "cell_type": "code",
   "execution_count": 31,
   "metadata": {},
   "outputs": [
    {
     "data": {
      "text/plain": [
       "array(['85', '69', '78', '87', '84', '80', '75', '82', '83', '79', '76',\n",
       "       '88', '64', '74', '86', '71', '77', '81', '72', nan, '65', '73',\n",
       "       '70', '68', '89', '90', '66', '60', '92', '93', '96', '91', '94',\n",
       "       '95', '97', '54', '50', '63', '59', '67', '3.5', '100', '98', '40',\n",
       "       '53', '58', '61', '36', '14', '48', '55', '86.5', '62', '99', '20',\n",
       "       '51', '56', '17', '35', '45', '49', '42', '52', '25', '57', '41',\n",
       "       '30', '15', '47', '34', '38', '46', '10', '43', '32', '1', '33',\n",
       "       '28', '0.1', '91.5', '82.5', '44', '89.5', '75/100'], dtype=object)"
      ]
     },
     "execution_count": 31,
     "metadata": {},
     "output_type": "execute_result"
    }
   ],
   "source": [
    "whiskey_archive['Reviewer Rating'].unique()"
   ]
  },
  {
   "cell_type": "code",
   "execution_count": 32,
   "metadata": {},
   "outputs": [],
   "source": [
    "whiskey_archive['Reviewer Rating'] = whiskey_archive['Reviewer Rating'].str.replace('/100', '')\n",
    "whiskey_archive['Reviewer Rating'] = whiskey_archive['Reviewer Rating'].astype(float)"
   ]
  },
  {
   "cell_type": "markdown",
   "metadata": {},
   "source": [
    "Let's look at a simple histogram. Seems like ratings skew high. Maybe people only review whiskey's they anticipate liking. That would make sense most of these reviewers are purchasing whiskey's on their own dime\n"
   ]
  },
  {
   "cell_type": "code",
   "execution_count": 33,
   "metadata": {},
   "outputs": [
    {
     "name": "stderr",
     "output_type": "stream",
     "text": [
      "/Users/karim/anaconda3/lib/python3.7/site-packages/scipy/stats/stats.py:1713: FutureWarning: Using a non-tuple sequence for multidimensional indexing is deprecated; use `arr[tuple(seq)]` instead of `arr[seq]`. In the future this will be interpreted as an array index, `arr[np.array(seq)]`, which will result either in an error or a different result.\n",
      "  return np.add.reduce(sorted[indexer] * weights, axis=axis) / sumval\n"
     ]
    },
    {
     "data": {
      "text/plain": [
       "Text(0,0.5,'count')"
      ]
     },
     "execution_count": 33,
     "metadata": {},
     "output_type": "execute_result"
    },
    {
     "data": {
      "image/png": "[encoded data removed]",
      "text/plain": [
       "<Figure size 432x288 with 1 Axes>"
      ]
     },
     "metadata": {},
     "output_type": "display_data"
    }
   ],
   "source": [
    "sns.distplot(whiskey_archive['Reviewer Rating'].dropna(), kde=False)\n",
    "plt.title('Histograme of Whisky Ratings')\n",
    "plt.ylabel('count')"
   ]
  },
  {
   "cell_type": "markdown",
   "metadata": {},
   "source": [
    "Let's look at the number of reviews per reviewer"
   ]
  },
  {
   "cell_type": "code",
   "execution_count": 34,
   "metadata": {},
   "outputs": [],
   "source": [
    "reviewer_coverage = whiskey_archive['Reviewer\\'s Reddit Username'].value_counts()"
   ]
  },
  {
   "cell_type": "markdown",
   "metadata": {},
   "source": [
    "Only 58% of reviewers have more than one review. Yikes.\n",
    "\n",
    "I think I'll recommend Whisky's based on a key word search or a previous well liked whisky"
   ]
  },
  {
   "cell_type": "code",
   "execution_count": 35,
   "metadata": {},
   "outputs": [
    {
     "data": {
      "text/plain": [
       "array([58.00711744])"
      ]
     },
     "execution_count": 35,
     "metadata": {},
     "output_type": "execute_result"
    }
   ],
   "source": [
    "100 * ((reviewer_coverage> 1).sum() / reviewer_coverage.shape)"
   ]
  },
  {
   "cell_type": "markdown",
   "metadata": {},
   "source": [
    "All right - let's inspect the urls, make sure they are valid, and conclude this notebook. Scraping whiskey reviews will be left for another day. \n",
    "\n",
    "We will use the urlparse method from urllib. Valid urls should have a scheme, netloc, and path. Below is an example"
   ]
  },
  {
   "cell_type": "code",
   "execution_count": 36,
   "metadata": {},
   "outputs": [
    {
     "data": {
      "text/plain": [
       "ParseResult(scheme='https', netloc='www.reddit.com', path='/r/bourbon/comments/5aezxj/review_42_1792_full_proof/', params='', query='', fragment='')"
      ]
     },
     "execution_count": 36,
     "metadata": {},
     "output_type": "execute_result"
    }
   ],
   "source": [
    "url = whiskey_archive['Link To Reddit Review'].iloc[0]\n",
    "urlparse(url)"
   ]
  },
  {
   "cell_type": "code",
   "execution_count": 37,
   "metadata": {},
   "outputs": [],
   "source": [
    "# we want the URLs lower case\n",
    "whiskey_archive['Link to Reddit Reveiw'] = whiskey_archive['Link To Reddit Review'].str.lower()\n",
    "whiskey_archive['urlparse'] = whiskey_archive['Link To Reddit Review'].apply(lambda x: urlparse(x))"
   ]
  },
  {
   "cell_type": "code",
   "execution_count": 38,
   "metadata": {},
   "outputs": [],
   "source": [
    "whiskey_archive['scheme'] = whiskey_archive['urlparse'].apply(lambda x: x.scheme)\n",
    "whiskey_archive['netloc'] = whiskey_archive['urlparse'].apply(lambda x: x.netloc)\n",
    "whiskey_archive['path'] = whiskey_archive['urlparse'].apply(lambda x: x.path)"
   ]
  },
  {
   "cell_type": "code",
   "execution_count": 39,
   "metadata": {},
   "outputs": [
    {
     "name": "stdout",
     "output_type": "stream",
     "text": [
      "scheme contains 23 missing values\n",
      "netloc contains 23 missing values\n",
      "path contains 0 missing values\n"
     ]
    }
   ],
   "source": [
    "for col in ['scheme', 'netloc', 'path']:\n",
    "    whiskey_archive[col] = whiskey_archive[col].replace('', np.nan)\n",
    "    mis_vals = whiskey_archive[col].isnull().sum()\n",
    "    print('%s contains %i missing values' %(col, mis_vals))"
   ]
  },
  {
   "cell_type": "markdown",
   "metadata": {},
   "source": [
    "looks like these urls don't have a scheme and is throwing off the URL parser. we'll have to standardize them"
   ]
  },
  {
   "cell_type": "code",
   "execution_count": 40,
   "metadata": {},
   "outputs": [
    {
     "data": {
      "text/html": [
       "<div>\n",
       "<style scoped>\n",
       "    .dataframe tbody tr th:only-of-type {\n",
       "        vertical-align: middle;\n",
       "    }\n",
       "\n",
       "    .dataframe tbody tr th {\n",
       "        vertical-align: top;\n",
       "    }\n",
       "\n",
       "    .dataframe thead th {\n",
       "        text-align: right;\n",
       "    }\n",
       "</style>\n",
       "<table border=\"1\" class=\"dataframe\">\n",
       "  <thead>\n",
       "    <tr style=\"text-align: right;\">\n",
       "      <th></th>\n",
       "      <th>scheme</th>\n",
       "      <th>netloc</th>\n",
       "      <th>path</th>\n",
       "    </tr>\n",
       "  </thead>\n",
       "  <tbody>\n",
       "    <tr>\n",
       "      <th>235</th>\n",
       "      <td>NaN</td>\n",
       "      <td>NaN</td>\n",
       "      <td>www.reddit.com/r/Scotch/comments/whci9/aberlou...</td>\n",
       "    </tr>\n",
       "    <tr>\n",
       "      <th>1104</th>\n",
       "      <td>NaN</td>\n",
       "      <td>NaN</td>\n",
       "      <td>reddit.com/r/Scotch/comments/3266xh/review_anc...</td>\n",
       "    </tr>\n",
       "    <tr>\n",
       "      <th>4647</th>\n",
       "      <td>NaN</td>\n",
       "      <td>NaN</td>\n",
       "      <td>reddit.com/r/Scotch/comments/2mt571/review_ben...</td>\n",
       "    </tr>\n",
       "    <tr>\n",
       "      <th>5455</th>\n",
       "      <td>NaN</td>\n",
       "      <td>NaN</td>\n",
       "      <td>reddit.com/r/Scotch/comments/2mwxzt/review_bow...</td>\n",
       "    </tr>\n",
       "    <tr>\n",
       "      <th>7373</th>\n",
       "      <td>NaN</td>\n",
       "      <td>NaN</td>\n",
       "      <td>reddit.com/r/Scotch/comments/2n32k5/review_bun...</td>\n",
       "    </tr>\n",
       "  </tbody>\n",
       "</table>\n",
       "</div>"
      ],
      "text/plain": [
       "     scheme netloc                                               path\n",
       "235     NaN    NaN  www.reddit.com/r/Scotch/comments/whci9/aberlou...\n",
       "1104    NaN    NaN  reddit.com/r/Scotch/comments/3266xh/review_anc...\n",
       "4647    NaN    NaN  reddit.com/r/Scotch/comments/2mt571/review_ben...\n",
       "5455    NaN    NaN  reddit.com/r/Scotch/comments/2mwxzt/review_bow...\n",
       "7373    NaN    NaN  reddit.com/r/Scotch/comments/2n32k5/review_bun..."
      ]
     },
     "execution_count": 40,
     "metadata": {},
     "output_type": "execute_result"
    }
   ],
   "source": [
    "whiskey_archive[whiskey_archive['scheme'].isnull()][['scheme', 'netloc', 'path']].head()"
   ]
  },
  {
   "cell_type": "code",
   "execution_count": 41,
   "metadata": {},
   "outputs": [],
   "source": [
    "# filter out valid urls\n",
    "valid_rating_urls = whiskey_archive[~whiskey_archive['scheme'].isnull()]\n",
    "invalid_rating_urls = whiskey_archive[whiskey_archive['scheme'].isnull()]"
   ]
  },
  {
   "cell_type": "code",
   "execution_count": 42,
   "metadata": {},
   "outputs": [
    {
     "name": "stderr",
     "output_type": "stream",
     "text": [
      "/Users/karim/anaconda3/lib/python3.7/site-packages/ipykernel_launcher.py:1: SettingWithCopyWarning: \n",
      "A value is trying to be set on a copy of a slice from a DataFrame.\n",
      "Try using .loc[row_indexer,col_indexer] = value instead\n",
      "\n",
      "See the caveats in the documentation: http://pandas.pydata.org/pandas-docs/stable/indexing.html#indexing-view-versus-copy\n",
      "  \"\"\"Entry point for launching an IPython kernel.\n",
      "/Users/karim/anaconda3/lib/python3.7/site-packages/ipykernel_launcher.py:2: SettingWithCopyWarning: \n",
      "A value is trying to be set on a copy of a slice from a DataFrame.\n",
      "Try using .loc[row_indexer,col_indexer] = value instead\n",
      "\n",
      "See the caveats in the documentation: http://pandas.pydata.org/pandas-docs/stable/indexing.html#indexing-view-versus-copy\n",
      "  \n"
     ]
    }
   ],
   "source": [
    "invalid_rating_urls['Link To Reddit Review'] = invalid_rating_urls['Link To Reddit Review'].str.replace('www.', '')\n",
    "invalid_rating_urls['Link To Reddit Review'] =  'https://www.'+ invalid_rating_urls['Link To Reddit Review']\n"
   ]
  },
  {
   "cell_type": "code",
   "execution_count": 43,
   "metadata": {},
   "outputs": [
    {
     "name": "stderr",
     "output_type": "stream",
     "text": [
      "/Users/karim/anaconda3/lib/python3.7/site-packages/ipykernel_launcher.py:1: SettingWithCopyWarning: \n",
      "A value is trying to be set on a copy of a slice from a DataFrame.\n",
      "Try using .loc[row_indexer,col_indexer] = value instead\n",
      "\n",
      "See the caveats in the documentation: http://pandas.pydata.org/pandas-docs/stable/indexing.html#indexing-view-versus-copy\n",
      "  \"\"\"Entry point for launching an IPython kernel.\n",
      "/Users/karim/anaconda3/lib/python3.7/site-packages/ipykernel_launcher.py:2: SettingWithCopyWarning: \n",
      "A value is trying to be set on a copy of a slice from a DataFrame.\n",
      "Try using .loc[row_indexer,col_indexer] = value instead\n",
      "\n",
      "See the caveats in the documentation: http://pandas.pydata.org/pandas-docs/stable/indexing.html#indexing-view-versus-copy\n",
      "  \n",
      "/Users/karim/anaconda3/lib/python3.7/site-packages/ipykernel_launcher.py:3: SettingWithCopyWarning: \n",
      "A value is trying to be set on a copy of a slice from a DataFrame.\n",
      "Try using .loc[row_indexer,col_indexer] = value instead\n",
      "\n",
      "See the caveats in the documentation: http://pandas.pydata.org/pandas-docs/stable/indexing.html#indexing-view-versus-copy\n",
      "  This is separate from the ipykernel package so we can avoid doing imports until\n",
      "/Users/karim/anaconda3/lib/python3.7/site-packages/ipykernel_launcher.py:4: SettingWithCopyWarning: \n",
      "A value is trying to be set on a copy of a slice from a DataFrame.\n",
      "Try using .loc[row_indexer,col_indexer] = value instead\n",
      "\n",
      "See the caveats in the documentation: http://pandas.pydata.org/pandas-docs/stable/indexing.html#indexing-view-versus-copy\n",
      "  after removing the cwd from sys.path.\n"
     ]
    }
   ],
   "source": [
    "invalid_rating_urls['urlparse'] = invalid_rating_urls['Link To Reddit Review'].apply(lambda x: urlparse(x))\n",
    "invalid_rating_urls['scheme'] = invalid_rating_urls['urlparse'].apply(lambda x: x.scheme)\n",
    "invalid_rating_urls['netloc'] = invalid_rating_urls['urlparse'].apply(lambda x: x.netloc)\n",
    "invalid_rating_urls['path'] = invalid_rating_urls['urlparse'].apply(lambda x: x.path)"
   ]
  },
  {
   "cell_type": "markdown",
   "metadata": {},
   "source": [
    "Awesome - looks like we fixed the problem"
   ]
  },
  {
   "cell_type": "code",
   "execution_count": 44,
   "metadata": {},
   "outputs": [
    {
     "name": "stderr",
     "output_type": "stream",
     "text": [
      "/Users/karim/anaconda3/lib/python3.7/site-packages/ipykernel_launcher.py:2: SettingWithCopyWarning: \n",
      "A value is trying to be set on a copy of a slice from a DataFrame.\n",
      "Try using .loc[row_indexer,col_indexer] = value instead\n",
      "\n",
      "See the caveats in the documentation: http://pandas.pydata.org/pandas-docs/stable/indexing.html#indexing-view-versus-copy\n",
      "  \n"
     ]
    },
    {
     "name": "stdout",
     "output_type": "stream",
     "text": [
      "scheme contains 0 missing values\n",
      "netloc contains 0 missing values\n",
      "path contains 0 missing values\n"
     ]
    }
   ],
   "source": [
    "for col in ['scheme', 'netloc', 'path']:\n",
    "    invalid_rating_urls[col] = invalid_rating_urls[col].replace('', np.nan)\n",
    "    mis_vals = invalid_rating_urls[col].isnull().sum()\n",
    "    print('%s contains %i missing values' %(col, mis_vals))"
   ]
  },
  {
   "cell_type": "code",
   "execution_count": 45,
   "metadata": {},
   "outputs": [
    {
     "data": {
      "text/html": [
       "<div>\n",
       "<style scoped>\n",
       "    .dataframe tbody tr th:only-of-type {\n",
       "        vertical-align: middle;\n",
       "    }\n",
       "\n",
       "    .dataframe tbody tr th {\n",
       "        vertical-align: top;\n",
       "    }\n",
       "\n",
       "    .dataframe thead th {\n",
       "        text-align: right;\n",
       "    }\n",
       "</style>\n",
       "<table border=\"1\" class=\"dataframe\">\n",
       "  <thead>\n",
       "    <tr style=\"text-align: right;\">\n",
       "      <th></th>\n",
       "      <th>scheme</th>\n",
       "      <th>netloc</th>\n",
       "      <th>path</th>\n",
       "    </tr>\n",
       "  </thead>\n",
       "  <tbody>\n",
       "    <tr>\n",
       "      <th>235</th>\n",
       "      <td>https</td>\n",
       "      <td>www.reddit.com</td>\n",
       "      <td>/r/Scotch/comments/whci9/aberlour_12_year_review/</td>\n",
       "    </tr>\n",
       "    <tr>\n",
       "      <th>1104</th>\n",
       "      <td>https</td>\n",
       "      <td>www.reddit.com</td>\n",
       "      <td>/r/Scotch/comments/3266xh/review_ancnoc_12yo/</td>\n",
       "    </tr>\n",
       "    <tr>\n",
       "      <th>4647</th>\n",
       "      <td>https</td>\n",
       "      <td>www.reddit.com</td>\n",
       "      <td>/r/Scotch/comments/2mt571/review_benromach_10y...</td>\n",
       "    </tr>\n",
       "    <tr>\n",
       "      <th>5455</th>\n",
       "      <td>https</td>\n",
       "      <td>www.reddit.com</td>\n",
       "      <td>/r/Scotch/comments/2mwxzt/review_bowmore_darke...</td>\n",
       "    </tr>\n",
       "    <tr>\n",
       "      <th>7373</th>\n",
       "      <td>https</td>\n",
       "      <td>www.reddit.com</td>\n",
       "      <td>/r/Scotch/comments/2n32k5/review_bunnahabhain_18/</td>\n",
       "    </tr>\n",
       "  </tbody>\n",
       "</table>\n",
       "</div>"
      ],
      "text/plain": [
       "     scheme          netloc                                               path\n",
       "235   https  www.reddit.com  /r/Scotch/comments/whci9/aberlour_12_year_review/\n",
       "1104  https  www.reddit.com      /r/Scotch/comments/3266xh/review_ancnoc_12yo/\n",
       "4647  https  www.reddit.com  /r/Scotch/comments/2mt571/review_benromach_10y...\n",
       "5455  https  www.reddit.com  /r/Scotch/comments/2mwxzt/review_bowmore_darke...\n",
       "7373  https  www.reddit.com  /r/Scotch/comments/2n32k5/review_bunnahabhain_18/"
      ]
     },
     "execution_count": 45,
     "metadata": {},
     "output_type": "execute_result"
    }
   ],
   "source": [
    "invalid_rating_urls[['scheme', 'netloc', 'path']].head()"
   ]
  },
  {
   "cell_type": "markdown",
   "metadata": {},
   "source": [
    "Let's concat these dataframes together and then save the resulting dataframe as a csv."
   ]
  },
  {
   "cell_type": "code",
   "execution_count": 46,
   "metadata": {},
   "outputs": [],
   "source": [
    "processed_dataframe = pd.concat([invalid_rating_urls, valid_rating_urls])"
   ]
  },
  {
   "cell_type": "code",
   "execution_count": 47,
   "metadata": {},
   "outputs": [],
   "source": [
    "same_rows = processed_dataframe.shape[0] == whiskey_archive.shape[0]\n",
    "same_cols = processed_dataframe.shape[1] == whiskey_archive.shape[1]"
   ]
  },
  {
   "cell_type": "code",
   "execution_count": 48,
   "metadata": {},
   "outputs": [
    {
     "name": "stdout",
     "output_type": "stream",
     "text": [
      "Same number of rows and columns (row, col): (True, True)\n"
     ]
    }
   ],
   "source": [
    "print(\"Same number of rows and columns (row, col): (%s, %s)\" % (same_rows, same_cols))"
   ]
  },
  {
   "cell_type": "code",
   "execution_count": 49,
   "metadata": {},
   "outputs": [],
   "source": [
    "processed_dataframe.to_csv('../interim_data/preprocessed_review_data.csv', index=False)"
   ]
  },
  {
   "cell_type": "code",
   "execution_count": null,
   "metadata": {},
   "outputs": [],
   "source": []
  }
 ],
 "metadata": {
  "kernelspec": {
   "display_name": "Python 3",
   "language": "python",
   "name": "python3"
  },
  "language_info": {
   "codemirror_mode": {
    "name": "ipython",
    "version": 3
   },
   "file_extension": ".py",
   "mimetype": "text/x-python",
   "name": "python",
   "nbconvert_exporter": "python",
   "pygments_lexer": "ipython3",
   "version": "3.7.0"
  }
 },
 "nbformat": 4,
 "nbformat_minor": 2
}
